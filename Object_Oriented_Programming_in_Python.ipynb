{
  "nbformat": 4,
  "nbformat_minor": 0,
  "metadata": {
    "colab": {
      "provenance": [],
      "toc_visible": true,
      "authorship_tag": "ABX9TyMF1FMxJ4eHJ0YnO/0MbFrY",
      "include_colab_link": true
    },
    "kernelspec": {
      "name": "python3",
      "display_name": "Python 3"
    },
    "language_info": {
      "name": "python"
    }
  },
  "cells": [
    {
      "cell_type": "markdown",
      "metadata": {
        "id": "view-in-github",
        "colab_type": "text"
      },
      "source": [
        "<a href=\"https://colab.research.google.com/github/PaulToronto/DataCamp-Courses/blob/main/Object_Oriented_Programming_in_Python.ipynb\" target=\"_parent\"><img src=\"https://colab.research.google.com/assets/colab-badge.svg\" alt=\"Open In Colab\"/></a>"
      ]
    },
    {
      "cell_type": "markdown",
      "source": [
        "# Object-Oriented Programming in Python\n",
        "\n",
        "This notebook contains my notes from a DataCamp course:\n",
        "\n",
        "[Object-Oriented Programming in Python](https://app.datacamp.com/learn/courses/object-oriented-programming-in-python)"
      ],
      "metadata": {
        "id": "ow2gMfoXV6ai"
      }
    },
    {
      "cell_type": "markdown",
      "source": [
        "## OOP Fundamentals"
      ],
      "metadata": {
        "id": "2mcohzHDS1bn"
      }
    },
    {
      "cell_type": "markdown",
      "source": [
        "### What is OOP?\n",
        "\n",
        "- Procedural programming\n",
        "    - Code as a sequence of steps\n",
        "    - Great for data analysis\n",
        "- Object-oriented programming\n",
        "    - Code as interactions of objects\n",
        "    - Great for building frameworks and tools\n",
        "    - Maintainable and reusable code"
      ],
      "metadata": {
        "id": "WWa6faCdeOVI"
      }
    },
    {
      "cell_type": "markdown",
      "source": [
        "#### Objects as data structures\n",
        "\n",
        "- Objects incorportate \n",
        "    1. state\n",
        "    2. behaviour\n",
        "- **Encapsulation** \n",
        "    - bundles state and behaviour together"
      ],
      "metadata": {
        "id": "skH5ii9JfDtN"
      }
    },
    {
      "cell_type": "markdown",
      "source": [
        "#### Classes as blueprints\n",
        "\n",
        "- **Class**\n",
        "    - blueprint for objects outlining possible states and behaviour"
      ],
      "metadata": {
        "id": "WgZN8Owwfzpz"
      }
    },
    {
      "cell_type": "markdown",
      "source": [
        "#### Objects in Python\n",
        "\n",
        "- Everything in Python is an object\n",
        "- Every object has a class\n",
        "- Use `type()` to find the class"
      ],
      "metadata": {
        "id": "JawQ_oyBg6ev"
      }
    },
    {
      "cell_type": "code",
      "source": [
        "import numpy as np\n",
        "a = np.array([1, 2, 3, 4])\n",
        "type(a)"
      ],
      "metadata": {
        "colab": {
          "base_uri": "https://localhost:8080/"
        },
        "id": "Gh1pH1oChOop",
        "outputId": "c6eaeada-0188-45eb-e373-7a0a0044ca50"
      },
      "execution_count": 121,
      "outputs": [
        {
          "output_type": "execute_result",
          "data": {
            "text/plain": [
              "numpy.ndarray"
            ]
          },
          "metadata": {},
          "execution_count": 121
        }
      ]
    },
    {
      "cell_type": "markdown",
      "source": [
        "#### Attributes and methods\n",
        "\n",
        "- state information is contained in **attributes**\n",
        "- behaviour information is contained in **methods**"
      ],
      "metadata": {
        "id": "gEVMcI93hgPl"
      }
    },
    {
      "cell_type": "code",
      "source": [
        "# attribute\n",
        "a.shape"
      ],
      "metadata": {
        "colab": {
          "base_uri": "https://localhost:8080/"
        },
        "id": "9KhHW-cwiDJV",
        "outputId": "3314f255-17c1-4a0a-97dc-9a2b215671b9"
      },
      "execution_count": 122,
      "outputs": [
        {
          "output_type": "execute_result",
          "data": {
            "text/plain": [
              "(4,)"
            ]
          },
          "metadata": {},
          "execution_count": 122
        }
      ]
    },
    {
      "cell_type": "code",
      "source": [
        "# method\n",
        "a.reshape(2, 2)"
      ],
      "metadata": {
        "colab": {
          "base_uri": "https://localhost:8080/"
        },
        "id": "C02beGfAiTv4",
        "outputId": "6bdff120-7086-44c5-9f35-686a995a5098"
      },
      "execution_count": 123,
      "outputs": [
        {
          "output_type": "execute_result",
          "data": {
            "text/plain": [
              "array([[1, 2],\n",
              "       [3, 4]])"
            ]
          },
          "metadata": {},
          "execution_count": 123
        }
      ]
    },
    {
      "cell_type": "markdown",
      "source": [
        "#### List all the attributes of an object"
      ],
      "metadata": {
        "id": "axnwPsf1ioXS"
      }
    },
    {
      "cell_type": "code",
      "source": [
        "# dir(a)"
      ],
      "metadata": {
        "id": "L82lwkENisf9"
      },
      "execution_count": 124,
      "outputs": []
    },
    {
      "cell_type": "markdown",
      "source": [
        "### Class anatomy: attributes and methods"
      ],
      "metadata": {
        "id": "H1WwvygAmHRM"
      }
    },
    {
      "cell_type": "markdown",
      "source": [
        "#### A basic class"
      ],
      "metadata": {
        "id": "a4-87EodmwBk"
      }
    },
    {
      "cell_type": "code",
      "source": [
        "# an empty class\n",
        "class Customer:\n",
        "    pass"
      ],
      "metadata": {
        "id": "ai9GBwYEmyvF"
      },
      "execution_count": 125,
      "outputs": []
    },
    {
      "cell_type": "code",
      "source": [
        "# we can already create objects of the calss\n",
        "c1 = Customer()\n",
        "c2 = Customer()"
      ],
      "metadata": {
        "id": "llsEUO10m3m4"
      },
      "execution_count": 126,
      "outputs": []
    },
    {
      "cell_type": "code",
      "source": [
        "type(c1)"
      ],
      "metadata": {
        "colab": {
          "base_uri": "https://localhost:8080/"
        },
        "id": "erSm0H13nCRG",
        "outputId": "56b594b7-1350-4cdc-dd14-ceda4290073d"
      },
      "execution_count": 127,
      "outputs": [
        {
          "output_type": "execute_result",
          "data": {
            "text/plain": [
              "__main__.Customer"
            ]
          },
          "metadata": {},
          "execution_count": 127
        }
      ]
    },
    {
      "cell_type": "markdown",
      "source": [
        "#### A class with a method\n",
        "\n",
        "- a method defintion is a function definition within class\n",
        "- use `self` as the first argument in every method definition\n",
        "    - ignore `self` when calling the method"
      ],
      "metadata": {
        "id": "sM98DTBbnkMw"
      }
    },
    {
      "cell_type": "code",
      "source": [
        "class Customer:\n",
        "\n",
        "    def identify(self, name):\n",
        "        print(\"I am customer \" + name)"
      ],
      "metadata": {
        "id": "h9Axti0anmSo"
      },
      "execution_count": 128,
      "outputs": []
    },
    {
      "cell_type": "code",
      "source": [
        "c3 = Customer()\n",
        "type(c3)"
      ],
      "metadata": {
        "colab": {
          "base_uri": "https://localhost:8080/"
        },
        "id": "g_W6zAyZnxOk",
        "outputId": "01372dd2-01c4-4812-e0e8-754e19149832"
      },
      "execution_count": 129,
      "outputs": [
        {
          "output_type": "execute_result",
          "data": {
            "text/plain": [
              "__main__.Customer"
            ]
          },
          "metadata": {},
          "execution_count": 129
        }
      ]
    },
    {
      "cell_type": "code",
      "source": [
        "# ignore `self` when calling the method\n",
        "c3.identify('Paul')"
      ],
      "metadata": {
        "colab": {
          "base_uri": "https://localhost:8080/"
        },
        "id": "AmxnAne2n0Nk",
        "outputId": "1ef811b2-ee2f-4830-ded6-12cc866b807e"
      },
      "execution_count": 130,
      "outputs": [
        {
          "output_type": "stream",
          "name": "stdout",
          "text": [
            "I am customer Paul\n"
          ]
        }
      ]
    },
    {
      "cell_type": "markdown",
      "source": [
        "#### What is `self`?\n",
        "\n",
        "- Classes are templates\n",
        "    - Objects of a class don't yet exist when a class is being defined\n",
        "    - but we often need a way to refer to the data of a particular object within a class definition\n",
        "        - that is the purpose of `self`: as a stand-in for the future object\n",
        "        - we can use `self` to access attributes and call other methods from within the class definition even when no objects exist yet\n",
        "        - Python will handle `self` when the method is called from an object using dot syntax\n",
        "            - In fact using **object-dot-method** is equivalent to passing that object as an argument \n",
        "            - that's whey we don't specify it explicitly when calling the method from an existing object\n",
        "            - `cust.identify(\"Paul\")` will be interpreted as `Customer.identify(cust, \"Paul\")`"
      ],
      "metadata": {
        "id": "rZPlZgDFqYvQ"
      }
    },
    {
      "cell_type": "markdown",
      "source": [
        "#### We need attributes\n",
        "\n",
        "- **Encapsulation**: bundling data with methods that operate on that data\n",
        "- **attributes** are created by assignment, `=`, in methods\n",
        "- we can access this attribute with dot syntax: `cust.name`"
      ],
      "metadata": {
        "id": "_1tBMYIBszqq"
      }
    },
    {
      "cell_type": "code",
      "source": [
        "class Customer:\n",
        "    # set the name attribute of an object\n",
        "    def set_name(self, new_name):\n",
        "        self.name = new_name \n",
        "        # will create `name` when set_name is called\n",
        "        #   `name` will not appear in the dir() list \n",
        "        #   until `set_name` is called"
      ],
      "metadata": {
        "id": "Nx7CRVFstS4w"
      },
      "execution_count": 131,
      "outputs": []
    },
    {
      "cell_type": "code",
      "source": [
        "c4 = Customer()"
      ],
      "metadata": {
        "id": "Qnu-mvXwtk5s"
      },
      "execution_count": 132,
      "outputs": []
    },
    {
      "cell_type": "code",
      "source": [
        "type(c4)"
      ],
      "metadata": {
        "colab": {
          "base_uri": "https://localhost:8080/"
        },
        "id": "brPsSHZztnO8",
        "outputId": "82865742-79ee-4e15-ce97-dce31ab88807"
      },
      "execution_count": 133,
      "outputs": [
        {
          "output_type": "execute_result",
          "data": {
            "text/plain": [
              "__main__.Customer"
            ]
          },
          "metadata": {},
          "execution_count": 133
        }
      ]
    },
    {
      "cell_type": "code",
      "source": [
        "c4.set_name(\"Paul\")"
      ],
      "metadata": {
        "id": "55bYXspttpHE"
      },
      "execution_count": 134,
      "outputs": []
    },
    {
      "cell_type": "code",
      "source": [
        "c4.name"
      ],
      "metadata": {
        "colab": {
          "base_uri": "https://localhost:8080/",
          "height": 36
        },
        "id": "0ILt9O_ptuJ4",
        "outputId": "b74f6a8b-e74a-4f06-ac76-5919f59ad585"
      },
      "execution_count": 135,
      "outputs": [
        {
          "output_type": "execute_result",
          "data": {
            "text/plain": [
              "'Paul'"
            ],
            "application/vnd.google.colaboratory.intrinsic+json": {
              "type": "string"
            }
          },
          "metadata": {},
          "execution_count": 135
        }
      ]
    },
    {
      "cell_type": "code",
      "source": [
        "class Customer:\n",
        "    def set_name(self, new_name):\n",
        "        self.name = new_name\n",
        "\n",
        "    def identify(self):\n",
        "        print(\"I am customer \" + self.name)"
      ],
      "metadata": {
        "id": "qTYhhIccv0eo"
      },
      "execution_count": 136,
      "outputs": []
    },
    {
      "cell_type": "code",
      "source": [
        "c5 = Customer()\n",
        "\n",
        "c5.set_name(\"Paul\")\n",
        "c5.identify()"
      ],
      "metadata": {
        "colab": {
          "base_uri": "https://localhost:8080/"
        },
        "id": "O632m6-cwHfc",
        "outputId": "63877662-54ed-4d32-f826-f8946bdc4cdc"
      },
      "execution_count": 137,
      "outputs": [
        {
          "output_type": "stream",
          "name": "stdout",
          "text": [
            "I am customer Paul\n"
          ]
        }
      ]
    },
    {
      "cell_type": "code",
      "source": [
        "c5.name = \"Carlos\""
      ],
      "metadata": {
        "id": "zb85lbtd1wEJ"
      },
      "execution_count": 138,
      "outputs": []
    },
    {
      "cell_type": "code",
      "source": [
        "c5.identify()"
      ],
      "metadata": {
        "colab": {
          "base_uri": "https://localhost:8080/"
        },
        "id": "uqRvAJOH1y1a",
        "outputId": "c046ca2c-f9a6-4791-e48c-741fb50a06c3"
      },
      "execution_count": 139,
      "outputs": [
        {
          "output_type": "stream",
          "name": "stdout",
          "text": [
            "I am customer Carlos\n"
          ]
        }
      ]
    },
    {
      "cell_type": "code",
      "source": [
        "c6 = Customer()\n",
        "c6.name = \"Kim\""
      ],
      "metadata": {
        "id": "lk7_SLrk1-is"
      },
      "execution_count": 140,
      "outputs": []
    },
    {
      "cell_type": "code",
      "source": [
        "c6.identify()"
      ],
      "metadata": {
        "colab": {
          "base_uri": "https://localhost:8080/"
        },
        "id": "A-PVnrDY2Dtx",
        "outputId": "7ac01a32-2dbe-4e1f-81b9-23617c6fcdeb"
      },
      "execution_count": 141,
      "outputs": [
        {
          "output_type": "stream",
          "name": "stdout",
          "text": [
            "I am customer Kim\n"
          ]
        }
      ]
    },
    {
      "cell_type": "markdown",
      "source": [
        "#### Create your first class"
      ],
      "metadata": {
        "id": "Vt0f-BGC2esZ"
      }
    },
    {
      "cell_type": "code",
      "source": [
        "class Employee:\n",
        "    \n",
        "    def set_name(self, new_name):\n",
        "        self.name = new_name\n",
        "\n",
        "    def set_salary(self, new_salary):\n",
        "        self.salary = new_salary\n",
        "\n",
        "    def give_raise(self, amount):\n",
        "        self.salary += amount\n",
        "\n",
        "    def monthly_salary(self):\n",
        "        return self.salary / 12\n",
        "\n",
        "emp = Employee()\n",
        "emp.set_name('Korel Rossi')\n",
        "emp.set_salary(50000)\n",
        "\n",
        "print(emp.name, emp.salary)\n",
        "\n",
        "emp.salary += 1500\n",
        "\n",
        "print(emp.salary)\n",
        "print(emp.monthly_salary())"
      ],
      "metadata": {
        "colab": {
          "base_uri": "https://localhost:8080/"
        },
        "id": "GxG-1yuM2i2q",
        "outputId": "54c85946-6fc5-43c3-abac-c5e42fa4a290"
      },
      "execution_count": 142,
      "outputs": [
        {
          "output_type": "stream",
          "name": "stdout",
          "text": [
            "Korel Rossi 50000\n",
            "51500\n",
            "4291.666666666667\n"
          ]
        }
      ]
    },
    {
      "cell_type": "markdown",
      "source": [
        "### Class anatomy: the `__init__` constructor"
      ],
      "metadata": {
        "id": "STl167cZ9bFO"
      }
    },
    {
      "cell_type": "markdown",
      "source": [
        "#### Constructor\n",
        "\n",
        "- Add data to object when creating it\n",
        "- **Constructor** `__init__` method is called every time an object is created\n",
        "- the `__init__` constructor is also a good place to set default values for attributes\n",
        "- it is a best practice to define all attributes in the constructor\n",
        "    - makes code more useable and maintainable"
      ],
      "metadata": {
        "id": "UWWbskcI-22i"
      }
    },
    {
      "cell_type": "code",
      "source": [
        "class Customer:\n",
        "    def __init__(self, name):\n",
        "        self.name = name\n",
        "        print(\"The __init__ method was called\")"
      ],
      "metadata": {
        "id": "SwYu8OKKBBzR"
      },
      "execution_count": 143,
      "outputs": []
    },
    {
      "cell_type": "code",
      "source": [
        "c7 = Customer('Paul')"
      ],
      "metadata": {
        "colab": {
          "base_uri": "https://localhost:8080/"
        },
        "id": "4sqMbIoxBN4y",
        "outputId": "bc7f0ae0-5c36-42f2-9735-751e1f1d1ce9"
      },
      "execution_count": 144,
      "outputs": [
        {
          "output_type": "stream",
          "name": "stdout",
          "text": [
            "The __init__ method was called\n"
          ]
        }
      ]
    },
    {
      "cell_type": "code",
      "source": [
        "c7.name"
      ],
      "metadata": {
        "colab": {
          "base_uri": "https://localhost:8080/",
          "height": 36
        },
        "id": "Gpj9PpR1Bi9T",
        "outputId": "532fc9a3-5c9e-4692-e00b-ed86b1eb7da0"
      },
      "execution_count": 145,
      "outputs": [
        {
          "output_type": "execute_result",
          "data": {
            "text/plain": [
              "'Paul'"
            ],
            "application/vnd.google.colaboratory.intrinsic+json": {
              "type": "string"
            }
          },
          "metadata": {},
          "execution_count": 145
        }
      ]
    },
    {
      "cell_type": "code",
      "source": [
        "class Customer:\n",
        "    def __init__(self, name, salary):\n",
        "        self.name = name\n",
        "        self.salary = salary\n",
        "        print(\"The __init__ method was called\")"
      ],
      "metadata": {
        "id": "Clear_PxDqb6"
      },
      "execution_count": 146,
      "outputs": []
    },
    {
      "cell_type": "code",
      "source": [
        "c8 = Customer(\"Bobby\", 100000)"
      ],
      "metadata": {
        "colab": {
          "base_uri": "https://localhost:8080/"
        },
        "id": "b7MgAcmtECCP",
        "outputId": "cfec241e-90b4-465d-c7db-37e379df093a"
      },
      "execution_count": 147,
      "outputs": [
        {
          "output_type": "stream",
          "name": "stdout",
          "text": [
            "The __init__ method was called\n"
          ]
        }
      ]
    },
    {
      "cell_type": "code",
      "source": [
        "c8.name, c8.salary"
      ],
      "metadata": {
        "colab": {
          "base_uri": "https://localhost:8080/"
        },
        "id": "jPfkZy-JEevf",
        "outputId": "5f62cc46-996b-40c4-8577-bcdae9171b4c"
      },
      "execution_count": 148,
      "outputs": [
        {
          "output_type": "execute_result",
          "data": {
            "text/plain": [
              "('Bobby', 100000)"
            ]
          },
          "metadata": {},
          "execution_count": 148
        }
      ]
    },
    {
      "cell_type": "code",
      "source": [
        "# a __init__ constructor sets default value\n",
        "class Customer:\n",
        "    def __init__(self, name, balance=0):\n",
        "        self.name = name\n",
        "        self.balance = balance \n",
        "        print(\"The __init__ method was called\")"
      ],
      "metadata": {
        "id": "mP3jUlk4GMGE"
      },
      "execution_count": 149,
      "outputs": []
    },
    {
      "cell_type": "code",
      "source": [
        "c9 = Customer(\"Paul\")\n",
        "c9.name, c9.balance"
      ],
      "metadata": {
        "colab": {
          "base_uri": "https://localhost:8080/"
        },
        "id": "ZKy0cZyKHEZS",
        "outputId": "aeeb3b5a-0728-4c9f-e0af-675ce189b81e"
      },
      "execution_count": 150,
      "outputs": [
        {
          "output_type": "stream",
          "name": "stdout",
          "text": [
            "The __init__ method was called\n"
          ]
        },
        {
          "output_type": "execute_result",
          "data": {
            "text/plain": [
              "('Paul', 0)"
            ]
          },
          "metadata": {},
          "execution_count": 150
        }
      ]
    },
    {
      "cell_type": "code",
      "source": [
        "c10 = Customer(\"Jane\", 100)\n",
        "c10.name, c10.balance"
      ],
      "metadata": {
        "colab": {
          "base_uri": "https://localhost:8080/"
        },
        "id": "Iwkt8_cDHJER",
        "outputId": "e34297e8-2fae-4e51-bb5c-492df8a09144"
      },
      "execution_count": 151,
      "outputs": [
        {
          "output_type": "stream",
          "name": "stdout",
          "text": [
            "The __init__ method was called\n"
          ]
        },
        {
          "output_type": "execute_result",
          "data": {
            "text/plain": [
              "('Jane', 100)"
            ]
          },
          "metadata": {},
          "execution_count": 151
        }
      ]
    },
    {
      "cell_type": "markdown",
      "source": [
        "#### Best Practices\n",
        "\n",
        "1. Initialize attributes in `__init__()`\n",
        "2. Naming\n",
        "    - `CamelCase` for classes\n",
        "    - `lower_snake_case` for functions and attributes\n",
        "3. Keep `self` as `self`\n",
        "    - the choice of `self` is only a convention, any other name can be used, but that would be confusing\n",
        "4. Use docstrings\n",
        "    - classes, like functions, allow for docstrings\n",
        "    - use them because they are displayed when `help()` is called on the object"
      ],
      "metadata": {
        "id": "zFmcirqTIQ_L"
      }
    },
    {
      "cell_type": "code",
      "source": [
        "class MyClass:\n",
        "    \"\"\"I am a docstring\"\"\"\n",
        "    pass"
      ],
      "metadata": {
        "id": "gaS3-TpCJhlb"
      },
      "execution_count": 152,
      "outputs": []
    },
    {
      "cell_type": "markdown",
      "source": [
        "#### Add a class constructor"
      ],
      "metadata": {
        "id": "c8J2NLK4LVXE"
      }
    },
    {
      "cell_type": "code",
      "source": [
        "from datetime import datetime\n",
        "\n",
        "class Employee:\n",
        "\n",
        "    def __init__(self, name, salary=0):\n",
        "        self.name = name\n",
        "        \n",
        "        if salary > 0:\n",
        "          self.salary = salary\n",
        "        else:\n",
        "          self.salary = 0\n",
        "          print(\"Invalid salary!\")\n",
        "          \n",
        "        self.hire_date = datetime.today()\n",
        "    \n",
        "    def give_raise(self, amount):\n",
        "        self.salary += amount\n",
        "\n",
        "    def monthly_salary(self):\n",
        "        return self.salary/12"
      ],
      "metadata": {
        "id": "Q4Mu3--wLYGO"
      },
      "execution_count": 153,
      "outputs": []
    },
    {
      "cell_type": "code",
      "source": [
        "emp = Employee(\"Korel Rossi\")\n",
        "print(emp.name, emp.salary, emp.hire_date)"
      ],
      "metadata": {
        "colab": {
          "base_uri": "https://localhost:8080/"
        },
        "id": "t-SQ1suxNGEz",
        "outputId": "ce9c5257-9b26-4b41-d698-9f1732e9e4b9"
      },
      "execution_count": 154,
      "outputs": [
        {
          "output_type": "stream",
          "name": "stdout",
          "text": [
            "Invalid salary!\n",
            "Korel Rossi 0 2023-01-01 19:09:58.005473\n"
          ]
        }
      ]
    },
    {
      "cell_type": "code",
      "source": [
        "emp2 = Employee(\"Paul\", 100)\n",
        "print(emp2.name, emp2.salary, emp.hire_date)"
      ],
      "metadata": {
        "colab": {
          "base_uri": "https://localhost:8080/"
        },
        "id": "GEIB1-DINPtx",
        "outputId": "1481e176-2b2f-4613-c7e9-1816a206f122"
      },
      "execution_count": 155,
      "outputs": [
        {
          "output_type": "stream",
          "name": "stdout",
          "text": [
            "Paul 100 2023-01-01 19:09:58.005473\n"
          ]
        }
      ]
    },
    {
      "cell_type": "code",
      "source": [
        "emp3 = Employee(\"Carlos\", -10)\n",
        "print(emp3.name, emp3.salary, emp.hire_date)"
      ],
      "metadata": {
        "colab": {
          "base_uri": "https://localhost:8080/"
        },
        "id": "lzMu-JavNZC4",
        "outputId": "830e5dcd-50d8-4695-dffa-89d7cf454515"
      },
      "execution_count": 156,
      "outputs": [
        {
          "output_type": "stream",
          "name": "stdout",
          "text": [
            "Invalid salary!\n",
            "Carlos 0 2023-01-01 19:09:58.005473\n"
          ]
        }
      ]
    },
    {
      "cell_type": "markdown",
      "source": [
        "#### Write a class from scratch"
      ],
      "metadata": {
        "id": "MEvxS4vGRjES"
      }
    },
    {
      "cell_type": "code",
      "source": [
        "class Point:\n",
        "\n",
        "    def __init__(self, x=0.0, y=0.0):\n",
        "        self.x = x\n",
        "        self.y = y \n",
        "\n",
        "    def distance_to_origin(self):\n",
        "        return (self.x**2 + self.y**2) ** (1/2)\n",
        "\n",
        "    def reflect(self, axis):\n",
        "        if axis == \"x\":\n",
        "            self.y = -self.y \n",
        "        elif axis == \"y\":\n",
        "            self.x = -self.x \n",
        "        else:\n",
        "            print(\"Error: axis is invalid\")"
      ],
      "metadata": {
        "id": "XE1nJmU0Rng1"
      },
      "execution_count": 157,
      "outputs": []
    },
    {
      "cell_type": "code",
      "source": [
        "pt = Point(x=3.0)\n",
        "pt.reflect(\"y\")\n",
        "print(pt.x, pt.y)\n",
        "pt.y = 4.0\n",
        "print(pt.distance_to_origin())"
      ],
      "metadata": {
        "colab": {
          "base_uri": "https://localhost:8080/"
        },
        "id": "Or-YfITNRvRi",
        "outputId": "09888858-ae8f-486b-bdf8-abeb8138ba25"
      },
      "execution_count": 158,
      "outputs": [
        {
          "output_type": "stream",
          "name": "stdout",
          "text": [
            "-3.0 0.0\n",
            "5.0\n"
          ]
        }
      ]
    },
    {
      "cell_type": "markdown",
      "source": [
        "## Inheritance and Polymorphism"
      ],
      "metadata": {
        "id": "61q7stWGSd9S"
      }
    },
    {
      "cell_type": "markdown",
      "source": [
        "### Instance and class data"
      ],
      "metadata": {
        "id": "oRAWN8U_UDv5"
      }
    },
    {
      "cell_type": "code",
      "source": [
        "class Employee:\n",
        "    # A class attribute\n",
        "    MIN_SALARY = 30000 # <--- no `self`\n",
        "\n",
        "    def __init__(self, name, salary):\n",
        "        self.name = name\n",
        "\n",
        "        if salary >= Employee.MIN_SALARY:\n",
        "            self.salary = salary\n",
        "        else:\n",
        "            self.salary = Employee.MIN_SALARY\n",
        "    \n",
        "emp1 = Employee('Teo Mille', 50000)\n",
        "emp2 = Employee('Marta Popov', 20000)\n",
        "\n",
        "display(emp1.name, emp1.salary, emp1.MIN_SALARY)\n",
        "display(emp2.name, emp2.salary, emp2.MIN_SALARY)"
      ],
      "metadata": {
        "colab": {
          "base_uri": "https://localhost:8080/",
          "height": 125
        },
        "id": "aygg4Ags_TUC",
        "outputId": "9dfe5910-31c6-456d-98ed-e43f3efc54d2"
      },
      "execution_count": 159,
      "outputs": [
        {
          "output_type": "display_data",
          "data": {
            "text/plain": [
              "'Teo Mille'"
            ],
            "application/vnd.google.colaboratory.intrinsic+json": {
              "type": "string"
            }
          },
          "metadata": {}
        },
        {
          "output_type": "display_data",
          "data": {
            "text/plain": [
              "50000"
            ]
          },
          "metadata": {}
        },
        {
          "output_type": "display_data",
          "data": {
            "text/plain": [
              "30000"
            ]
          },
          "metadata": {}
        },
        {
          "output_type": "display_data",
          "data": {
            "text/plain": [
              "'Marta Popov'"
            ],
            "application/vnd.google.colaboratory.intrinsic+json": {
              "type": "string"
            }
          },
          "metadata": {}
        },
        {
          "output_type": "display_data",
          "data": {
            "text/plain": [
              "30000"
            ]
          },
          "metadata": {}
        },
        {
          "output_type": "display_data",
          "data": {
            "text/plain": [
              "30000"
            ]
          },
          "metadata": {}
        }
      ]
    },
    {
      "cell_type": "markdown",
      "source": [
        "#### Instance-level data\n",
        "\n",
        "- In the code above, `name` and `salary` are **instance attributes**\n",
        "- `self` binds to an instance "
      ],
      "metadata": {
        "id": "S7Su1cX5_yWQ"
      }
    },
    {
      "cell_type": "markdown",
      "source": [
        "#### Class-level data\n",
        "\n",
        "- In the code above, `MIN_SALARY` is a **class attribute**\n",
        "- Data shared among all instances of a class\n",
        "- Define class attributes in the body of a class\n",
        "- This is also a **global variable** within the class\n",
        "- Note that we don't use `self` to define class attributes\n",
        "- We can use the class name to access these attributes"
      ],
      "metadata": {
        "id": "g0XIEVfaAIM-"
      }
    },
    {
      "cell_type": "markdown",
      "source": [
        "#### Why use class attributes? (Global constants related to the class)\n",
        "\n",
        "- used for minimal or maximal values for attributes\n",
        "- for commonly used values and constants\n",
        "    - `pi` might be used in a `Circle` class"
      ],
      "metadata": {
        "id": "BRiIooWyCx0i"
      }
    },
    {
      "cell_type": "markdown",
      "source": [
        "#### Class methods\n",
        "\n",
        "- Regular methods are already shared between instances\n",
        "    - The same code gets executed for every instance\n",
        "    - The only difference is the data that is fed into it\n",
        "- It is possible to define methods bound to class rather than instances\n",
        "    - But these methods have a narrow application scope because they are not able to use any instance-level data\n",
        "    - To do this start with a `@classmethod` decorator\n",
        "    - Instead of `self`, use `cls`\n",
        "    - To call these methods, use **class-dot-method** syntax rather that **object-dot-method** syntax"
      ],
      "metadata": {
        "id": "l1-EbC2aDYpb"
      }
    },
    {
      "cell_type": "code",
      "source": [
        "class MyClass:\n",
        "\n",
        "    @classmethod\n",
        "    def my_awesome_method(cls, word):\n",
        "        # can't use any instance attributes\n",
        "        print(word)"
      ],
      "metadata": {
        "id": "19zmeumlEn6A"
      },
      "execution_count": 160,
      "outputs": []
    },
    {
      "cell_type": "code",
      "source": [
        "MyClass.my_awesome_method(\"hello\")"
      ],
      "metadata": {
        "colab": {
          "base_uri": "https://localhost:8080/"
        },
        "id": "xo07Iq38E5bo",
        "outputId": "c7323ca0-dcf9-4fd3-a03f-9559a3e67dee"
      },
      "execution_count": 161,
      "outputs": [
        {
          "output_type": "stream",
          "name": "stdout",
          "text": [
            "hello\n"
          ]
        }
      ]
    },
    {
      "cell_type": "code",
      "source": [
        "mc = MyClass()"
      ],
      "metadata": {
        "id": "BA5HeeSXE9N3"
      },
      "execution_count": 162,
      "outputs": []
    },
    {
      "cell_type": "code",
      "source": [
        "mc.my_awesome_method(\"goodbye\")"
      ],
      "metadata": {
        "colab": {
          "base_uri": "https://localhost:8080/"
        },
        "id": "hJNybUqAFA4B",
        "outputId": "27b9f939-2556-4604-f379-a60e0f29e44f"
      },
      "execution_count": 163,
      "outputs": [
        {
          "output_type": "stream",
          "name": "stdout",
          "text": [
            "goodbye\n"
          ]
        }
      ]
    },
    {
      "cell_type": "markdown",
      "source": [
        "#### Alternative constructors\n",
        "\n",
        "- Alternative constructors are the main use case for class methods\n",
        "- A class can only have one `__init__` method, but there might be multiple ways to initialize an object"
      ],
      "metadata": {
        "id": "J945wlo8Fdrt"
      }
    },
    {
      "cell_type": "code",
      "source": [
        "import base64\n",
        "import requests\n",
        "\n",
        "class Employee:\n",
        "   \n",
        "    MIN_SALARY = 30000\n",
        "\n",
        "    def __init__(self, name, salary):\n",
        "        self.name = name\n",
        "\n",
        "        if salary >= Employee.MIN_SALARY:\n",
        "            self.salary = salary\n",
        "        else:\n",
        "            self.salary = Employee.MIN_SALARY\n",
        "\n",
        "    # we can't use a regular method for an alternate \n",
        "    #   constructor, because an object has not\n",
        "    #   been created yet\n",
        "    @classmethod \n",
        "    def from_file(cls, filename):\n",
        "        req = requests.get(filename)\n",
        "        name = req.text\n",
        "        # the cls in the next line refers to the class\n",
        "        #  so it will call the `__init__` constructor\n",
        "        return cls(name, 70000)"
      ],
      "metadata": {
        "id": "PGM2wGE8F9W3"
      },
      "execution_count": 164,
      "outputs": []
    },
    {
      "cell_type": "code",
      "source": [
        "path = 'https://raw.githubusercontent.com/PaulToronto/'\n",
        "path += 'Math-and-Data-Science-Reference/main/'\n",
        "path += 'files/myfile.txt'"
      ],
      "metadata": {
        "id": "mu8t0aSPL0yq"
      },
      "execution_count": 165,
      "outputs": []
    },
    {
      "cell_type": "code",
      "source": [
        "emp1 = Employee(\"Paul\", 60000)\n",
        "emp2 = Employee.from_file(path)\n",
        "print(emp1.name, emp1.salary)\n",
        "print(emp2.name, emp2.salary)"
      ],
      "metadata": {
        "colab": {
          "base_uri": "https://localhost:8080/"
        },
        "id": "yxYHXJNRL-Gl",
        "outputId": "8faa781c-c800-4fa0-9af9-f1013cbf1485"
      },
      "execution_count": 166,
      "outputs": [
        {
          "output_type": "stream",
          "name": "stdout",
          "text": [
            "Paul 60000\n",
            "Carlos 70000\n"
          ]
        }
      ]
    },
    {
      "cell_type": "markdown",
      "source": [
        "#### Class-level attributes"
      ],
      "metadata": {
        "id": "Egzrpo4VQ862"
      }
    },
    {
      "cell_type": "code",
      "source": [
        "# Create a Player class\n",
        "#  - that has a class attribute MAX_POSITION \n",
        "#    with value 10\n",
        "#  - and an __init__ method that sets the \n",
        "#    position instance to 0\n",
        "class Player:\n",
        "\n",
        "    MAX_POSITION = 10\n",
        "    MAX_SPEED = 3\n",
        "\n",
        "    def __init__(self):\n",
        "        self.position = 0\n",
        "\n",
        "    # Add a move() method with steps parameter\n",
        "    def move(self, steps):\n",
        "        if self.position + steps < Player.MAX_POSITION:\n",
        "            self.position += steps\n",
        "        else:\n",
        "            self.position = Player.MAX_POSITION\n",
        "\n",
        "    # This method provides a rudimentary visualization in the console    \n",
        "    def draw(self):\n",
        "        drawing = \"-\" * self.position + \"|\" +\"-\"*(Player.MAX_POSITION - self.position)\n",
        "        print(drawing)"
      ],
      "metadata": {
        "id": "SQGA9rvr9m8V"
      },
      "execution_count": 167,
      "outputs": []
    },
    {
      "cell_type": "code",
      "source": [
        "# Print Player.MAX_POSITION       \n",
        "print(Player.MAX_POSITION)\n",
        "\n",
        "# Create a player p and print its MAX_POSITITON\n",
        "p = Player()\n",
        "print(p.MAX_POSITION)"
      ],
      "metadata": {
        "colab": {
          "base_uri": "https://localhost:8080/"
        },
        "id": "VBdNrQMl_VCT",
        "outputId": "8103fb09-a6ba-405c-df9e-9476568b1b01"
      },
      "execution_count": 168,
      "outputs": [
        {
          "output_type": "stream",
          "name": "stdout",
          "text": [
            "10\n",
            "10\n"
          ]
        }
      ]
    },
    {
      "cell_type": "code",
      "source": [
        "p.draw()"
      ],
      "metadata": {
        "colab": {
          "base_uri": "https://localhost:8080/"
        },
        "id": "b6VLJPvw_XRu",
        "outputId": "aad31c3c-b309-4966-ceb1-28f43eafeca4"
      },
      "execution_count": 169,
      "outputs": [
        {
          "output_type": "stream",
          "name": "stdout",
          "text": [
            "|----------\n"
          ]
        }
      ]
    },
    {
      "cell_type": "code",
      "source": [
        "p.move(4)\n",
        "p.draw()"
      ],
      "metadata": {
        "colab": {
          "base_uri": "https://localhost:8080/"
        },
        "id": "V2jj1K2T_iFD",
        "outputId": "fe094db5-95a7-4fa3-ec82-e95fd4f5db82"
      },
      "execution_count": 170,
      "outputs": [
        {
          "output_type": "stream",
          "name": "stdout",
          "text": [
            "----|------\n"
          ]
        }
      ]
    },
    {
      "cell_type": "code",
      "source": [
        "p.move(1)\n",
        "p.draw()"
      ],
      "metadata": {
        "colab": {
          "base_uri": "https://localhost:8080/"
        },
        "id": "OGFGNZDh_mbq",
        "outputId": "c7e9b852-5553-4543-f40a-bf726722d982"
      },
      "execution_count": 171,
      "outputs": [
        {
          "output_type": "stream",
          "name": "stdout",
          "text": [
            "-----|-----\n"
          ]
        }
      ]
    },
    {
      "cell_type": "code",
      "source": [
        "p.move(4)\n",
        "p.draw()"
      ],
      "metadata": {
        "colab": {
          "base_uri": "https://localhost:8080/"
        },
        "id": "e54Tr_EB_pc4",
        "outputId": "004c0a81-4998-46e6-f993-e6e29da1996d"
      },
      "execution_count": 172,
      "outputs": [
        {
          "output_type": "stream",
          "name": "stdout",
          "text": [
            "---------|-\n"
          ]
        }
      ]
    },
    {
      "cell_type": "code",
      "source": [
        "p.move(3)\n",
        "p.draw()"
      ],
      "metadata": {
        "colab": {
          "base_uri": "https://localhost:8080/"
        },
        "id": "28Cd72CT_tcB",
        "outputId": "c782651d-39c2-4caa-dd13-5eb78fe01fd5"
      },
      "execution_count": 173,
      "outputs": [
        {
          "output_type": "stream",
          "name": "stdout",
          "text": [
            "----------|\n"
          ]
        }
      ]
    },
    {
      "cell_type": "markdown",
      "source": [
        "#### Changing class attributes"
      ],
      "metadata": {
        "id": "6X8cxKcGBl6R"
      }
    },
    {
      "cell_type": "code",
      "source": [
        "# Create Players p1 and p2\n",
        "p1 = Player()\n",
        "p2 = Player()\n",
        "\n",
        "print(\"MAX_SPEED of p1 and p2 before assignment:\")\n",
        "# Print p1.MAX_SPEED and p2.MAX_SPEED\n",
        "print(p1.MAX_SPEED)\n",
        "print(p2.MAX_SPEED)\n",
        "\n",
        "# Assign 7 to p1.MAX_SPEED\n",
        "p1.MAX_SPEED = 7\n",
        "\n",
        "print(\"MAX_SPEED of p1 and p2 after assignment:\")\n",
        "# Print p1.MAX_SPEED and p2.MAX_SPEED\n",
        "print(p1.MAX_SPEED)\n",
        "print(p2.MAX_SPEED)\n",
        "\n",
        "print(\"MAX_SPEED of Player:\")\n",
        "# Print Player.MAX_SPEED\n",
        "print(Player.MAX_SPEED)"
      ],
      "metadata": {
        "colab": {
          "base_uri": "https://localhost:8080/"
        },
        "id": "i1L3ItIeCNva",
        "outputId": "9d68baa8-84eb-49cc-ecbe-b6abf650f9ee"
      },
      "execution_count": 174,
      "outputs": [
        {
          "output_type": "stream",
          "name": "stdout",
          "text": [
            "MAX_SPEED of p1 and p2 before assignment:\n",
            "3\n",
            "3\n",
            "MAX_SPEED of p1 and p2 after assignment:\n",
            "7\n",
            "3\n",
            "MAX_SPEED of Player:\n",
            "3\n"
          ]
        }
      ]
    },
    {
      "cell_type": "markdown",
      "source": [
        "##### What happened?\n",
        "\n",
        "Python created a new instance attribute in `p1`, also called it `MAX_SPEED`, and assigned `7` to it, without touching the class attribute."
      ],
      "metadata": {
        "id": "7eYNJZ8nC-Pt"
      }
    },
    {
      "cell_type": "code",
      "source": [
        "p1, p2 = Player(), Player()\n",
        "\n",
        "print(\"MAX_SPEED of p1 and p2 before assignment:\")\n",
        "print(p1.MAX_SPEED)\n",
        "print(p2.MAX_SPEED)\n",
        "\n",
        "# ---THIS LINE WAS MODIFIED--- \n",
        "Player.MAX_SPEED = 7\n",
        "\n",
        "print(\"MAX_SPEED of p1 and p2 after assignment:\")\n",
        "print(p1.MAX_SPEED)\n",
        "print(p2.MAX_SPEED)\n",
        "\n",
        "print(\"MAX_SPEED of Player:\")\n",
        "print(Player.MAX_SPEED)"
      ],
      "metadata": {
        "colab": {
          "base_uri": "https://localhost:8080/"
        },
        "id": "fG68e96lDcgh",
        "outputId": "823e1ec1-af40-4638-ea7b-f859f3dce0ce"
      },
      "execution_count": 175,
      "outputs": [
        {
          "output_type": "stream",
          "name": "stdout",
          "text": [
            "MAX_SPEED of p1 and p2 before assignment:\n",
            "3\n",
            "3\n",
            "MAX_SPEED of p1 and p2 after assignment:\n",
            "7\n",
            "7\n",
            "MAX_SPEED of Player:\n",
            "7\n"
          ]
        }
      ]
    },
    {
      "cell_type": "markdown",
      "source": [
        "Not obvious, right? But it makes sense, when you think about it! You shouldn't be able to change the data in all the instances of the class through a single instance. Imagine if you could change the time on all the computers in the world by changing the time on your own computer! If you want to change the value of the class attribute at runtime, you need to do it by referring to the class name, not through an instance."
      ],
      "metadata": {
        "id": "qtQBXPF-Dx-n"
      }
    },
    {
      "cell_type": "markdown",
      "source": [
        "#### Alternative constructors"
      ],
      "metadata": {
        "id": "SLVfFKkPFxRE"
      }
    },
    {
      "cell_type": "code",
      "source": [
        "class BetterDate:    \n",
        "    # Constructor\n",
        "    def __init__(self, year, month, day):\n",
        "      # Recall that Python allows multiple variable assignments in one line\n",
        "      self.year, self.month, self.day = year, month, day\n",
        "    \n",
        "    # Define a class method from_str\n",
        "    @classmethod\n",
        "    def from_str(cls, datestr):\n",
        "        # Split the string at \"-\" and convert each part to integer\n",
        "        year, month, day = map(int, datestr.split(\"-\"))\n",
        "        # Return the class instance\n",
        "        return cls(year, month, day)\n",
        "\n",
        "    # Define a class method from_datetime accepting a datetime object\n",
        "    @classmethod\n",
        "    def from_datetime(cls, datetimeobj):\n",
        "        year, month, day = datetimeobj.year, datetimeobj.month, datetimeobj.day\n",
        "        return cls(year, month, day)"
      ],
      "metadata": {
        "id": "c3UTZ7e-F1bn"
      },
      "execution_count": 176,
      "outputs": []
    },
    {
      "cell_type": "code",
      "source": [
        "bd1 = BetterDate(2020, 4, 30)\n",
        "print(bd1.year, bd1.month, bd1.day)"
      ],
      "metadata": {
        "colab": {
          "base_uri": "https://localhost:8080/"
        },
        "id": "13CIGCeBF3mT",
        "outputId": "7c0630e3-9749-4d0f-e966-46bdcb3586d9"
      },
      "execution_count": 177,
      "outputs": [
        {
          "output_type": "stream",
          "name": "stdout",
          "text": [
            "2020 4 30\n"
          ]
        }
      ]
    },
    {
      "cell_type": "code",
      "source": [
        "bd2 = BetterDate.from_str('2020-04-30')\n",
        "print(bd2.year, bd2.month, bd2.day)"
      ],
      "metadata": {
        "colab": {
          "base_uri": "https://localhost:8080/"
        },
        "id": "qksJ47QEGEYv",
        "outputId": "74763aa9-15b9-4ba6-f0f1-b03471c9e396"
      },
      "execution_count": 178,
      "outputs": [
        {
          "output_type": "stream",
          "name": "stdout",
          "text": [
            "2020 4 30\n"
          ]
        }
      ]
    },
    {
      "cell_type": "code",
      "source": [
        "today = datetime.today()\n",
        "bd3 = BetterDate.from_datetime(today)\n",
        "print(bd3.year, bd3.month, bd3.day)"
      ],
      "metadata": {
        "colab": {
          "base_uri": "https://localhost:8080/"
        },
        "id": "Wfsq-5cmG-HK",
        "outputId": "0ce264dd-9d19-49ea-b07a-9b030fb52539"
      },
      "execution_count": 179,
      "outputs": [
        {
          "output_type": "stream",
          "name": "stdout",
          "text": [
            "2023 1 1\n"
          ]
        }
      ]
    },
    {
      "cell_type": "markdown",
      "source": [
        "### Class inheritance\n",
        "\n",
        "- OOP is fundamentally about code reuse\n",
        "- Modules are great for fixed functionality\n",
        "- OOP is great for cutomizing functionality\n",
        "- You may find yourself writing the same code repeatedly"
      ],
      "metadata": {
        "id": "WemtW7tnJ5RG"
      }
    },
    {
      "cell_type": "markdown",
      "source": [
        "#### Inheritance\n",
        "\n",
        "- `New class functionality = Old class functionality + extra`\n",
        "- **Class inheritance** is a mechanisim by which we can define a new class that gets all the functionality of another class plus something extra\n",
        "    - without re-implementing the code"
      ],
      "metadata": {
        "id": "KeLj5cMFcII-"
      }
    },
    {
      "cell_type": "markdown",
      "source": [
        "##### Example\n",
        "\n",
        "- `BankAccount` class\n",
        "    1. `balance` attribute\n",
        "    2. `withdraw()` method\n",
        "- `SavingsAccount` class\n",
        "    1. has what a `BankAccount` class has, plus\n",
        "    2. `interest_rate` attribute\n",
        "    3. `compute_interest()` method\n",
        "- `ChequingAccount` class\n",
        "    1. has what a `BankAccount` class has, plus\n",
        "    2. `limit` attribute\n",
        "    3. `deposit()` method\n",
        "    4. the `withdraw()` class is a modified version of the same method in the `BankAccount` class, maybe it charges a fee for withdrawals\n",
        "\n",
        "It makes sense to reuse the code in the `BankAccount` class when create the `SavingsAccount` and `ChequingAccount` classes"
      ],
      "metadata": {
        "id": "lt4k9FCUdHA-"
      }
    },
    {
      "cell_type": "code",
      "source": [
        "class BankAccount:\n",
        "    def __init__(self, balance):\n",
        "        self.balance = balance\n",
        "\n",
        "    def withdraw(self, amount):\n",
        "        self.balance -= amount\n",
        "\n",
        "# Empty class inherited from BankAccount\n",
        "class SavingsAccount(BankAccount):\n",
        "    pass"
      ],
      "metadata": {
        "id": "Ot27J0D3gDO-"
      },
      "execution_count": 180,
      "outputs": []
    },
    {
      "cell_type": "markdown",
      "source": [
        "##### Child class\n",
        "\n",
        "- The child class has all of the parent data\n",
        "- This is because a `SavingsAccount` **is a** `BankAccount`\n",
        "    - Inheritance: \"is-a\" relationship"
      ],
      "metadata": {
        "id": "cK-pt4oxhh5k"
      }
    },
    {
      "cell_type": "code",
      "source": [
        "savAcc = SavingsAccount(1000)\n",
        "type(savAcc)"
      ],
      "metadata": {
        "colab": {
          "base_uri": "https://localhost:8080/"
        },
        "id": "M02cXWm7hr9a",
        "outputId": "5204ba26-939b-4907-d45a-4e6ff6b24fca"
      },
      "execution_count": 181,
      "outputs": [
        {
          "output_type": "execute_result",
          "data": {
            "text/plain": [
              "__main__.SavingsAccount"
            ]
          },
          "metadata": {},
          "execution_count": 181
        }
      ]
    },
    {
      "cell_type": "code",
      "source": [
        "print(savAcc.balance)\n",
        "savAcc.withdraw(100)\n",
        "print(savAcc.balance)"
      ],
      "metadata": {
        "colab": {
          "base_uri": "https://localhost:8080/"
        },
        "id": "SvY3VDwUh3Te",
        "outputId": "a2562336-8017-4dca-9e1f-fdeedf07e421"
      },
      "execution_count": 182,
      "outputs": [
        {
          "output_type": "stream",
          "name": "stdout",
          "text": [
            "1000\n",
            "900\n"
          ]
        }
      ]
    },
    {
      "cell_type": "markdown",
      "source": [
        "##### Inheritance: \"is-a\" relationship"
      ],
      "metadata": {
        "id": "ZskMucLHjfF6"
      }
    },
    {
      "cell_type": "code",
      "source": [
        "isinstance(savAcc, SavingsAccount), isinstance(savAcc, BankAccount)"
      ],
      "metadata": {
        "colab": {
          "base_uri": "https://localhost:8080/"
        },
        "id": "tRlAwxJnjAil",
        "outputId": "6bf4c052-cb2b-44c1-a47a-a069a9f23fe0"
      },
      "execution_count": 183,
      "outputs": [
        {
          "output_type": "execute_result",
          "data": {
            "text/plain": [
              "(True, True)"
            ]
          },
          "metadata": {},
          "execution_count": 183
        }
      ]
    },
    {
      "cell_type": "code",
      "source": [
        "acc = BankAccount(100)\n",
        "type(acc)"
      ],
      "metadata": {
        "colab": {
          "base_uri": "https://localhost:8080/"
        },
        "id": "XPMb2LIojJ9f",
        "outputId": "e1c944ee-7201-4031-ffda-13dd0d8f5c39"
      },
      "execution_count": 184,
      "outputs": [
        {
          "output_type": "execute_result",
          "data": {
            "text/plain": [
              "__main__.BankAccount"
            ]
          },
          "metadata": {},
          "execution_count": 184
        }
      ]
    },
    {
      "cell_type": "code",
      "source": [
        "isinstance(acc, SavingsAccount), isinstance(acc, BankAccount)"
      ],
      "metadata": {
        "colab": {
          "base_uri": "https://localhost:8080/"
        },
        "id": "Ush04dvyjwmR",
        "outputId": "a7888f0c-24a4-4fc7-cd30-c5ec5987fb48"
      },
      "execution_count": 185,
      "outputs": [
        {
          "output_type": "execute_result",
          "data": {
            "text/plain": [
              "(False, True)"
            ]
          },
          "metadata": {},
          "execution_count": 185
        }
      ]
    },
    {
      "cell_type": "markdown",
      "source": [
        "#### Understanding inheritance"
      ],
      "metadata": {
        "id": "Z0S6L_TRkCCa"
      }
    },
    {
      "cell_type": "code",
      "source": [
        "class Counter:\n",
        "    def __init__(self, count):\n",
        "        self.count = count\n",
        "\n",
        "    def add_counts(self, n):\n",
        "        self.count += n\n",
        "\n",
        "class Indexer(Counter):\n",
        "    pass"
      ],
      "metadata": {
        "id": "CCCOLfksgWvj"
      },
      "execution_count": 186,
      "outputs": []
    },
    {
      "cell_type": "code",
      "source": [
        "ind = Indexer(10)"
      ],
      "metadata": {
        "id": "QnM5wtVrgl6u"
      },
      "execution_count": 187,
      "outputs": []
    },
    {
      "cell_type": "code",
      "source": [
        "ind.count"
      ],
      "metadata": {
        "colab": {
          "base_uri": "https://localhost:8080/"
        },
        "id": "lB3TBh02gpRS",
        "outputId": "be1513f4-d424-4229-851d-69376dbe7fd5"
      },
      "execution_count": 188,
      "outputs": [
        {
          "output_type": "execute_result",
          "data": {
            "text/plain": [
              "10"
            ]
          },
          "metadata": {},
          "execution_count": 188
        }
      ]
    },
    {
      "cell_type": "code",
      "source": [
        "ind.add_counts(5)\n",
        "ind.count"
      ],
      "metadata": {
        "colab": {
          "base_uri": "https://localhost:8080/"
        },
        "id": "3ei6e_2ygu1X",
        "outputId": "fa628876-b6c6-4111-aeef-295facce045f"
      },
      "execution_count": 189,
      "outputs": [
        {
          "output_type": "execute_result",
          "data": {
            "text/plain": [
              "15"
            ]
          },
          "metadata": {},
          "execution_count": 189
        }
      ]
    },
    {
      "cell_type": "markdown",
      "source": [
        "#### Create a subclass"
      ],
      "metadata": {
        "id": "FEIlhiMZicFY"
      }
    },
    {
      "cell_type": "code",
      "source": [
        "class Employee:\n",
        "  MIN_SALARY = 30000    \n",
        "\n",
        "  def __init__(self, name, salary=MIN_SALARY):\n",
        "      self.name = name\n",
        "      if salary >= Employee.MIN_SALARY:\n",
        "        self.salary = salary\n",
        "      else:\n",
        "        self.salary = Employee.MIN_SALARY\n",
        "        \n",
        "  def give_raise(self, amount):\n",
        "      self.salary += amount      "
      ],
      "metadata": {
        "id": "bpQ5WRN-ixEx"
      },
      "execution_count": 190,
      "outputs": []
    },
    {
      "cell_type": "code",
      "source": [
        "class Manager(Employee):\n",
        "    def display(self):\n",
        "        print(\"Manager \" + self.name)"
      ],
      "metadata": {
        "id": "5IjMZfwmi7eZ"
      },
      "execution_count": 191,
      "outputs": []
    },
    {
      "cell_type": "code",
      "source": [
        "mng = Manager(\"Debbie Lashko\", 86500)"
      ],
      "metadata": {
        "id": "mFGU4wzTjBOC"
      },
      "execution_count": 192,
      "outputs": []
    },
    {
      "cell_type": "code",
      "source": [
        "mng.name, mng.salary"
      ],
      "metadata": {
        "colab": {
          "base_uri": "https://localhost:8080/"
        },
        "id": "eGWplDA6jLr5",
        "outputId": "81717d07-7ef7-455d-e3da-6f1d055ebe3c"
      },
      "execution_count": 193,
      "outputs": [
        {
          "output_type": "execute_result",
          "data": {
            "text/plain": [
              "('Debbie Lashko', 86500)"
            ]
          },
          "metadata": {},
          "execution_count": 193
        }
      ]
    },
    {
      "cell_type": "code",
      "source": [
        "mng.display()"
      ],
      "metadata": {
        "colab": {
          "base_uri": "https://localhost:8080/"
        },
        "id": "5posVOXmlcOO",
        "outputId": "cbe4977b-e8da-4817-8d4f-574cebdc5c02"
      },
      "execution_count": 194,
      "outputs": [
        {
          "output_type": "stream",
          "name": "stdout",
          "text": [
            "Manager Debbie Lashko\n"
          ]
        }
      ]
    },
    {
      "cell_type": "markdown",
      "source": [
        "### Customizing functionality via inheritance"
      ],
      "metadata": {
        "id": "WNAQokMvmE2G"
      }
    },
    {
      "cell_type": "code",
      "source": [
        "class BankAccount:\n",
        "    def __init__(self, balance):\n",
        "        self.balance = balance\n",
        "\n",
        "    def withdraw(self, amount):\n",
        "        self.balance -= amount\n",
        "\n",
        "# Empty class inherited from BankAccount\n",
        "class SavingsAccount(BankAccount):\n",
        "    # constructor specifically for SavingsAccount with additional parameter\n",
        "    def __init__(self, balance, interest_rate):\n",
        "        # call the parent constructor\n",
        "        BankAccount.__init__(self, balance)\n",
        "        # add more functionality\n",
        "        self.interest_rate = interest_rate\n",
        "\n",
        "    # new functionality\n",
        "    def compute_interest(self, n_periods = 1):\n",
        "        return self.balance * ((1 + self.interest_rate) ** n_periods - 1)"
      ],
      "metadata": {
        "id": "aNE5PsDRmpqE"
      },
      "execution_count": 195,
      "outputs": []
    },
    {
      "cell_type": "code",
      "source": [
        "sav = SavingsAccount(500, 0.03)\n",
        "sav.balance, sav.interest_rate"
      ],
      "metadata": {
        "colab": {
          "base_uri": "https://localhost:8080/"
        },
        "id": "wIEtPt6aoOVo",
        "outputId": "c493ec32-2158-493c-c881-84148145b5df"
      },
      "execution_count": 196,
      "outputs": [
        {
          "output_type": "execute_result",
          "data": {
            "text/plain": [
              "(500, 0.03)"
            ]
          },
          "metadata": {},
          "execution_count": 196
        }
      ]
    },
    {
      "cell_type": "code",
      "source": [
        "sav.withdraw(50)\n",
        "sav.balance"
      ],
      "metadata": {
        "colab": {
          "base_uri": "https://localhost:8080/"
        },
        "id": "CUqyz8AVoZu6",
        "outputId": "4e0e76a9-318c-41cf-c8b9-02646763e027"
      },
      "execution_count": 197,
      "outputs": [
        {
          "output_type": "execute_result",
          "data": {
            "text/plain": [
              "450"
            ]
          },
          "metadata": {},
          "execution_count": 197
        }
      ]
    },
    {
      "cell_type": "code",
      "source": [
        "sav.compute_interest()"
      ],
      "metadata": {
        "colab": {
          "base_uri": "https://localhost:8080/"
        },
        "id": "k6iZvgoOpSrm",
        "outputId": "381e600f-6dfb-4fef-c672-175a7dc7923f"
      },
      "execution_count": 198,
      "outputs": [
        {
          "output_type": "execute_result",
          "data": {
            "text/plain": [
              "13.500000000000012"
            ]
          },
          "metadata": {},
          "execution_count": 198
        }
      ]
    },
    {
      "cell_type": "code",
      "source": [
        "sav.compute_interest(10)"
      ],
      "metadata": {
        "colab": {
          "base_uri": "https://localhost:8080/"
        },
        "id": "7G_3y-o1qdDo",
        "outputId": "1a1792c8-abaa-4772-fe86-b6035b34806d"
      },
      "execution_count": 199,
      "outputs": [
        {
          "output_type": "execute_result",
          "data": {
            "text/plain": [
              "154.762370704855"
            ]
          },
          "metadata": {},
          "execution_count": 199
        }
      ]
    },
    {
      "cell_type": "code",
      "source": [
        "class CheckingAccount(BankAccount):\n",
        "    def __init__(self, balance, limit):\n",
        "        BankAccount.__init__(self, balance)\n",
        "        self.limit = limit \n",
        "    \n",
        "    def deposit(self, amount):\n",
        "        self.balance += amount\n",
        "\n",
        "    # we can change the signature of the parent withdraw method\n",
        "    # we use `Parent.method_name(self, args...) to call the parent method\n",
        "    def withdraw(self, amount, fee=0):\n",
        "        if fee <= self.limit:\n",
        "            BankAccount.withdraw(self, amount - fee)\n",
        "        else:\n",
        "            BankAccount.withdraw(self, amount - self.limit)"
      ],
      "metadata": {
        "id": "1XWJe8orrDUe"
      },
      "execution_count": 200,
      "outputs": []
    },
    {
      "cell_type": "code",
      "source": [
        "check_acct = CheckingAccount(1000, 25)\n",
        "reg_acct = BankAccount(1000)\n",
        "\n",
        "check_acct.balance, reg_acct.balance"
      ],
      "metadata": {
        "colab": {
          "base_uri": "https://localhost:8080/"
        },
        "id": "-YZ6rEWAtAmr",
        "outputId": "66f89b24-5f11-4aea-aba2-bc119dd79342"
      },
      "execution_count": 201,
      "outputs": [
        {
          "output_type": "execute_result",
          "data": {
            "text/plain": [
              "(1000, 1000)"
            ]
          },
          "metadata": {},
          "execution_count": 201
        }
      ]
    },
    {
      "cell_type": "code",
      "source": [
        "check_acct.withdraw(100)\n",
        "reg_acct.withdraw(100)\n",
        "\n",
        "# note that the interface of the call is the same\n",
        "# - but the actual method is determined by the \n",
        "#   instance class\n",
        "#    - this is an application of polymorphism\n",
        "check_acct.balance, reg_acct.balance"
      ],
      "metadata": {
        "colab": {
          "base_uri": "https://localhost:8080/"
        },
        "id": "JC4g8Us4tMiq",
        "outputId": "4470aa6d-d86a-4448-d031-8ce5938cef48"
      },
      "execution_count": 202,
      "outputs": [
        {
          "output_type": "execute_result",
          "data": {
            "text/plain": [
              "(900, 900)"
            ]
          },
          "metadata": {},
          "execution_count": 202
        }
      ]
    },
    {
      "cell_type": "code",
      "source": [
        "check_acct.withdraw(100, fee=10)\n",
        "check_acct.balance"
      ],
      "metadata": {
        "colab": {
          "base_uri": "https://localhost:8080/"
        },
        "id": "35NY0UIRu1Yk",
        "outputId": "1f68b5e3-00d4-45f3-b2c9-1f1ff86dfb6d"
      },
      "execution_count": 203,
      "outputs": [
        {
          "output_type": "execute_result",
          "data": {
            "text/plain": [
              "810"
            ]
          },
          "metadata": {},
          "execution_count": 203
        }
      ]
    },
    {
      "cell_type": "code",
      "source": [
        "# error\n",
        "# reg_acct.withdraw(100, fee=10)"
      ],
      "metadata": {
        "id": "7D606ofxvEPS"
      },
      "execution_count": 204,
      "outputs": []
    },
    {
      "cell_type": "markdown",
      "source": [
        "#### Method inheritance"
      ],
      "metadata": {
        "id": "-QPsh1uKvU4P"
      }
    }
  ]
}