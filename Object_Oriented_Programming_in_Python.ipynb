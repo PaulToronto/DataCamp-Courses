{
  "nbformat": 4,
  "nbformat_minor": 0,
  "metadata": {
    "colab": {
      "provenance": [],
      "toc_visible": true,
      "authorship_tag": "ABX9TyNxW+iZhtRVuGWtcEZ3vUXt",
      "include_colab_link": true
    },
    "kernelspec": {
      "name": "python3",
      "display_name": "Python 3"
    },
    "language_info": {
      "name": "python"
    }
  },
  "cells": [
    {
      "cell_type": "markdown",
      "metadata": {
        "id": "view-in-github",
        "colab_type": "text"
      },
      "source": [
        "<a href=\"https://colab.research.google.com/github/PaulToronto/DataCamp-Courses/blob/main/Object_Oriented_Programming_in_Python.ipynb\" target=\"_parent\"><img src=\"https://colab.research.google.com/assets/colab-badge.svg\" alt=\"Open In Colab\"/></a>"
      ]
    },
    {
      "cell_type": "markdown",
      "source": [
        "# Object-Oriented Programming in Python\n",
        "\n",
        "This notebook contains my notes from a DataCamp course:\n",
        "\n",
        "[Object-Oriented Programming in Python](https://app.datacamp.com/learn/courses/object-oriented-programming-in-python)"
      ],
      "metadata": {
        "id": "ow2gMfoXV6ai"
      }
    },
    {
      "cell_type": "markdown",
      "source": [
        "## OOP Fundamentals"
      ],
      "metadata": {
        "id": "2mcohzHDS1bn"
      }
    },
    {
      "cell_type": "markdown",
      "source": [
        "### What is OOP?\n",
        "\n",
        "- Procedural programming\n",
        "    - Code as a sequence of steps\n",
        "    - Great for data analysis\n",
        "- Object-oriented programming\n",
        "    - Code as interactions of objects\n",
        "    - Great for building frameworks and tools\n",
        "    - Maintainable and reusable code"
      ],
      "metadata": {
        "id": "WWa6faCdeOVI"
      }
    },
    {
      "cell_type": "markdown",
      "source": [
        "#### Objects as data structures\n",
        "\n",
        "- Objects incorportate \n",
        "    1. state\n",
        "    2. behaviour\n",
        "- **Encapsulation** \n",
        "    - bundles state and behaviour together"
      ],
      "metadata": {
        "id": "skH5ii9JfDtN"
      }
    },
    {
      "cell_type": "markdown",
      "source": [
        "#### Classes as blueprints\n",
        "\n",
        "- **Class**\n",
        "    - blueprint for objects outlining possible states and behaviour"
      ],
      "metadata": {
        "id": "WgZN8Owwfzpz"
      }
    },
    {
      "cell_type": "markdown",
      "source": [
        "#### Objects in Python\n",
        "\n",
        "- Everything in Python is an object\n",
        "- Every object has a class\n",
        "- Use `type()` to find the class"
      ],
      "metadata": {
        "id": "JawQ_oyBg6ev"
      }
    },
    {
      "cell_type": "code",
      "source": [
        "import numpy as np\n",
        "a = np.array([1, 2, 3, 4])\n",
        "type(a)"
      ],
      "metadata": {
        "colab": {
          "base_uri": "https://localhost:8080/"
        },
        "id": "Gh1pH1oChOop",
        "outputId": "9fccca57-5c01-4c2a-b1e1-ea87de7a2d64"
      },
      "execution_count": 1,
      "outputs": [
        {
          "output_type": "execute_result",
          "data": {
            "text/plain": [
              "numpy.ndarray"
            ]
          },
          "metadata": {},
          "execution_count": 1
        }
      ]
    },
    {
      "cell_type": "markdown",
      "source": [
        "#### Attributes and methods\n",
        "\n",
        "- state information is contained in **attributes**\n",
        "- behaviour information is contained in **methods**"
      ],
      "metadata": {
        "id": "gEVMcI93hgPl"
      }
    },
    {
      "cell_type": "code",
      "source": [
        "# attribute\n",
        "a.shape"
      ],
      "metadata": {
        "colab": {
          "base_uri": "https://localhost:8080/"
        },
        "id": "9KhHW-cwiDJV",
        "outputId": "58e1f452-c83a-4df5-aa42-11be1d48762b"
      },
      "execution_count": 2,
      "outputs": [
        {
          "output_type": "execute_result",
          "data": {
            "text/plain": [
              "(4,)"
            ]
          },
          "metadata": {},
          "execution_count": 2
        }
      ]
    },
    {
      "cell_type": "code",
      "source": [
        "# method\n",
        "a.reshape(2, 2)"
      ],
      "metadata": {
        "colab": {
          "base_uri": "https://localhost:8080/"
        },
        "id": "C02beGfAiTv4",
        "outputId": "61927f8c-4abd-436a-a078-7c7c29785a8e"
      },
      "execution_count": 3,
      "outputs": [
        {
          "output_type": "execute_result",
          "data": {
            "text/plain": [
              "array([[1, 2],\n",
              "       [3, 4]])"
            ]
          },
          "metadata": {},
          "execution_count": 3
        }
      ]
    },
    {
      "cell_type": "markdown",
      "source": [
        "#### List all the attributes of an object"
      ],
      "metadata": {
        "id": "axnwPsf1ioXS"
      }
    },
    {
      "cell_type": "code",
      "source": [
        "# dir(a)"
      ],
      "metadata": {
        "id": "L82lwkENisf9"
      },
      "execution_count": 4,
      "outputs": []
    },
    {
      "cell_type": "markdown",
      "source": [
        "### Class anatomy: attributes and methods"
      ],
      "metadata": {
        "id": "H1WwvygAmHRM"
      }
    },
    {
      "cell_type": "markdown",
      "source": [
        "#### A basic class"
      ],
      "metadata": {
        "id": "a4-87EodmwBk"
      }
    },
    {
      "cell_type": "code",
      "source": [
        "# an empty class\n",
        "class Customer:\n",
        "    pass"
      ],
      "metadata": {
        "id": "ai9GBwYEmyvF"
      },
      "execution_count": 5,
      "outputs": []
    },
    {
      "cell_type": "code",
      "source": [
        "# we can already create objects of the calss\n",
        "c1 = Customer()\n",
        "c2 = Customer()"
      ],
      "metadata": {
        "id": "llsEUO10m3m4"
      },
      "execution_count": 6,
      "outputs": []
    },
    {
      "cell_type": "code",
      "source": [
        "type(c1)"
      ],
      "metadata": {
        "colab": {
          "base_uri": "https://localhost:8080/"
        },
        "id": "erSm0H13nCRG",
        "outputId": "bcde012c-4296-403d-e0a1-e21b92ddfaa7"
      },
      "execution_count": 7,
      "outputs": [
        {
          "output_type": "execute_result",
          "data": {
            "text/plain": [
              "__main__.Customer"
            ]
          },
          "metadata": {},
          "execution_count": 7
        }
      ]
    },
    {
      "cell_type": "markdown",
      "source": [
        "#### A class with a method\n",
        "\n",
        "- a method defintion is a function definition within class\n",
        "- use `self` as the first argument in every method definition\n",
        "    - ignore `self` when calling the method"
      ],
      "metadata": {
        "id": "sM98DTBbnkMw"
      }
    },
    {
      "cell_type": "code",
      "source": [
        "class Customer:\n",
        "\n",
        "    def identify(self, name):\n",
        "        print(\"I am customer \" + name)"
      ],
      "metadata": {
        "id": "h9Axti0anmSo"
      },
      "execution_count": 8,
      "outputs": []
    },
    {
      "cell_type": "code",
      "source": [
        "c3 = Customer()\n",
        "type(c3)"
      ],
      "metadata": {
        "colab": {
          "base_uri": "https://localhost:8080/"
        },
        "id": "g_W6zAyZnxOk",
        "outputId": "2e43c129-ce08-420e-c454-36762e350d3b"
      },
      "execution_count": 9,
      "outputs": [
        {
          "output_type": "execute_result",
          "data": {
            "text/plain": [
              "__main__.Customer"
            ]
          },
          "metadata": {},
          "execution_count": 9
        }
      ]
    },
    {
      "cell_type": "code",
      "source": [
        "# ignore `self` when calling the method\n",
        "c3.identify('Paul')"
      ],
      "metadata": {
        "colab": {
          "base_uri": "https://localhost:8080/"
        },
        "id": "AmxnAne2n0Nk",
        "outputId": "fd289e87-5532-4cbe-f2a3-5cee8dbed84d"
      },
      "execution_count": 10,
      "outputs": [
        {
          "output_type": "stream",
          "name": "stdout",
          "text": [
            "I am customer Paul\n"
          ]
        }
      ]
    },
    {
      "cell_type": "markdown",
      "source": [
        "#### What is `self`?\n",
        "\n",
        "- Classes are templates\n",
        "    - Objects of a class don't yet exist when a class is being defined\n",
        "    - but we often need a way to refer to the data of a particular object within a class definition\n",
        "        - that is the purpose of `self`: as a stand-in for the future object\n",
        "        - we can use `self` to access attributes and call other methods from within the class definition even when no objects exist yet\n",
        "        - Python will handle `self` when the method is called from an object using dot syntax\n",
        "            - In fact using **object-dot-method** is equivalent to passing that object as an argument \n",
        "            - that's whey we don't specify it explicitly when calling the method from an existing object\n",
        "            - `cust.identify(\"Paul\")` will be interpreted as `Customer.identify(cust, \"Paul\")`"
      ],
      "metadata": {
        "id": "rZPlZgDFqYvQ"
      }
    },
    {
      "cell_type": "markdown",
      "source": [
        "#### We need attributes\n",
        "\n",
        "- **Encapsulation**: bundling data with methods that operate on that data\n",
        "- **attributes** are created by assignment, `=`, in methods\n",
        "- we can access this attribute with dot syntax: `cust.name`"
      ],
      "metadata": {
        "id": "_1tBMYIBszqq"
      }
    },
    {
      "cell_type": "code",
      "source": [
        "class Customer:\n",
        "    # set the name attribute of an object\n",
        "    def set_name(self, new_name):\n",
        "        self.name = new_name \n",
        "        # will create `name` when set_name is called\n",
        "        #   `name` will not appear in the dir() list \n",
        "        #   until `set_name` is called"
      ],
      "metadata": {
        "id": "Nx7CRVFstS4w"
      },
      "execution_count": 11,
      "outputs": []
    },
    {
      "cell_type": "code",
      "source": [
        "c4 = Customer()"
      ],
      "metadata": {
        "id": "Qnu-mvXwtk5s"
      },
      "execution_count": 12,
      "outputs": []
    },
    {
      "cell_type": "code",
      "source": [
        "type(c4)"
      ],
      "metadata": {
        "colab": {
          "base_uri": "https://localhost:8080/"
        },
        "id": "brPsSHZztnO8",
        "outputId": "1ab5e934-8997-4e72-a522-3963b947ff78"
      },
      "execution_count": 13,
      "outputs": [
        {
          "output_type": "execute_result",
          "data": {
            "text/plain": [
              "__main__.Customer"
            ]
          },
          "metadata": {},
          "execution_count": 13
        }
      ]
    },
    {
      "cell_type": "code",
      "source": [
        "c4.set_name(\"Paul\")"
      ],
      "metadata": {
        "id": "55bYXspttpHE"
      },
      "execution_count": 14,
      "outputs": []
    },
    {
      "cell_type": "code",
      "source": [
        "c4.name"
      ],
      "metadata": {
        "colab": {
          "base_uri": "https://localhost:8080/",
          "height": 36
        },
        "id": "0ILt9O_ptuJ4",
        "outputId": "cecbbcc2-8028-4e35-d3b8-6c6d91ae9a6e"
      },
      "execution_count": 15,
      "outputs": [
        {
          "output_type": "execute_result",
          "data": {
            "text/plain": [
              "'Paul'"
            ],
            "application/vnd.google.colaboratory.intrinsic+json": {
              "type": "string"
            }
          },
          "metadata": {},
          "execution_count": 15
        }
      ]
    },
    {
      "cell_type": "code",
      "source": [
        "class Customer:\n",
        "    def set_name(self, new_name):\n",
        "        self.name = new_name\n",
        "\n",
        "    def identify(self):\n",
        "        print(\"I am customer \" + self.name)"
      ],
      "metadata": {
        "id": "qTYhhIccv0eo"
      },
      "execution_count": 16,
      "outputs": []
    },
    {
      "cell_type": "code",
      "source": [
        "c5 = Customer()\n",
        "\n",
        "c5.set_name(\"Paul\")\n",
        "c5.identify()"
      ],
      "metadata": {
        "colab": {
          "base_uri": "https://localhost:8080/"
        },
        "id": "O632m6-cwHfc",
        "outputId": "f94d7457-d001-4253-bf6a-cb9a6ee7eef5"
      },
      "execution_count": 17,
      "outputs": [
        {
          "output_type": "stream",
          "name": "stdout",
          "text": [
            "I am customer Paul\n"
          ]
        }
      ]
    },
    {
      "cell_type": "code",
      "source": [
        "c5.name = \"Carlos\""
      ],
      "metadata": {
        "id": "zb85lbtd1wEJ"
      },
      "execution_count": 18,
      "outputs": []
    },
    {
      "cell_type": "code",
      "source": [
        "c5.identify()"
      ],
      "metadata": {
        "colab": {
          "base_uri": "https://localhost:8080/"
        },
        "id": "uqRvAJOH1y1a",
        "outputId": "16cfcd1d-b937-4552-df84-8f0950c4ccf8"
      },
      "execution_count": 19,
      "outputs": [
        {
          "output_type": "stream",
          "name": "stdout",
          "text": [
            "I am customer Carlos\n"
          ]
        }
      ]
    },
    {
      "cell_type": "code",
      "source": [
        "c6 = Customer()\n",
        "c6.name = \"Kim\""
      ],
      "metadata": {
        "id": "lk7_SLrk1-is"
      },
      "execution_count": 20,
      "outputs": []
    },
    {
      "cell_type": "code",
      "source": [
        "c6.identify()"
      ],
      "metadata": {
        "colab": {
          "base_uri": "https://localhost:8080/"
        },
        "id": "A-PVnrDY2Dtx",
        "outputId": "43d24484-5c58-420c-8a95-f1a1604008b4"
      },
      "execution_count": 21,
      "outputs": [
        {
          "output_type": "stream",
          "name": "stdout",
          "text": [
            "I am customer Kim\n"
          ]
        }
      ]
    },
    {
      "cell_type": "markdown",
      "source": [
        "#### Create your first class"
      ],
      "metadata": {
        "id": "Vt0f-BGC2esZ"
      }
    },
    {
      "cell_type": "code",
      "source": [
        "class Employee:\n",
        "    \n",
        "    def set_name(self, new_name):\n",
        "        self.name = new_name\n",
        "\n",
        "    def set_salary(self, new_salary):\n",
        "        self.salary = new_salary\n",
        "\n",
        "    def give_raise(self, amount):\n",
        "        self.salary += amount\n",
        "\n",
        "    def monthly_salary(self):\n",
        "        return self.salary / 12\n",
        "\n",
        "emp = Employee()\n",
        "emp.set_name('Korel Rossi')\n",
        "emp.set_salary(50000)\n",
        "\n",
        "print(emp.name, emp.salary)\n",
        "\n",
        "emp.salary += 1500\n",
        "\n",
        "print(emp.salary)\n",
        "print(emp.monthly_salary())"
      ],
      "metadata": {
        "colab": {
          "base_uri": "https://localhost:8080/"
        },
        "id": "GxG-1yuM2i2q",
        "outputId": "0d81d9e9-5d95-485c-c7ad-61c0ca04fac6"
      },
      "execution_count": 22,
      "outputs": [
        {
          "output_type": "stream",
          "name": "stdout",
          "text": [
            "Korel Rossi 50000\n",
            "51500\n",
            "4291.666666666667\n"
          ]
        }
      ]
    },
    {
      "cell_type": "markdown",
      "source": [
        "### Class anatomy: the `__init__` constructor"
      ],
      "metadata": {
        "id": "STl167cZ9bFO"
      }
    },
    {
      "cell_type": "markdown",
      "source": [
        "#### Constructor\n",
        "\n",
        "- Add data to object when creating it\n",
        "- **Constructor** `__init__` method is called every time an object is created\n",
        "- the `__init__` constructor is also a good place to set default values for attributes\n",
        "- it is a best practice to define all attributes in the constructor\n",
        "    - makes code more useable and maintainable"
      ],
      "metadata": {
        "id": "UWWbskcI-22i"
      }
    },
    {
      "cell_type": "code",
      "source": [
        "class Customer:\n",
        "    def __init__(self, name):\n",
        "        self.name = name\n",
        "        print(\"The __init__ method was called\")"
      ],
      "metadata": {
        "id": "SwYu8OKKBBzR"
      },
      "execution_count": 23,
      "outputs": []
    },
    {
      "cell_type": "code",
      "source": [
        "c7 = Customer('Paul')"
      ],
      "metadata": {
        "colab": {
          "base_uri": "https://localhost:8080/"
        },
        "id": "4sqMbIoxBN4y",
        "outputId": "028033f8-a3c9-476e-ed9e-e8610e38e027"
      },
      "execution_count": 24,
      "outputs": [
        {
          "output_type": "stream",
          "name": "stdout",
          "text": [
            "The __init__ method was called\n"
          ]
        }
      ]
    },
    {
      "cell_type": "code",
      "source": [
        "c7.name"
      ],
      "metadata": {
        "colab": {
          "base_uri": "https://localhost:8080/",
          "height": 36
        },
        "id": "Gpj9PpR1Bi9T",
        "outputId": "4a81b10b-fb0d-4831-d17a-2ac7d6b99a06"
      },
      "execution_count": 25,
      "outputs": [
        {
          "output_type": "execute_result",
          "data": {
            "text/plain": [
              "'Paul'"
            ],
            "application/vnd.google.colaboratory.intrinsic+json": {
              "type": "string"
            }
          },
          "metadata": {},
          "execution_count": 25
        }
      ]
    },
    {
      "cell_type": "code",
      "source": [
        "class Customer:\n",
        "    def __init__(self, name, salary):\n",
        "        self.name = name\n",
        "        self.salary = salary\n",
        "        print(\"The __init__ method was called\")"
      ],
      "metadata": {
        "id": "Clear_PxDqb6"
      },
      "execution_count": 26,
      "outputs": []
    },
    {
      "cell_type": "code",
      "source": [
        "c8 = Customer(\"Bobby\", 100000)"
      ],
      "metadata": {
        "colab": {
          "base_uri": "https://localhost:8080/"
        },
        "id": "b7MgAcmtECCP",
        "outputId": "adb1781f-cc5e-4fc8-cead-dd139ceca53b"
      },
      "execution_count": 27,
      "outputs": [
        {
          "output_type": "stream",
          "name": "stdout",
          "text": [
            "The __init__ method was called\n"
          ]
        }
      ]
    },
    {
      "cell_type": "code",
      "source": [
        "c8.name, c8.salary"
      ],
      "metadata": {
        "colab": {
          "base_uri": "https://localhost:8080/"
        },
        "id": "jPfkZy-JEevf",
        "outputId": "e0911096-71e9-4166-ca6c-12ac0c8e7b87"
      },
      "execution_count": 28,
      "outputs": [
        {
          "output_type": "execute_result",
          "data": {
            "text/plain": [
              "('Bobby', 100000)"
            ]
          },
          "metadata": {},
          "execution_count": 28
        }
      ]
    },
    {
      "cell_type": "code",
      "source": [
        "# a __init__ constructor sets default value\n",
        "class Customer:\n",
        "    def __init__(self, name, balance=0):\n",
        "        self.name = name\n",
        "        self.balance = balance \n",
        "        print(\"The __init__ method was called\")"
      ],
      "metadata": {
        "id": "mP3jUlk4GMGE"
      },
      "execution_count": 29,
      "outputs": []
    },
    {
      "cell_type": "code",
      "source": [
        "c9 = Customer(\"Paul\")\n",
        "c9.name, c9.balance"
      ],
      "metadata": {
        "colab": {
          "base_uri": "https://localhost:8080/"
        },
        "id": "ZKy0cZyKHEZS",
        "outputId": "301b3b6f-0b0f-4803-8868-af7adbf5cdd3"
      },
      "execution_count": 30,
      "outputs": [
        {
          "output_type": "stream",
          "name": "stdout",
          "text": [
            "The __init__ method was called\n"
          ]
        },
        {
          "output_type": "execute_result",
          "data": {
            "text/plain": [
              "('Paul', 0)"
            ]
          },
          "metadata": {},
          "execution_count": 30
        }
      ]
    },
    {
      "cell_type": "code",
      "source": [
        "c10 = Customer(\"Jane\", 100)\n",
        "c10.name, c10.balance"
      ],
      "metadata": {
        "colab": {
          "base_uri": "https://localhost:8080/"
        },
        "id": "Iwkt8_cDHJER",
        "outputId": "20eb6e48-98c4-4659-ca1a-b595f65da76d"
      },
      "execution_count": 31,
      "outputs": [
        {
          "output_type": "stream",
          "name": "stdout",
          "text": [
            "The __init__ method was called\n"
          ]
        },
        {
          "output_type": "execute_result",
          "data": {
            "text/plain": [
              "('Jane', 100)"
            ]
          },
          "metadata": {},
          "execution_count": 31
        }
      ]
    },
    {
      "cell_type": "markdown",
      "source": [
        "#### Best Practices\n",
        "\n",
        "1. Initialize attributes in `__init__()`\n",
        "2. Naming\n",
        "    - `CamelCase` for classes\n",
        "    - `lower_snake_case` for functions and attributes\n",
        "3. Keep `self` as `self`\n",
        "    - the choice of `self` is only a convention, any other name can be used, but that would be confusing\n",
        "4. Use docstrings\n",
        "    - classes, like functions, allow for docstrings\n",
        "    - use them because they are displayed when `help()` is called on the object"
      ],
      "metadata": {
        "id": "zFmcirqTIQ_L"
      }
    },
    {
      "cell_type": "code",
      "source": [
        "class MyClass:\n",
        "    \"\"\"I am a docstring\"\"\"\n",
        "    pass"
      ],
      "metadata": {
        "id": "gaS3-TpCJhlb"
      },
      "execution_count": 32,
      "outputs": []
    },
    {
      "cell_type": "markdown",
      "source": [
        "#### Add a class constructor"
      ],
      "metadata": {
        "id": "c8J2NLK4LVXE"
      }
    },
    {
      "cell_type": "code",
      "source": [
        "from datetime import datetime\n",
        "\n",
        "class Employee:\n",
        "\n",
        "    def __init__(self, name, salary=0):\n",
        "        self.name = name\n",
        "        \n",
        "        if salary > 0:\n",
        "          self.salary = salary\n",
        "        else:\n",
        "          self.salary = 0\n",
        "          print(\"Invalid salary!\")\n",
        "          \n",
        "        self.hire_date = datetime.today()\n",
        "    \n",
        "    def give_raise(self, amount):\n",
        "        self.salary += amount\n",
        "\n",
        "    def monthly_salary(self):\n",
        "        return self.salary/12"
      ],
      "metadata": {
        "id": "Q4Mu3--wLYGO"
      },
      "execution_count": 33,
      "outputs": []
    },
    {
      "cell_type": "code",
      "source": [
        "emp = Employee(\"Korel Rossi\")\n",
        "print(emp.name, emp.salary, emp.hire_date)"
      ],
      "metadata": {
        "colab": {
          "base_uri": "https://localhost:8080/"
        },
        "id": "t-SQ1suxNGEz",
        "outputId": "21e5f7b5-f18c-4d3f-e8e7-749ac62a9c65"
      },
      "execution_count": 34,
      "outputs": [
        {
          "output_type": "stream",
          "name": "stdout",
          "text": [
            "Invalid salary!\n",
            "Korel Rossi 0 2023-01-07 00:18:46.366353\n"
          ]
        }
      ]
    },
    {
      "cell_type": "code",
      "source": [
        "emp2 = Employee(\"Paul\", 100)\n",
        "print(emp2.name, emp2.salary, emp.hire_date)"
      ],
      "metadata": {
        "colab": {
          "base_uri": "https://localhost:8080/"
        },
        "id": "GEIB1-DINPtx",
        "outputId": "fdae825c-7848-4530-d663-f0a7665da91d"
      },
      "execution_count": 35,
      "outputs": [
        {
          "output_type": "stream",
          "name": "stdout",
          "text": [
            "Paul 100 2023-01-07 00:18:46.366353\n"
          ]
        }
      ]
    },
    {
      "cell_type": "code",
      "source": [
        "emp3 = Employee(\"Carlos\", -10)\n",
        "print(emp3.name, emp3.salary, emp.hire_date)"
      ],
      "metadata": {
        "colab": {
          "base_uri": "https://localhost:8080/"
        },
        "id": "lzMu-JavNZC4",
        "outputId": "060431a5-d1da-495f-a5ed-57455dc1ec5d"
      },
      "execution_count": 36,
      "outputs": [
        {
          "output_type": "stream",
          "name": "stdout",
          "text": [
            "Invalid salary!\n",
            "Carlos 0 2023-01-07 00:18:46.366353\n"
          ]
        }
      ]
    },
    {
      "cell_type": "markdown",
      "source": [
        "#### Write a class from scratch"
      ],
      "metadata": {
        "id": "MEvxS4vGRjES"
      }
    },
    {
      "cell_type": "code",
      "source": [
        "class Point:\n",
        "\n",
        "    def __init__(self, x=0.0, y=0.0):\n",
        "        self.x = x\n",
        "        self.y = y \n",
        "\n",
        "    def distance_to_origin(self):\n",
        "        return (self.x**2 + self.y**2) ** (1/2)\n",
        "\n",
        "    def reflect(self, axis):\n",
        "        if axis == \"x\":\n",
        "            self.y = -self.y \n",
        "        elif axis == \"y\":\n",
        "            self.x = -self.x \n",
        "        else:\n",
        "            print(\"Error: axis is invalid\")"
      ],
      "metadata": {
        "id": "XE1nJmU0Rng1"
      },
      "execution_count": 37,
      "outputs": []
    },
    {
      "cell_type": "code",
      "source": [
        "pt = Point(x=3.0)\n",
        "pt.reflect(\"y\")\n",
        "print(pt.x, pt.y)\n",
        "pt.y = 4.0\n",
        "print(pt.distance_to_origin())"
      ],
      "metadata": {
        "colab": {
          "base_uri": "https://localhost:8080/"
        },
        "id": "Or-YfITNRvRi",
        "outputId": "dbf49f90-675d-4534-96fe-abfadc1724ec"
      },
      "execution_count": 38,
      "outputs": [
        {
          "output_type": "stream",
          "name": "stdout",
          "text": [
            "-3.0 0.0\n",
            "5.0\n"
          ]
        }
      ]
    },
    {
      "cell_type": "markdown",
      "source": [
        "## Inheritance and Polymorphism"
      ],
      "metadata": {
        "id": "61q7stWGSd9S"
      }
    },
    {
      "cell_type": "markdown",
      "source": [
        "### Instance and class data"
      ],
      "metadata": {
        "id": "oRAWN8U_UDv5"
      }
    },
    {
      "cell_type": "code",
      "source": [
        "class Employee:\n",
        "    # A class attribute\n",
        "    MIN_SALARY = 30000 # <--- no `self`\n",
        "\n",
        "    def __init__(self, name, salary):\n",
        "        self.name = name\n",
        "\n",
        "        if salary >= Employee.MIN_SALARY:\n",
        "            self.salary = salary\n",
        "        else:\n",
        "            self.salary = Employee.MIN_SALARY\n",
        "    \n",
        "emp1 = Employee('Teo Mille', 50000)\n",
        "emp2 = Employee('Marta Popov', 20000)\n",
        "\n",
        "display(emp1.name, emp1.salary, emp1.MIN_SALARY)\n",
        "display(emp2.name, emp2.salary, emp2.MIN_SALARY)"
      ],
      "metadata": {
        "colab": {
          "base_uri": "https://localhost:8080/",
          "height": 125
        },
        "id": "aygg4Ags_TUC",
        "outputId": "edcccf8e-3ed0-4f29-fcd2-e201628031ae"
      },
      "execution_count": 39,
      "outputs": [
        {
          "output_type": "display_data",
          "data": {
            "text/plain": [
              "'Teo Mille'"
            ],
            "application/vnd.google.colaboratory.intrinsic+json": {
              "type": "string"
            }
          },
          "metadata": {}
        },
        {
          "output_type": "display_data",
          "data": {
            "text/plain": [
              "50000"
            ]
          },
          "metadata": {}
        },
        {
          "output_type": "display_data",
          "data": {
            "text/plain": [
              "30000"
            ]
          },
          "metadata": {}
        },
        {
          "output_type": "display_data",
          "data": {
            "text/plain": [
              "'Marta Popov'"
            ],
            "application/vnd.google.colaboratory.intrinsic+json": {
              "type": "string"
            }
          },
          "metadata": {}
        },
        {
          "output_type": "display_data",
          "data": {
            "text/plain": [
              "30000"
            ]
          },
          "metadata": {}
        },
        {
          "output_type": "display_data",
          "data": {
            "text/plain": [
              "30000"
            ]
          },
          "metadata": {}
        }
      ]
    },
    {
      "cell_type": "markdown",
      "source": [
        "#### Instance-level data\n",
        "\n",
        "- In the code above, `name` and `salary` are **instance attributes**\n",
        "- `self` binds to an instance "
      ],
      "metadata": {
        "id": "S7Su1cX5_yWQ"
      }
    },
    {
      "cell_type": "markdown",
      "source": [
        "#### Class-level data\n",
        "\n",
        "- In the code above, `MIN_SALARY` is a **class attribute**\n",
        "- Data shared among all instances of a class\n",
        "- Define class attributes in the body of a class\n",
        "- This is also a **global variable** within the class\n",
        "- Note that we don't use `self` to define class attributes\n",
        "- We can use the class name to access these attributes"
      ],
      "metadata": {
        "id": "g0XIEVfaAIM-"
      }
    },
    {
      "cell_type": "markdown",
      "source": [
        "#### Why use class attributes? (Global constants related to the class)\n",
        "\n",
        "- used for minimal or maximal values for attributes\n",
        "- for commonly used values and constants\n",
        "    - `pi` might be used in a `Circle` class"
      ],
      "metadata": {
        "id": "BRiIooWyCx0i"
      }
    },
    {
      "cell_type": "markdown",
      "source": [
        "#### Class methods\n",
        "\n",
        "- Regular methods are already shared between instances\n",
        "    - The same code gets executed for every instance\n",
        "    - The only difference is the data that is fed into it\n",
        "- It is possible to define methods bound to class rather than instances\n",
        "    - But these methods have a narrow application scope because they are not able to use any instance-level data\n",
        "    - To do this start with a `@classmethod` decorator\n",
        "    - Instead of `self`, use `cls`\n",
        "    - To call these methods, use **class-dot-method** syntax rather that **object-dot-method** syntax"
      ],
      "metadata": {
        "id": "l1-EbC2aDYpb"
      }
    },
    {
      "cell_type": "code",
      "source": [
        "class MyClass:\n",
        "\n",
        "    @classmethod\n",
        "    def my_awesome_method(cls, word):\n",
        "        # can't use any instance attributes\n",
        "        print(word)"
      ],
      "metadata": {
        "id": "19zmeumlEn6A"
      },
      "execution_count": 40,
      "outputs": []
    },
    {
      "cell_type": "code",
      "source": [
        "MyClass.my_awesome_method(\"hello\")"
      ],
      "metadata": {
        "colab": {
          "base_uri": "https://localhost:8080/"
        },
        "id": "xo07Iq38E5bo",
        "outputId": "db58526f-7866-449a-a8a9-5245689420c2"
      },
      "execution_count": 41,
      "outputs": [
        {
          "output_type": "stream",
          "name": "stdout",
          "text": [
            "hello\n"
          ]
        }
      ]
    },
    {
      "cell_type": "code",
      "source": [
        "mc = MyClass()"
      ],
      "metadata": {
        "id": "BA5HeeSXE9N3"
      },
      "execution_count": 42,
      "outputs": []
    },
    {
      "cell_type": "code",
      "source": [
        "mc.my_awesome_method(\"goodbye\")"
      ],
      "metadata": {
        "colab": {
          "base_uri": "https://localhost:8080/"
        },
        "id": "hJNybUqAFA4B",
        "outputId": "f2bca3c2-a89f-4ab6-8160-2545c0d62ce2"
      },
      "execution_count": 43,
      "outputs": [
        {
          "output_type": "stream",
          "name": "stdout",
          "text": [
            "goodbye\n"
          ]
        }
      ]
    },
    {
      "cell_type": "markdown",
      "source": [
        "#### Alternative constructors\n",
        "\n",
        "- Alternative constructors are the main use case for class methods\n",
        "- A class can only have one `__init__` method, but there might be multiple ways to initialize an object"
      ],
      "metadata": {
        "id": "J945wlo8Fdrt"
      }
    },
    {
      "cell_type": "code",
      "source": [
        "import base64\n",
        "import requests\n",
        "\n",
        "class Employee:\n",
        "   \n",
        "    MIN_SALARY = 30000\n",
        "\n",
        "    def __init__(self, name, salary):\n",
        "        self.name = name\n",
        "\n",
        "        if salary >= Employee.MIN_SALARY:\n",
        "            self.salary = salary\n",
        "        else:\n",
        "            self.salary = Employee.MIN_SALARY\n",
        "\n",
        "    # we can't use a regular method for an alternate \n",
        "    #   constructor, because an object has not\n",
        "    #   been created yet\n",
        "    @classmethod \n",
        "    def from_file(cls, filename):\n",
        "        req = requests.get(filename)\n",
        "        name = req.text\n",
        "        # the cls in the next line refers to the class\n",
        "        #  so it will call the `__init__` constructor\n",
        "        return cls(name, 70000)"
      ],
      "metadata": {
        "id": "PGM2wGE8F9W3"
      },
      "execution_count": 44,
      "outputs": []
    },
    {
      "cell_type": "code",
      "source": [
        "path = 'https://raw.githubusercontent.com/PaulToronto/'\n",
        "path += 'Math-and-Data-Science-Reference/main/'\n",
        "path += 'files/myfile.txt'"
      ],
      "metadata": {
        "id": "mu8t0aSPL0yq"
      },
      "execution_count": 45,
      "outputs": []
    },
    {
      "cell_type": "code",
      "source": [
        "emp1 = Employee(\"Paul\", 60000)\n",
        "emp2 = Employee.from_file(path)\n",
        "print(emp1.name, emp1.salary)\n",
        "print(emp2.name, emp2.salary)"
      ],
      "metadata": {
        "colab": {
          "base_uri": "https://localhost:8080/"
        },
        "id": "yxYHXJNRL-Gl",
        "outputId": "27c33cc7-1e00-48df-c4d1-ccb557d4230f"
      },
      "execution_count": 46,
      "outputs": [
        {
          "output_type": "stream",
          "name": "stdout",
          "text": [
            "Paul 60000\n",
            "Carlos 70000\n"
          ]
        }
      ]
    },
    {
      "cell_type": "markdown",
      "source": [
        "#### Class-level attributes"
      ],
      "metadata": {
        "id": "Egzrpo4VQ862"
      }
    },
    {
      "cell_type": "code",
      "source": [
        "# Create a Player class\n",
        "#  - that has a class attribute MAX_POSITION \n",
        "#    with value 10\n",
        "#  - and an __init__ method that sets the \n",
        "#    position instance to 0\n",
        "class Player:\n",
        "\n",
        "    MAX_POSITION = 10\n",
        "    MAX_SPEED = 3\n",
        "\n",
        "    def __init__(self):\n",
        "        self.position = 0\n",
        "\n",
        "    # Add a move() method with steps parameter\n",
        "    def move(self, steps):\n",
        "        if self.position + steps < Player.MAX_POSITION:\n",
        "            self.position += steps\n",
        "        else:\n",
        "            self.position = Player.MAX_POSITION\n",
        "\n",
        "    # This method provides a rudimentary visualization in the console    \n",
        "    def draw(self):\n",
        "        drawing = \"-\" * self.position + \"|\" +\"-\"*(Player.MAX_POSITION - self.position)\n",
        "        print(drawing)"
      ],
      "metadata": {
        "id": "SQGA9rvr9m8V"
      },
      "execution_count": 47,
      "outputs": []
    },
    {
      "cell_type": "code",
      "source": [
        "# Print Player.MAX_POSITION       \n",
        "print(Player.MAX_POSITION)\n",
        "\n",
        "# Create a player p and print its MAX_POSITITON\n",
        "p = Player()\n",
        "print(p.MAX_POSITION)"
      ],
      "metadata": {
        "colab": {
          "base_uri": "https://localhost:8080/"
        },
        "id": "VBdNrQMl_VCT",
        "outputId": "4e7fdeb5-9d7d-4c26-e150-2266e7b12fe6"
      },
      "execution_count": 48,
      "outputs": [
        {
          "output_type": "stream",
          "name": "stdout",
          "text": [
            "10\n",
            "10\n"
          ]
        }
      ]
    },
    {
      "cell_type": "code",
      "source": [
        "p.draw()"
      ],
      "metadata": {
        "colab": {
          "base_uri": "https://localhost:8080/"
        },
        "id": "b6VLJPvw_XRu",
        "outputId": "fdae3e0c-f237-45c9-9dcc-18f925cd2f3a"
      },
      "execution_count": 49,
      "outputs": [
        {
          "output_type": "stream",
          "name": "stdout",
          "text": [
            "|----------\n"
          ]
        }
      ]
    },
    {
      "cell_type": "code",
      "source": [
        "p.move(4)\n",
        "p.draw()"
      ],
      "metadata": {
        "colab": {
          "base_uri": "https://localhost:8080/"
        },
        "id": "V2jj1K2T_iFD",
        "outputId": "0c583d80-faeb-4c84-c4bf-9360a170196b"
      },
      "execution_count": 50,
      "outputs": [
        {
          "output_type": "stream",
          "name": "stdout",
          "text": [
            "----|------\n"
          ]
        }
      ]
    },
    {
      "cell_type": "code",
      "source": [
        "p.move(1)\n",
        "p.draw()"
      ],
      "metadata": {
        "colab": {
          "base_uri": "https://localhost:8080/"
        },
        "id": "OGFGNZDh_mbq",
        "outputId": "b283d659-021b-4994-d406-6d91bf24bbd9"
      },
      "execution_count": 51,
      "outputs": [
        {
          "output_type": "stream",
          "name": "stdout",
          "text": [
            "-----|-----\n"
          ]
        }
      ]
    },
    {
      "cell_type": "code",
      "source": [
        "p.move(4)\n",
        "p.draw()"
      ],
      "metadata": {
        "colab": {
          "base_uri": "https://localhost:8080/"
        },
        "id": "e54Tr_EB_pc4",
        "outputId": "fe51197f-319d-46f1-fd8f-a192790dfd5a"
      },
      "execution_count": 52,
      "outputs": [
        {
          "output_type": "stream",
          "name": "stdout",
          "text": [
            "---------|-\n"
          ]
        }
      ]
    },
    {
      "cell_type": "code",
      "source": [
        "p.move(3)\n",
        "p.draw()"
      ],
      "metadata": {
        "colab": {
          "base_uri": "https://localhost:8080/"
        },
        "id": "28Cd72CT_tcB",
        "outputId": "72444bb1-9227-4da4-ed8a-6b004403bf78"
      },
      "execution_count": 53,
      "outputs": [
        {
          "output_type": "stream",
          "name": "stdout",
          "text": [
            "----------|\n"
          ]
        }
      ]
    },
    {
      "cell_type": "markdown",
      "source": [
        "#### Changing class attributes"
      ],
      "metadata": {
        "id": "6X8cxKcGBl6R"
      }
    },
    {
      "cell_type": "code",
      "source": [
        "# Create Players p1 and p2\n",
        "p1 = Player()\n",
        "p2 = Player()\n",
        "\n",
        "print(\"MAX_SPEED of p1 and p2 before assignment:\")\n",
        "# Print p1.MAX_SPEED and p2.MAX_SPEED\n",
        "print(p1.MAX_SPEED)\n",
        "print(p2.MAX_SPEED)\n",
        "\n",
        "# Assign 7 to p1.MAX_SPEED\n",
        "p1.MAX_SPEED = 7\n",
        "\n",
        "print(\"MAX_SPEED of p1 and p2 after assignment:\")\n",
        "# Print p1.MAX_SPEED and p2.MAX_SPEED\n",
        "print(p1.MAX_SPEED)\n",
        "print(p2.MAX_SPEED)\n",
        "\n",
        "print(\"MAX_SPEED of Player:\")\n",
        "# Print Player.MAX_SPEED\n",
        "print(Player.MAX_SPEED)"
      ],
      "metadata": {
        "colab": {
          "base_uri": "https://localhost:8080/"
        },
        "id": "i1L3ItIeCNva",
        "outputId": "fdbfffc2-b5c4-408e-8d4a-ca07443ce374"
      },
      "execution_count": 54,
      "outputs": [
        {
          "output_type": "stream",
          "name": "stdout",
          "text": [
            "MAX_SPEED of p1 and p2 before assignment:\n",
            "3\n",
            "3\n",
            "MAX_SPEED of p1 and p2 after assignment:\n",
            "7\n",
            "3\n",
            "MAX_SPEED of Player:\n",
            "3\n"
          ]
        }
      ]
    },
    {
      "cell_type": "markdown",
      "source": [
        "##### What happened?\n",
        "\n",
        "Python created a new instance attribute in `p1`, also called it `MAX_SPEED`, and assigned `7` to it, without touching the class attribute."
      ],
      "metadata": {
        "id": "7eYNJZ8nC-Pt"
      }
    },
    {
      "cell_type": "code",
      "source": [
        "p1, p2 = Player(), Player()\n",
        "\n",
        "print(\"MAX_SPEED of p1 and p2 before assignment:\")\n",
        "print(p1.MAX_SPEED)\n",
        "print(p2.MAX_SPEED)\n",
        "\n",
        "# ---THIS LINE WAS MODIFIED--- \n",
        "Player.MAX_SPEED = 7\n",
        "\n",
        "print(\"MAX_SPEED of p1 and p2 after assignment:\")\n",
        "print(p1.MAX_SPEED)\n",
        "print(p2.MAX_SPEED)\n",
        "\n",
        "print(\"MAX_SPEED of Player:\")\n",
        "print(Player.MAX_SPEED)"
      ],
      "metadata": {
        "colab": {
          "base_uri": "https://localhost:8080/"
        },
        "id": "fG68e96lDcgh",
        "outputId": "b15148a1-c8ec-4902-bf24-f32a52419fac"
      },
      "execution_count": 55,
      "outputs": [
        {
          "output_type": "stream",
          "name": "stdout",
          "text": [
            "MAX_SPEED of p1 and p2 before assignment:\n",
            "3\n",
            "3\n",
            "MAX_SPEED of p1 and p2 after assignment:\n",
            "7\n",
            "7\n",
            "MAX_SPEED of Player:\n",
            "7\n"
          ]
        }
      ]
    },
    {
      "cell_type": "markdown",
      "source": [
        "Not obvious, right? But it makes sense, when you think about it! You shouldn't be able to change the data in all the instances of the class through a single instance. Imagine if you could change the time on all the computers in the world by changing the time on your own computer! If you want to change the value of the class attribute at runtime, you need to do it by referring to the class name, not through an instance."
      ],
      "metadata": {
        "id": "qtQBXPF-Dx-n"
      }
    },
    {
      "cell_type": "markdown",
      "source": [
        "#### Alternative constructors"
      ],
      "metadata": {
        "id": "SLVfFKkPFxRE"
      }
    },
    {
      "cell_type": "code",
      "source": [
        "class BetterDate:    \n",
        "    # Constructor\n",
        "    def __init__(self, year, month, day):\n",
        "      # Recall that Python allows multiple variable assignments in one line\n",
        "      self.year, self.month, self.day = year, month, day\n",
        "    \n",
        "    # Define a class method from_str\n",
        "    @classmethod\n",
        "    def from_str(cls, datestr):\n",
        "        # Split the string at \"-\" and convert each part to integer\n",
        "        year, month, day = map(int, datestr.split(\"-\"))\n",
        "        # Return the class instance\n",
        "        return cls(year, month, day)\n",
        "\n",
        "    # Define a class method from_datetime accepting a datetime object\n",
        "    @classmethod\n",
        "    def from_datetime(cls, datetimeobj):\n",
        "        year, month, day = datetimeobj.year, datetimeobj.month, datetimeobj.day\n",
        "        return cls(year, month, day)"
      ],
      "metadata": {
        "id": "c3UTZ7e-F1bn"
      },
      "execution_count": 56,
      "outputs": []
    },
    {
      "cell_type": "code",
      "source": [
        "bd1 = BetterDate(2020, 4, 30)\n",
        "print(bd1.year, bd1.month, bd1.day)"
      ],
      "metadata": {
        "colab": {
          "base_uri": "https://localhost:8080/"
        },
        "id": "13CIGCeBF3mT",
        "outputId": "71b4186d-ec70-4a74-e003-8f5129869284"
      },
      "execution_count": 57,
      "outputs": [
        {
          "output_type": "stream",
          "name": "stdout",
          "text": [
            "2020 4 30\n"
          ]
        }
      ]
    },
    {
      "cell_type": "code",
      "source": [
        "bd2 = BetterDate.from_str('2020-04-30')\n",
        "print(bd2.year, bd2.month, bd2.day)"
      ],
      "metadata": {
        "colab": {
          "base_uri": "https://localhost:8080/"
        },
        "id": "qksJ47QEGEYv",
        "outputId": "cd5edd54-8a84-4208-8be7-a833f74cdc7b"
      },
      "execution_count": 58,
      "outputs": [
        {
          "output_type": "stream",
          "name": "stdout",
          "text": [
            "2020 4 30\n"
          ]
        }
      ]
    },
    {
      "cell_type": "code",
      "source": [
        "today = datetime.today()\n",
        "bd3 = BetterDate.from_datetime(today)\n",
        "print(bd3.year, bd3.month, bd3.day)"
      ],
      "metadata": {
        "colab": {
          "base_uri": "https://localhost:8080/"
        },
        "id": "Wfsq-5cmG-HK",
        "outputId": "dd9e632b-beaf-4bc7-d1ca-90a02e42b85e"
      },
      "execution_count": 59,
      "outputs": [
        {
          "output_type": "stream",
          "name": "stdout",
          "text": [
            "2023 1 7\n"
          ]
        }
      ]
    },
    {
      "cell_type": "markdown",
      "source": [
        "### Class inheritance\n",
        "\n",
        "- OOP is fundamentally about code reuse\n",
        "- Modules are great for fixed functionality\n",
        "- OOP is great for cutomizing functionality\n",
        "- You may find yourself writing the same code repeatedly"
      ],
      "metadata": {
        "id": "WemtW7tnJ5RG"
      }
    },
    {
      "cell_type": "markdown",
      "source": [
        "#### Inheritance\n",
        "\n",
        "- `New class functionality = Old class functionality + extra`\n",
        "- **Class inheritance** is a mechanisim by which we can define a new class that gets all the functionality of another class plus something extra\n",
        "    - without re-implementing the code"
      ],
      "metadata": {
        "id": "KeLj5cMFcII-"
      }
    },
    {
      "cell_type": "markdown",
      "source": [
        "##### Example\n",
        "\n",
        "- `BankAccount` class\n",
        "    1. `balance` attribute\n",
        "    2. `withdraw()` method\n",
        "- `SavingsAccount` class\n",
        "    1. has what a `BankAccount` class has, plus\n",
        "    2. `interest_rate` attribute\n",
        "    3. `compute_interest()` method\n",
        "- `ChequingAccount` class\n",
        "    1. has what a `BankAccount` class has, plus\n",
        "    2. `limit` attribute\n",
        "    3. `deposit()` method\n",
        "    4. the `withdraw()` class is a modified version of the same method in the `BankAccount` class, maybe it charges a fee for withdrawals\n",
        "\n",
        "It makes sense to reuse the code in the `BankAccount` class when create the `SavingsAccount` and `ChequingAccount` classes"
      ],
      "metadata": {
        "id": "lt4k9FCUdHA-"
      }
    },
    {
      "cell_type": "code",
      "source": [
        "class BankAccount:\n",
        "    def __init__(self, balance):\n",
        "        self.balance = balance\n",
        "\n",
        "    def withdraw(self, amount):\n",
        "        self.balance -= amount\n",
        "\n",
        "# Empty class inherited from BankAccount\n",
        "class SavingsAccount(BankAccount):\n",
        "    pass"
      ],
      "metadata": {
        "id": "Ot27J0D3gDO-"
      },
      "execution_count": 60,
      "outputs": []
    },
    {
      "cell_type": "markdown",
      "source": [
        "##### Child class\n",
        "\n",
        "- The child class has all of the parent data\n",
        "- This is because a `SavingsAccount` **is a** `BankAccount`\n",
        "    - Inheritance: \"is-a\" relationship"
      ],
      "metadata": {
        "id": "cK-pt4oxhh5k"
      }
    },
    {
      "cell_type": "code",
      "source": [
        "savAcc = SavingsAccount(1000)\n",
        "type(savAcc)"
      ],
      "metadata": {
        "colab": {
          "base_uri": "https://localhost:8080/"
        },
        "id": "M02cXWm7hr9a",
        "outputId": "9b2da291-72b1-4e59-e4bc-52d62e3c9955"
      },
      "execution_count": 61,
      "outputs": [
        {
          "output_type": "execute_result",
          "data": {
            "text/plain": [
              "__main__.SavingsAccount"
            ]
          },
          "metadata": {},
          "execution_count": 61
        }
      ]
    },
    {
      "cell_type": "code",
      "source": [
        "print(savAcc.balance)\n",
        "savAcc.withdraw(100)\n",
        "print(savAcc.balance)"
      ],
      "metadata": {
        "colab": {
          "base_uri": "https://localhost:8080/"
        },
        "id": "SvY3VDwUh3Te",
        "outputId": "9fd54c4a-4187-4a95-9b20-9a96c64acb82"
      },
      "execution_count": 62,
      "outputs": [
        {
          "output_type": "stream",
          "name": "stdout",
          "text": [
            "1000\n",
            "900\n"
          ]
        }
      ]
    },
    {
      "cell_type": "markdown",
      "source": [
        "##### Inheritance: \"is-a\" relationship"
      ],
      "metadata": {
        "id": "ZskMucLHjfF6"
      }
    },
    {
      "cell_type": "code",
      "source": [
        "isinstance(savAcc, SavingsAccount), isinstance(savAcc, BankAccount)"
      ],
      "metadata": {
        "colab": {
          "base_uri": "https://localhost:8080/"
        },
        "id": "tRlAwxJnjAil",
        "outputId": "b9c3a390-7468-47b2-dcb2-815ed8c8c34e"
      },
      "execution_count": 63,
      "outputs": [
        {
          "output_type": "execute_result",
          "data": {
            "text/plain": [
              "(True, True)"
            ]
          },
          "metadata": {},
          "execution_count": 63
        }
      ]
    },
    {
      "cell_type": "code",
      "source": [
        "acc = BankAccount(100)\n",
        "type(acc)"
      ],
      "metadata": {
        "colab": {
          "base_uri": "https://localhost:8080/"
        },
        "id": "XPMb2LIojJ9f",
        "outputId": "fc8c7d83-1611-4164-9abb-edd3d0615fa2"
      },
      "execution_count": 64,
      "outputs": [
        {
          "output_type": "execute_result",
          "data": {
            "text/plain": [
              "__main__.BankAccount"
            ]
          },
          "metadata": {},
          "execution_count": 64
        }
      ]
    },
    {
      "cell_type": "code",
      "source": [
        "isinstance(acc, SavingsAccount), isinstance(acc, BankAccount)"
      ],
      "metadata": {
        "colab": {
          "base_uri": "https://localhost:8080/"
        },
        "id": "Ush04dvyjwmR",
        "outputId": "e2ac7624-00f9-410b-a23a-54b3f45ca552"
      },
      "execution_count": 65,
      "outputs": [
        {
          "output_type": "execute_result",
          "data": {
            "text/plain": [
              "(False, True)"
            ]
          },
          "metadata": {},
          "execution_count": 65
        }
      ]
    },
    {
      "cell_type": "markdown",
      "source": [
        "#### Understanding inheritance"
      ],
      "metadata": {
        "id": "Z0S6L_TRkCCa"
      }
    },
    {
      "cell_type": "code",
      "source": [
        "class Counter:\n",
        "    def __init__(self, count):\n",
        "        self.count = count\n",
        "\n",
        "    def add_counts(self, n):\n",
        "        self.count += n\n",
        "\n",
        "class Indexer(Counter):\n",
        "    pass"
      ],
      "metadata": {
        "id": "CCCOLfksgWvj"
      },
      "execution_count": 66,
      "outputs": []
    },
    {
      "cell_type": "code",
      "source": [
        "ind = Indexer(10)"
      ],
      "metadata": {
        "id": "QnM5wtVrgl6u"
      },
      "execution_count": 67,
      "outputs": []
    },
    {
      "cell_type": "code",
      "source": [
        "ind.count"
      ],
      "metadata": {
        "colab": {
          "base_uri": "https://localhost:8080/"
        },
        "id": "lB3TBh02gpRS",
        "outputId": "93033645-c0f1-4757-ead8-e87b1c72d34d"
      },
      "execution_count": 68,
      "outputs": [
        {
          "output_type": "execute_result",
          "data": {
            "text/plain": [
              "10"
            ]
          },
          "metadata": {},
          "execution_count": 68
        }
      ]
    },
    {
      "cell_type": "code",
      "source": [
        "ind.add_counts(5)\n",
        "ind.count"
      ],
      "metadata": {
        "colab": {
          "base_uri": "https://localhost:8080/"
        },
        "id": "3ei6e_2ygu1X",
        "outputId": "d53d03d2-36a0-4ae9-97bc-fd5ee2404e4c"
      },
      "execution_count": 69,
      "outputs": [
        {
          "output_type": "execute_result",
          "data": {
            "text/plain": [
              "15"
            ]
          },
          "metadata": {},
          "execution_count": 69
        }
      ]
    },
    {
      "cell_type": "markdown",
      "source": [
        "#### Create a subclass"
      ],
      "metadata": {
        "id": "FEIlhiMZicFY"
      }
    },
    {
      "cell_type": "code",
      "source": [
        "class Employee:\n",
        "  MIN_SALARY = 30000    \n",
        "\n",
        "  def __init__(self, name, salary=MIN_SALARY):\n",
        "      self.name = name\n",
        "      if salary >= Employee.MIN_SALARY:\n",
        "        self.salary = salary\n",
        "      else:\n",
        "        self.salary = Employee.MIN_SALARY\n",
        "        \n",
        "  def give_raise(self, amount):\n",
        "      self.salary += amount      "
      ],
      "metadata": {
        "id": "bpQ5WRN-ixEx"
      },
      "execution_count": 70,
      "outputs": []
    },
    {
      "cell_type": "code",
      "source": [
        "class Manager(Employee):\n",
        "    def display(self):\n",
        "        print(\"Manager \" + self.name)"
      ],
      "metadata": {
        "id": "5IjMZfwmi7eZ"
      },
      "execution_count": 71,
      "outputs": []
    },
    {
      "cell_type": "code",
      "source": [
        "mng = Manager(\"Debbie Lashko\", 86500)"
      ],
      "metadata": {
        "id": "mFGU4wzTjBOC"
      },
      "execution_count": 72,
      "outputs": []
    },
    {
      "cell_type": "code",
      "source": [
        "mng.name, mng.salary"
      ],
      "metadata": {
        "colab": {
          "base_uri": "https://localhost:8080/"
        },
        "id": "eGWplDA6jLr5",
        "outputId": "eaabc42f-62f2-4e56-9065-f8b75f3374b2"
      },
      "execution_count": 73,
      "outputs": [
        {
          "output_type": "execute_result",
          "data": {
            "text/plain": [
              "('Debbie Lashko', 86500)"
            ]
          },
          "metadata": {},
          "execution_count": 73
        }
      ]
    },
    {
      "cell_type": "code",
      "source": [
        "mng.display()"
      ],
      "metadata": {
        "colab": {
          "base_uri": "https://localhost:8080/"
        },
        "id": "5posVOXmlcOO",
        "outputId": "7edb5570-eef8-4b27-c452-f2864bb33d7b"
      },
      "execution_count": 74,
      "outputs": [
        {
          "output_type": "stream",
          "name": "stdout",
          "text": [
            "Manager Debbie Lashko\n"
          ]
        }
      ]
    },
    {
      "cell_type": "markdown",
      "source": [
        "### Customizing functionality via inheritance"
      ],
      "metadata": {
        "id": "WNAQokMvmE2G"
      }
    },
    {
      "cell_type": "code",
      "source": [
        "class BankAccount:\n",
        "    def __init__(self, balance):\n",
        "        self.balance = balance\n",
        "\n",
        "    def withdraw(self, amount):\n",
        "        self.balance -= amount\n",
        "\n",
        "# Empty class inherited from BankAccount\n",
        "class SavingsAccount(BankAccount):\n",
        "    # constructor specifically for SavingsAccount with additional parameter\n",
        "    def __init__(self, balance, interest_rate):\n",
        "        # call the parent constructor\n",
        "        BankAccount.__init__(self, balance)\n",
        "        # add more functionality\n",
        "        self.interest_rate = interest_rate\n",
        "\n",
        "    # new functionality\n",
        "    def compute_interest(self, n_periods = 1):\n",
        "        return self.balance * ((1 + self.interest_rate) ** n_periods - 1)"
      ],
      "metadata": {
        "id": "aNE5PsDRmpqE"
      },
      "execution_count": 75,
      "outputs": []
    },
    {
      "cell_type": "code",
      "source": [
        "sav = SavingsAccount(500, 0.03)\n",
        "sav.balance, sav.interest_rate"
      ],
      "metadata": {
        "colab": {
          "base_uri": "https://localhost:8080/"
        },
        "id": "wIEtPt6aoOVo",
        "outputId": "5b9cced9-21bd-4c28-8352-39fbab9931b4"
      },
      "execution_count": 76,
      "outputs": [
        {
          "output_type": "execute_result",
          "data": {
            "text/plain": [
              "(500, 0.03)"
            ]
          },
          "metadata": {},
          "execution_count": 76
        }
      ]
    },
    {
      "cell_type": "code",
      "source": [
        "sav.withdraw(50)\n",
        "sav.balance"
      ],
      "metadata": {
        "colab": {
          "base_uri": "https://localhost:8080/"
        },
        "id": "CUqyz8AVoZu6",
        "outputId": "2e72b93a-96ee-4fe6-8242-638ca2cf628d"
      },
      "execution_count": 77,
      "outputs": [
        {
          "output_type": "execute_result",
          "data": {
            "text/plain": [
              "450"
            ]
          },
          "metadata": {},
          "execution_count": 77
        }
      ]
    },
    {
      "cell_type": "code",
      "source": [
        "sav.compute_interest()"
      ],
      "metadata": {
        "colab": {
          "base_uri": "https://localhost:8080/"
        },
        "id": "k6iZvgoOpSrm",
        "outputId": "8d1d129b-582c-42cd-80f7-5f905f5d4503"
      },
      "execution_count": 78,
      "outputs": [
        {
          "output_type": "execute_result",
          "data": {
            "text/plain": [
              "13.500000000000012"
            ]
          },
          "metadata": {},
          "execution_count": 78
        }
      ]
    },
    {
      "cell_type": "code",
      "source": [
        "sav.compute_interest(10)"
      ],
      "metadata": {
        "colab": {
          "base_uri": "https://localhost:8080/"
        },
        "id": "7G_3y-o1qdDo",
        "outputId": "c87d6766-9670-498d-a0f8-ced3a45239f2"
      },
      "execution_count": 79,
      "outputs": [
        {
          "output_type": "execute_result",
          "data": {
            "text/plain": [
              "154.762370704855"
            ]
          },
          "metadata": {},
          "execution_count": 79
        }
      ]
    },
    {
      "cell_type": "code",
      "source": [
        "class CheckingAccount(BankAccount):\n",
        "    def __init__(self, balance, limit):\n",
        "        BankAccount.__init__(self, balance)\n",
        "        self.limit = limit \n",
        "    \n",
        "    def deposit(self, amount):\n",
        "        self.balance += amount\n",
        "\n",
        "    # we can change the signature of the parent withdraw method\n",
        "    # we use `Parent.method_name(self, args...) to call the parent method\n",
        "    def withdraw(self, amount, fee=0):\n",
        "        if fee <= self.limit:\n",
        "            BankAccount.withdraw(self, amount - fee)\n",
        "        else:\n",
        "            BankAccount.withdraw(self, amount - self.limit)"
      ],
      "metadata": {
        "id": "1XWJe8orrDUe"
      },
      "execution_count": 80,
      "outputs": []
    },
    {
      "cell_type": "code",
      "source": [
        "check_acct = CheckingAccount(1000, 25)\n",
        "reg_acct = BankAccount(1000)\n",
        "\n",
        "check_acct.balance, reg_acct.balance"
      ],
      "metadata": {
        "colab": {
          "base_uri": "https://localhost:8080/"
        },
        "id": "-YZ6rEWAtAmr",
        "outputId": "6687fa25-f12b-4132-d065-acf54dcf0a9c"
      },
      "execution_count": 81,
      "outputs": [
        {
          "output_type": "execute_result",
          "data": {
            "text/plain": [
              "(1000, 1000)"
            ]
          },
          "metadata": {},
          "execution_count": 81
        }
      ]
    },
    {
      "cell_type": "code",
      "source": [
        "check_acct.withdraw(100)\n",
        "reg_acct.withdraw(100)\n",
        "\n",
        "# note that the interface of the call is the same\n",
        "# - but the actual method is determined by the \n",
        "#   instance class\n",
        "#    - this is an application of polymorphism\n",
        "check_acct.balance, reg_acct.balance"
      ],
      "metadata": {
        "colab": {
          "base_uri": "https://localhost:8080/"
        },
        "id": "JC4g8Us4tMiq",
        "outputId": "cb580711-60ca-4367-912c-185f739574c0"
      },
      "execution_count": 82,
      "outputs": [
        {
          "output_type": "execute_result",
          "data": {
            "text/plain": [
              "(900, 900)"
            ]
          },
          "metadata": {},
          "execution_count": 82
        }
      ]
    },
    {
      "cell_type": "code",
      "source": [
        "check_acct.withdraw(100, fee=10)\n",
        "check_acct.balance"
      ],
      "metadata": {
        "colab": {
          "base_uri": "https://localhost:8080/"
        },
        "id": "35NY0UIRu1Yk",
        "outputId": "0d345da0-37cb-4c43-9d95-19b0bf7ff7c6"
      },
      "execution_count": 83,
      "outputs": [
        {
          "output_type": "execute_result",
          "data": {
            "text/plain": [
              "810"
            ]
          },
          "metadata": {},
          "execution_count": 83
        }
      ]
    },
    {
      "cell_type": "code",
      "source": [
        "# error\n",
        "# reg_acct.withdraw(100, fee=10)"
      ],
      "metadata": {
        "id": "7D606ofxvEPS"
      },
      "execution_count": 84,
      "outputs": []
    },
    {
      "cell_type": "markdown",
      "source": [
        "#### Method inheritance"
      ],
      "metadata": {
        "id": "-QPsh1uKvU4P"
      }
    },
    {
      "cell_type": "markdown",
      "source": [
        "Add a constructor to Manager that:\n",
        "\n",
        "- accepts `name`, `salary` (default `50000`), and project (default `None`)\n",
        "- calls the constructor of the `Employee` class with the `name` and `salary` parameters,\n",
        "- creates a project attribute and sets it to the project parameter.\n",
        "\n",
        "Add a `give_raise()` method to `Manager` that:\n",
        "\n",
        "- accetps the same parameters as `Employee.give_raise()`, plus a `bonus` parameter with a default value of `1.05` (bonus of 5%)\n",
        "- multiplies `amount` by `bonus`\n",
        "- uses the `Employee`'s method to rais salary by that product"
      ],
      "metadata": {
        "id": "sgVD5A_YuOAH"
      }
    },
    {
      "cell_type": "code",
      "source": [
        "class Employee:\n",
        "    def __init__(self, name, salary=30000):\n",
        "        self.name = name\n",
        "        self.salary = salary\n",
        "\n",
        "    def give_raise(self, amount):\n",
        "        self.salary += amount\n",
        "\n",
        "        \n",
        "class Manager(Employee):\n",
        "  # Add a constructor \n",
        "    def __init__(self, name, salary=50000, project=None):\n",
        "\n",
        "        # Call the parent's constructor   \n",
        "        Employee.__init__(self, name, salary)\n",
        "\n",
        "        # Assign project attribute\n",
        "        self.project = project  \n",
        "\n",
        "    # add a give_raise method\n",
        "    def give_raise(self, amount, bonus=1.05):\n",
        "        Employee.give_raise(self, amount * bonus)\n",
        "\n",
        "  \n",
        "    def display(self):\n",
        "        print(\"Manager \", self.name)"
      ],
      "metadata": {
        "id": "bf3H8GYVuJe-"
      },
      "execution_count": 85,
      "outputs": []
    },
    {
      "cell_type": "code",
      "source": [
        "mngr = Manager(\"Paul\", 100_000)\n",
        "mngr.display()"
      ],
      "metadata": {
        "colab": {
          "base_uri": "https://localhost:8080/"
        },
        "id": "NvDOBavoudmR",
        "outputId": "44eba9ac-ae31-442b-c407-446c3eca72a6"
      },
      "execution_count": 86,
      "outputs": [
        {
          "output_type": "stream",
          "name": "stdout",
          "text": [
            "Manager  Paul\n"
          ]
        }
      ]
    },
    {
      "cell_type": "code",
      "source": [
        "mngr = Manager('Ashta Dunbar', 78500)\n",
        "mngr.give_raise(1000)\n",
        "print(mngr.salary)\n",
        "mngr.give_raise(2000, bonus=1.03)\n",
        "print(mngr.salary)"
      ],
      "metadata": {
        "colab": {
          "base_uri": "https://localhost:8080/"
        },
        "id": "KuT6XQ8rwgp0",
        "outputId": "76714ffe-a0df-48e8-8b2c-22e0889185d6"
      },
      "execution_count": 87,
      "outputs": [
        {
          "output_type": "stream",
          "name": "stdout",
          "text": [
            "79550.0\n",
            "81610.0\n"
          ]
        }
      ]
    },
    {
      "cell_type": "markdown",
      "source": [
        "#### Inheritance of class attributes"
      ],
      "metadata": {
        "id": "0nhH_8lCw7RW"
      }
    },
    {
      "cell_type": "code",
      "source": [
        "class Player:\n",
        "\n",
        "    MAX_POSITION = 10\n",
        "    MAX_SPEED = 3\n",
        "\n",
        "    def __init__(self):\n",
        "        self.position = 0\n",
        "\n",
        "    # Add a move() method with steps parameter\n",
        "    def move(self, steps):\n",
        "        if self.position + steps < Player.MAX_POSITION:\n",
        "            self.position += steps\n",
        "        else:\n",
        "            self.position = Player.MAX_POSITION\n",
        "\n",
        "    # This method provides a rudimentary visualization in the console    \n",
        "    def draw(self):\n",
        "        drawing = \"-\" * self.position + \"|\" +\"-\"*(Player.MAX_POSITION - self.position)\n",
        "        print(drawing)"
      ],
      "metadata": {
        "id": "VeGe8pQBw_PX"
      },
      "execution_count": 88,
      "outputs": []
    },
    {
      "cell_type": "code",
      "source": [
        "# Create a Racer class and set MAX_SPEED to 5\n",
        "class Racer(Player):\n",
        "    \n",
        "    MAX_SPEED = 5\n",
        " \n",
        "# Create a Player and a Racer objects\n",
        "p = Player()\n",
        "r = Racer()\n",
        "\n",
        "print(\"p.MAX_SPEED = \", p.MAX_SPEED)\n",
        "print(\"r.MAX_SPEED = \", r.MAX_SPEED)\n",
        "\n",
        "print(\"p.MAX_POSITION = \", p.MAX_POSITION)\n",
        "print(\"r.MAX_POSITION = \", r.MAX_POSITION)"
      ],
      "metadata": {
        "colab": {
          "base_uri": "https://localhost:8080/"
        },
        "id": "A-RF8A_0xDv4",
        "outputId": "0ecf445b-92c4-4c35-9a7a-4809bb4ea69e"
      },
      "execution_count": 89,
      "outputs": [
        {
          "output_type": "stream",
          "name": "stdout",
          "text": [
            "p.MAX_SPEED =  3\n",
            "r.MAX_SPEED =  5\n",
            "p.MAX_POSITION =  10\n",
            "r.MAX_POSITION =  10\n"
          ]
        }
      ]
    },
    {
      "cell_type": "code",
      "source": [
        "p.position, r.position"
      ],
      "metadata": {
        "colab": {
          "base_uri": "https://localhost:8080/"
        },
        "id": "RDZme4fN0NbT",
        "outputId": "caa3ac04-086a-4fb9-818a-e6dcbb1cdc29"
      },
      "execution_count": 90,
      "outputs": [
        {
          "output_type": "execute_result",
          "data": {
            "text/plain": [
              "(0, 0)"
            ]
          },
          "metadata": {},
          "execution_count": 90
        }
      ]
    },
    {
      "cell_type": "markdown",
      "source": [
        "#### Customizing a DataFrame"
      ],
      "metadata": {
        "id": "FcM3gBZf0gN3"
      }
    },
    {
      "cell_type": "code",
      "source": [
        "# Import pandas as pd\n",
        "import pandas as pd\n",
        "\n",
        "# Define LoggedDF inherited from pd.DataFrame and add the constructor\n",
        "class LoggedDF(pd.DataFrame):\n",
        "    def __init__(self, *args, **kwargs):\n",
        "        pd.DataFrame.__init__(self, *args, **kwargs)\n",
        "        self.created_at = datetime.today()\n",
        "\n",
        "    def to_csv(self, *args, **kwargs):\n",
        "        # copy self to a temporary DataFrame\n",
        "        temp = self.copy()\n",
        "        \n",
        "        temp['created_at'] = self.created_at\n",
        "\n",
        "        return pd.DataFrame.to_csv(temp, *args, **kwargs)\n",
        "    \n",
        "    \n",
        "ldf = LoggedDF({\"col1\": [1,2], \"col2\": [3,4]})\n",
        "print(ldf.values)\n",
        "print(ldf.created_at)"
      ],
      "metadata": {
        "colab": {
          "base_uri": "https://localhost:8080/"
        },
        "id": "0ZbCiMmD1wcR",
        "outputId": "66260140-f9a0-40ed-922d-5a85f5064528"
      },
      "execution_count": 91,
      "outputs": [
        {
          "output_type": "stream",
          "name": "stdout",
          "text": [
            "[[1 3]\n",
            " [2 4]]\n",
            "2023-01-07 00:18:48.676301\n"
          ]
        }
      ]
    },
    {
      "cell_type": "code",
      "source": [
        "ldf"
      ],
      "metadata": {
        "colab": {
          "base_uri": "https://localhost:8080/",
          "height": 112
        },
        "id": "yEjEUQPL10vi",
        "outputId": "fa1a97d0-2ea3-4668-d291-65bba50e0647"
      },
      "execution_count": 92,
      "outputs": [
        {
          "output_type": "execute_result",
          "data": {
            "text/plain": [
              "   col1  col2\n",
              "0     1     3\n",
              "1     2     4"
            ],
            "text/html": [
              "\n",
              "  <div id=\"df-2129b637-f216-4ed6-8105-5d5d760bea4f\">\n",
              "    <div class=\"colab-df-container\">\n",
              "      <div>\n",
              "<style scoped>\n",
              "    .dataframe tbody tr th:only-of-type {\n",
              "        vertical-align: middle;\n",
              "    }\n",
              "\n",
              "    .dataframe tbody tr th {\n",
              "        vertical-align: top;\n",
              "    }\n",
              "\n",
              "    .dataframe thead th {\n",
              "        text-align: right;\n",
              "    }\n",
              "</style>\n",
              "<table border=\"1\" class=\"dataframe\">\n",
              "  <thead>\n",
              "    <tr style=\"text-align: right;\">\n",
              "      <th></th>\n",
              "      <th>col1</th>\n",
              "      <th>col2</th>\n",
              "    </tr>\n",
              "  </thead>\n",
              "  <tbody>\n",
              "    <tr>\n",
              "      <th>0</th>\n",
              "      <td>1</td>\n",
              "      <td>3</td>\n",
              "    </tr>\n",
              "    <tr>\n",
              "      <th>1</th>\n",
              "      <td>2</td>\n",
              "      <td>4</td>\n",
              "    </tr>\n",
              "  </tbody>\n",
              "</table>\n",
              "</div>\n",
              "      <button class=\"colab-df-convert\" onclick=\"convertToInteractive('df-2129b637-f216-4ed6-8105-5d5d760bea4f')\"\n",
              "              title=\"Convert this dataframe to an interactive table.\"\n",
              "              style=\"display:none;\">\n",
              "        \n",
              "  <svg xmlns=\"http://www.w3.org/2000/svg\" height=\"24px\"viewBox=\"0 0 24 24\"\n",
              "       width=\"24px\">\n",
              "    <path d=\"M0 0h24v24H0V0z\" fill=\"none\"/>\n",
              "    <path d=\"M18.56 5.44l.94 2.06.94-2.06 2.06-.94-2.06-.94-.94-2.06-.94 2.06-2.06.94zm-11 1L8.5 8.5l.94-2.06 2.06-.94-2.06-.94L8.5 2.5l-.94 2.06-2.06.94zm10 10l.94 2.06.94-2.06 2.06-.94-2.06-.94-.94-2.06-.94 2.06-2.06.94z\"/><path d=\"M17.41 7.96l-1.37-1.37c-.4-.4-.92-.59-1.43-.59-.52 0-1.04.2-1.43.59L10.3 9.45l-7.72 7.72c-.78.78-.78 2.05 0 2.83L4 21.41c.39.39.9.59 1.41.59.51 0 1.02-.2 1.41-.59l7.78-7.78 2.81-2.81c.8-.78.8-2.07 0-2.86zM5.41 20L4 18.59l7.72-7.72 1.47 1.35L5.41 20z\"/>\n",
              "  </svg>\n",
              "      </button>\n",
              "      \n",
              "  <style>\n",
              "    .colab-df-container {\n",
              "      display:flex;\n",
              "      flex-wrap:wrap;\n",
              "      gap: 12px;\n",
              "    }\n",
              "\n",
              "    .colab-df-convert {\n",
              "      background-color: #E8F0FE;\n",
              "      border: none;\n",
              "      border-radius: 50%;\n",
              "      cursor: pointer;\n",
              "      display: none;\n",
              "      fill: #1967D2;\n",
              "      height: 32px;\n",
              "      padding: 0 0 0 0;\n",
              "      width: 32px;\n",
              "    }\n",
              "\n",
              "    .colab-df-convert:hover {\n",
              "      background-color: #E2EBFA;\n",
              "      box-shadow: 0px 1px 2px rgba(60, 64, 67, 0.3), 0px 1px 3px 1px rgba(60, 64, 67, 0.15);\n",
              "      fill: #174EA6;\n",
              "    }\n",
              "\n",
              "    [theme=dark] .colab-df-convert {\n",
              "      background-color: #3B4455;\n",
              "      fill: #D2E3FC;\n",
              "    }\n",
              "\n",
              "    [theme=dark] .colab-df-convert:hover {\n",
              "      background-color: #434B5C;\n",
              "      box-shadow: 0px 1px 3px 1px rgba(0, 0, 0, 0.15);\n",
              "      filter: drop-shadow(0px 1px 2px rgba(0, 0, 0, 0.3));\n",
              "      fill: #FFFFFF;\n",
              "    }\n",
              "  </style>\n",
              "\n",
              "      <script>\n",
              "        const buttonEl =\n",
              "          document.querySelector('#df-2129b637-f216-4ed6-8105-5d5d760bea4f button.colab-df-convert');\n",
              "        buttonEl.style.display =\n",
              "          google.colab.kernel.accessAllowed ? 'block' : 'none';\n",
              "\n",
              "        async function convertToInteractive(key) {\n",
              "          const element = document.querySelector('#df-2129b637-f216-4ed6-8105-5d5d760bea4f');\n",
              "          const dataTable =\n",
              "            await google.colab.kernel.invokeFunction('convertToInteractive',\n",
              "                                                     [key], {});\n",
              "          if (!dataTable) return;\n",
              "\n",
              "          const docLinkHtml = 'Like what you see? Visit the ' +\n",
              "            '<a target=\"_blank\" href=https://colab.research.google.com/notebooks/data_table.ipynb>data table notebook</a>'\n",
              "            + ' to learn more about interactive tables.';\n",
              "          element.innerHTML = '';\n",
              "          dataTable['output_type'] = 'display_data';\n",
              "          await google.colab.output.renderOutput(dataTable, element);\n",
              "          const docLink = document.createElement('div');\n",
              "          docLink.innerHTML = docLinkHtml;\n",
              "          element.appendChild(docLink);\n",
              "        }\n",
              "      </script>\n",
              "    </div>\n",
              "  </div>\n",
              "  "
            ]
          },
          "metadata": {},
          "execution_count": 92
        }
      ]
    },
    {
      "cell_type": "code",
      "source": [
        "csv_data = ldf.to_csv()"
      ],
      "metadata": {
        "id": "SwEBbwX53H4s"
      },
      "execution_count": 93,
      "outputs": []
    },
    {
      "cell_type": "code",
      "source": [
        "print(csv_data)"
      ],
      "metadata": {
        "colab": {
          "base_uri": "https://localhost:8080/"
        },
        "id": "u12HLSEM5fNh",
        "outputId": "3a3226e2-f088-4b72-c86a-c9aec577881f"
      },
      "execution_count": 94,
      "outputs": [
        {
          "output_type": "stream",
          "name": "stdout",
          "text": [
            ",col1,col2,created_at\n",
            "0,1,3,2023-01-07 00:18:48.676301\n",
            "1,2,4,2023-01-07 00:18:48.676301\n",
            "\n"
          ]
        }
      ]
    },
    {
      "cell_type": "markdown",
      "source": [
        "## Integrating with Standard Python"
      ],
      "metadata": {
        "id": "ItVb4hgk6v1P"
      }
    },
    {
      "cell_type": "markdown",
      "source": [
        "### Operator overloading: comparison"
      ],
      "metadata": {
        "id": "-JyIWhQ265WG"
      }
    },
    {
      "cell_type": "markdown",
      "source": [
        "#### Object equality"
      ],
      "metadata": {
        "id": "0IgHyjd77jVH"
      }
    },
    {
      "cell_type": "code",
      "source": [
        "# `id` uniquely identifies a customer\n",
        "class Customer:\n",
        "    def __init__(self, name, balance, id):\n",
        "        self.name, self.balance = name, balance\n",
        "        self.id = id\n",
        "\n",
        "customer1 = Customer(\"Maryam Azar\", 3000, 123)\n",
        "customer2 = Customer(\"Maryam Azar\", 3000, 123)"
      ],
      "metadata": {
        "id": "vok3tdXz7oBU"
      },
      "execution_count": 95,
      "outputs": []
    },
    {
      "cell_type": "code",
      "source": [
        "customer1 == customer2"
      ],
      "metadata": {
        "colab": {
          "base_uri": "https://localhost:8080/"
        },
        "id": "ERJMyPWR75MA",
        "outputId": "ae4fc9ee-7eb5-416b-efb8-440cd81d0185"
      },
      "execution_count": 96,
      "outputs": [
        {
          "output_type": "execute_result",
          "data": {
            "text/plain": [
              "False"
            ]
          },
          "metadata": {},
          "execution_count": 96
        }
      ]
    },
    {
      "cell_type": "code",
      "source": [
        "# - these are distinct objects storted in 2 separate locations\n",
        "# - these variables, `customer1` and `customer2` contain\n",
        "#   references to the memory chunks where they are stored\n",
        "customer1, customer2"
      ],
      "metadata": {
        "colab": {
          "base_uri": "https://localhost:8080/"
        },
        "id": "RqfgN96c8vds",
        "outputId": "5e941f11-b8db-4fde-ac1a-8f6fd755753f"
      },
      "execution_count": 97,
      "outputs": [
        {
          "output_type": "execute_result",
          "data": {
            "text/plain": [
              "(<__main__.Customer at 0x7f2731e03b80>, <__main__.Customer at 0x7f2731e03bb0>)"
            ]
          },
          "metadata": {},
          "execution_count": 97
        }
      ]
    },
    {
      "cell_type": "code",
      "source": [
        "array1 = np.array([1, 2, 3])\n",
        "array2 = np.array([1, 2, 3])\n",
        "\n",
        "array1, array2"
      ],
      "metadata": {
        "colab": {
          "base_uri": "https://localhost:8080/"
        },
        "id": "9Q95S_Op-N0j",
        "outputId": "269d20ce-e8a1-4dd0-9efc-1b3b8507db8b"
      },
      "execution_count": 98,
      "outputs": [
        {
          "output_type": "execute_result",
          "data": {
            "text/plain": [
              "(array([1, 2, 3]), array([1, 2, 3]))"
            ]
          },
          "metadata": {},
          "execution_count": 98
        }
      ]
    },
    {
      "cell_type": "code",
      "source": [
        "array1 == array2 # compared using their data, not references"
      ],
      "metadata": {
        "colab": {
          "base_uri": "https://localhost:8080/"
        },
        "id": "XuB1maxI-Wmw",
        "outputId": "741acd98-ae3d-44d3-d163-a839d7d370ee"
      },
      "execution_count": 99,
      "outputs": [
        {
          "output_type": "execute_result",
          "data": {
            "text/plain": [
              "array([ True,  True,  True])"
            ]
          },
          "metadata": {},
          "execution_count": 99
        }
      ]
    },
    {
      "cell_type": "markdown",
      "source": [
        "#### Overloading `__eq__()`"
      ],
      "metadata": {
        "id": "b_Lxlcxv-moj"
      }
    },
    {
      "cell_type": "code",
      "source": [
        "class Customer:\n",
        "    def __init__(self, id, name):\n",
        "        self.id, self.name = id, name \n",
        "\n",
        "    # will be called when `==` is used\n",
        "    def __eq__(self, other):\n",
        "        # diagnostic printout\n",
        "        print(\"__eq__() is called\")\n",
        "\n",
        "        return (self.id == other.id) and \\\n",
        "         (self.name == other.name)"
      ],
      "metadata": {
        "id": "8YbmhLF5-r7R"
      },
      "execution_count": 100,
      "outputs": []
    },
    {
      "cell_type": "code",
      "source": [
        "customer1 = Customer(123, \"Maryan Azar\")\n",
        "customer2 = Customer(123, \"Maryan Azar\")\n",
        "\n",
        "customer1 == customer2"
      ],
      "metadata": {
        "colab": {
          "base_uri": "https://localhost:8080/"
        },
        "id": "v5-A8J7XAUNH",
        "outputId": "fe72d939-2d0b-407a-dbe7-b6c1a2ec8637"
      },
      "execution_count": 101,
      "outputs": [
        {
          "output_type": "stream",
          "name": "stdout",
          "text": [
            "__eq__() is called\n"
          ]
        },
        {
          "output_type": "execute_result",
          "data": {
            "text/plain": [
              "True"
            ]
          },
          "metadata": {},
          "execution_count": 101
        }
      ]
    },
    {
      "cell_type": "code",
      "source": [
        "customer1 = Customer(123, \"Maryan Azar\")\n",
        "customer2 = Customer(456, \"Maryan Azar\")\n",
        "\n",
        "customer1 == customer2"
      ],
      "metadata": {
        "colab": {
          "base_uri": "https://localhost:8080/"
        },
        "id": "saGSXZviAtgM",
        "outputId": "8636fe16-f8eb-4c1b-c193-912cca8ad184"
      },
      "execution_count": 102,
      "outputs": [
        {
          "output_type": "stream",
          "name": "stdout",
          "text": [
            "__eq__() is called\n"
          ]
        },
        {
          "output_type": "execute_result",
          "data": {
            "text/plain": [
              "False"
            ]
          },
          "metadata": {},
          "execution_count": 102
        }
      ]
    },
    {
      "cell_type": "markdown",
      "source": [
        "#### Other comparison operators\n",
        "\n",
        "- `==`: `__eq__()`\n",
        "- `!=`: `__ne__()`\n",
        "- `>=`: `__ge__()`\n",
        "- `<=`: `__le__()`\n",
        "- `>`:  `__gt__()`\n",
        "- `<`:  `__lt__()`\n"
      ],
      "metadata": {
        "id": "lwMb6w7yBBQh"
      }
    },
    {
      "cell_type": "markdown",
      "source": [
        "#### `__hash__()`\n",
        "\n",
        "- to use objects as dictionary keys and in sets\n",
        "- it is beyond the scope of this course\n",
        "    - briefly:\n",
        "        - it should assign an integer to an object such that equal objects have equal hashes\n",
        "        - the object hash does not change throughout the object's lifetime"
      ],
      "metadata": {
        "id": "KLsdvt0GCFLK"
      }
    },
    {
      "cell_type": "markdown",
      "source": [
        "#### Overloading equality"
      ],
      "metadata": {
        "id": "x0kCyLkKDUrg"
      }
    },
    {
      "cell_type": "code",
      "source": [
        "class BankAccount:\n",
        "   # MODIFY to initialize a number attribute\n",
        "    def __init__(self, number, balance=0):\n",
        "        self.number = number\n",
        "        self.balance = balance\n",
        "      \n",
        "    def withdraw(self, amount):\n",
        "        self.balance -= amount \n",
        "    \n",
        "    # Define __eq__ that returns True if the number attributes are equal \n",
        "    def __eq__(self, other):\n",
        "        return self.number == other.number   \n",
        "\n",
        "# Create accounts and compare them       \n",
        "acct1 = BankAccount(123, 1000)\n",
        "acct2 = BankAccount(123, 1000)\n",
        "acct3 = BankAccount(456, 1000)\n",
        "print(acct1 == acct2)\n",
        "print(acct1 == acct3)"
      ],
      "metadata": {
        "colab": {
          "base_uri": "https://localhost:8080/"
        },
        "id": "NW_zK14BDbol",
        "outputId": "4f1f6c60-96b4-494f-b823-cf2c1aa26b57"
      },
      "execution_count": 103,
      "outputs": [
        {
          "output_type": "stream",
          "name": "stdout",
          "text": [
            "True\n",
            "False\n"
          ]
        }
      ]
    },
    {
      "cell_type": "markdown",
      "source": [
        "Notice that the `__eq__()` method compares just the account numbers, but not balances. What would happen if two accounts have the same account number but different balances? The code you wrote will treat these accounts as equal, but it might be better to throw an error - an `_exception_` - instead, informing the user that something is wrong. At the end of the chapter, you'll learn how to define your own exception classes to create these kinds of custom errors."
      ],
      "metadata": {
        "id": "D18ppAalDmT6"
      }
    },
    {
      "cell_type": "markdown",
      "source": [
        "#### Checking class equality\n",
        "\n",
        "- What is the objects are not from the same class?"
      ],
      "metadata": {
        "id": "owSpyJkSEkz1"
      }
    },
    {
      "cell_type": "code",
      "source": [
        "class BankAccount:\n",
        "    def __init__(self, number, balance=0):\n",
        "        self.number, self.balance = number, balance\n",
        "      \n",
        "    def withdraw(self, amount):\n",
        "        self.balance -= amount \n",
        "\n",
        "    # MODIFY to add a check for the type()\n",
        "    def __eq__(self, other):\n",
        "        return (self.number == other.number)"
      ],
      "metadata": {
        "id": "zDBqBCySEr4l"
      },
      "execution_count": 104,
      "outputs": []
    },
    {
      "cell_type": "code",
      "source": [
        "class Phone:\n",
        "    def __init__(self, number):\n",
        "        self.number = number"
      ],
      "metadata": {
        "id": "Qs6hTm4vEtfd"
      },
      "execution_count": 105,
      "outputs": []
    },
    {
      "cell_type": "code",
      "source": [
        "acct = BankAccount(8735553333)\n",
        "pn = Phone(8735553333)"
      ],
      "metadata": {
        "id": "oflomlYsE3p8"
      },
      "execution_count": 106,
      "outputs": []
    },
    {
      "cell_type": "code",
      "source": [
        "acct == pn "
      ],
      "metadata": {
        "colab": {
          "base_uri": "https://localhost:8080/"
        },
        "id": "VosPDx1cFDNW",
        "outputId": "34750d9e-839f-4ccb-b26c-e9fa9d33428f"
      },
      "execution_count": 107,
      "outputs": [
        {
          "output_type": "execute_result",
          "data": {
            "text/plain": [
              "True"
            ]
          },
          "metadata": {},
          "execution_count": 107
        }
      ]
    },
    {
      "cell_type": "code",
      "source": [
        "pn == acct"
      ],
      "metadata": {
        "colab": {
          "base_uri": "https://localhost:8080/"
        },
        "id": "fl95WZrOFvXU",
        "outputId": "b0365e14-6770-4c34-bfc3-4b63973d5588"
      },
      "execution_count": 108,
      "outputs": [
        {
          "output_type": "execute_result",
          "data": {
            "text/plain": [
              "True"
            ]
          },
          "metadata": {},
          "execution_count": 108
        }
      ]
    },
    {
      "cell_type": "markdown",
      "source": [
        "##### Modified version makes more sense"
      ],
      "metadata": {
        "id": "VWy0L4tKFJF3"
      }
    },
    {
      "cell_type": "code",
      "source": [
        "class BankAccount:\n",
        "    def __init__(self, number, balance=0):\n",
        "        self.number, self.balance = number, balance\n",
        "      \n",
        "    def withdraw(self, amount):\n",
        "        self.balance -= amount \n",
        "\n",
        "    # MODIFY to add a check for the type()\n",
        "    def __eq__(self, other):\n",
        "        return (self.number == other.number) and \\\n",
        "            (type(self) == type(other))"
      ],
      "metadata": {
        "id": "OEddtnSPFOUa"
      },
      "execution_count": 109,
      "outputs": []
    },
    {
      "cell_type": "code",
      "source": [
        "acct = BankAccount(8735553333)\n",
        "pn = Phone(8735553333)"
      ],
      "metadata": {
        "id": "x9rXhGWxFnr0"
      },
      "execution_count": 110,
      "outputs": []
    },
    {
      "cell_type": "code",
      "source": [
        "acct == pn"
      ],
      "metadata": {
        "colab": {
          "base_uri": "https://localhost:8080/"
        },
        "id": "5IZ0Z_l3FpD4",
        "outputId": "bc55611f-0a93-48bc-8e2f-87b2eab70ddf"
      },
      "execution_count": 111,
      "outputs": [
        {
          "output_type": "execute_result",
          "data": {
            "text/plain": [
              "False"
            ]
          },
          "metadata": {},
          "execution_count": 111
        }
      ]
    },
    {
      "cell_type": "code",
      "source": [
        "pn == acct"
      ],
      "metadata": {
        "colab": {
          "base_uri": "https://localhost:8080/"
        },
        "id": "MwXlcnHDFrHw",
        "outputId": "c65312fb-a21f-47d4-829c-e0e4bf593c08"
      },
      "execution_count": 112,
      "outputs": [
        {
          "output_type": "execute_result",
          "data": {
            "text/plain": [
              "False"
            ]
          },
          "metadata": {},
          "execution_count": 112
        }
      ]
    },
    {
      "cell_type": "markdown",
      "source": [
        "#### Comparison and inheritance\n",
        "\n",
        "What happens when an object is compared to an object of a child class?\n",
        "\n",
        "- Python always calls the child's __eq__() method when comparing a child object to a parent object."
      ],
      "metadata": {
        "id": "8g6SopMiGGi6"
      }
    },
    {
      "cell_type": "code",
      "source": [
        "class Parent:\n",
        "    def __eq__(self, other):\n",
        "        print(\"Parent's __eq__() called\")\n",
        "        return True\n",
        "\n",
        "class Child(Parent):\n",
        "    def __eq__(self, other):\n",
        "        print(\"Child's __eq__() called\")\n",
        "        return True "
      ],
      "metadata": {
        "id": "eirEjnIgzlO1"
      },
      "execution_count": 113,
      "outputs": []
    },
    {
      "cell_type": "code",
      "source": [
        "p = Parent()\n",
        "c = Child()"
      ],
      "metadata": {
        "id": "TsX4GjG9z41l"
      },
      "execution_count": 114,
      "outputs": []
    },
    {
      "cell_type": "code",
      "source": [
        "p == c"
      ],
      "metadata": {
        "colab": {
          "base_uri": "https://localhost:8080/"
        },
        "id": "9WRQ1Q6Az80V",
        "outputId": "8c4fdc85-508e-4853-88a4-7718d9bea8fb"
      },
      "execution_count": 115,
      "outputs": [
        {
          "output_type": "stream",
          "name": "stdout",
          "text": [
            "Child's __eq__() called\n"
          ]
        },
        {
          "output_type": "execute_result",
          "data": {
            "text/plain": [
              "True"
            ]
          },
          "metadata": {},
          "execution_count": 115
        }
      ]
    },
    {
      "cell_type": "code",
      "source": [
        "c == p"
      ],
      "metadata": {
        "colab": {
          "base_uri": "https://localhost:8080/"
        },
        "id": "Qg483Ovbz-WF",
        "outputId": "3c4c3304-d3b2-454e-a40d-34670af6968a"
      },
      "execution_count": 116,
      "outputs": [
        {
          "output_type": "stream",
          "name": "stdout",
          "text": [
            "Child's __eq__() called\n"
          ]
        },
        {
          "output_type": "execute_result",
          "data": {
            "text/plain": [
              "True"
            ]
          },
          "metadata": {},
          "execution_count": 116
        }
      ]
    },
    {
      "cell_type": "markdown",
      "source": [
        "### Operator overloading: string representation"
      ],
      "metadata": {
        "id": "ApqcCZog1Aao"
      }
    },
    {
      "cell_type": "markdown",
      "source": [
        "#### Printing an object"
      ],
      "metadata": {
        "id": "870chUYW1c8z"
      }
    },
    {
      "cell_type": "code",
      "source": [
        "class Customer:\n",
        "    def __init__(self, name, balance):\n",
        "        self.name, self.balance = name, balance\n",
        "\n",
        "cust = Customer(\"Maryam Azar\", 3000)\n",
        "print(cust)"
      ],
      "metadata": {
        "colab": {
          "base_uri": "https://localhost:8080/"
        },
        "id": "R_ZyJ8p-1hGY",
        "outputId": "7f93f8e4-7e2e-447e-ba92-d76494470314"
      },
      "execution_count": 117,
      "outputs": [
        {
          "output_type": "stream",
          "name": "stdout",
          "text": [
            "<__main__.Customer object at 0x7f2731db5dc0>\n"
          ]
        }
      ]
    },
    {
      "cell_type": "code",
      "source": [
        "arr = np.array([1, 2, 3])\n",
        "print(arr) # prints the actual data"
      ],
      "metadata": {
        "colab": {
          "base_uri": "https://localhost:8080/"
        },
        "id": "xcsHcOvt2x9D",
        "outputId": "74365744-221d-4935-920e-a92f500dfde9"
      },
      "execution_count": 118,
      "outputs": [
        {
          "output_type": "stream",
          "name": "stdout",
          "text": [
            "[1 2 3]\n"
          ]
        }
      ]
    },
    {
      "cell_type": "code",
      "source": [
        "repr(arr)"
      ],
      "metadata": {
        "colab": {
          "base_uri": "https://localhost:8080/",
          "height": 36
        },
        "id": "M7L3-HMN4Mbb",
        "outputId": "903f492b-1047-462f-cd43-ee13247f0186"
      },
      "execution_count": 119,
      "outputs": [
        {
          "output_type": "execute_result",
          "data": {
            "text/plain": [
              "'array([1, 2, 3])'"
            ],
            "application/vnd.google.colaboratory.intrinsic+json": {
              "type": "string"
            }
          },
          "metadata": {},
          "execution_count": 119
        }
      ]
    },
    {
      "cell_type": "code",
      "source": [
        "arr"
      ],
      "metadata": {
        "colab": {
          "base_uri": "https://localhost:8080/"
        },
        "id": "h3tEwnlm4O8y",
        "outputId": "d76c8b06-60f3-4c59-f848-c888a02e596e"
      },
      "execution_count": 120,
      "outputs": [
        {
          "output_type": "execute_result",
          "data": {
            "text/plain": [
              "array([1, 2, 3])"
            ]
          },
          "metadata": {},
          "execution_count": 120
        }
      ]
    },
    {
      "cell_type": "code",
      "source": [
        "str(arr)"
      ],
      "metadata": {
        "colab": {
          "base_uri": "https://localhost:8080/",
          "height": 36
        },
        "id": "7fVwClfH4YQq",
        "outputId": "ba2bf82c-7828-44c7-a8ba-78c0d2dc7afb"
      },
      "execution_count": 121,
      "outputs": [
        {
          "output_type": "execute_result",
          "data": {
            "text/plain": [
              "'[1 2 3]'"
            ],
            "application/vnd.google.colaboratory.intrinsic+json": {
              "type": "string"
            }
          },
          "metadata": {},
          "execution_count": 121
        }
      ]
    },
    {
      "cell_type": "markdown",
      "source": [
        "##### Two special methods: `__str__()` and `__repr__()`\n",
        "\n",
        "- `__str__()`\n",
        "    - used with `print(obj)` and `str(obj)`\n",
        "    - *informal*, for end user\n",
        "    - user friendly string representation\n",
        "- `__repr__()`\n",
        "    - used with `repr(obj)`, printing in console\n",
        "    - *formal*, for developer\n",
        "    - best practice, returns a string that can be used to *reproduce the object*\n",
        "    - if implementing only one of `_str__()` and `__repr__()`, choose `__repr__()` because it is used as a fall-back for `print` when `__str__()` is not defined "
      ],
      "metadata": {
        "id": "d6GATMdF28ym"
      }
    },
    {
      "cell_type": "markdown",
      "source": [
        "##### Implementation: `__str__()`"
      ],
      "metadata": {
        "id": "qHz-R-hF6Mv4"
      }
    },
    {
      "cell_type": "code",
      "source": [
        "class Customer:\n",
        "    def __init__(self, name, balance):\n",
        "        self.name, self.balance = name, balance\n",
        "\n",
        "    def __str__(self):\n",
        "        cust_str = \"\"\"\n",
        "Customer:\n",
        "    name: {name}\n",
        "    balance: {balance}\n",
        "        \"\"\".format(name = self.name, \n",
        "                   balance = self.balance)\n",
        "        return cust_str\n",
        "\n",
        "cust = Customer(\"Maryam Azar\", 3000)\n",
        "print(cust)"
      ],
      "metadata": {
        "colab": {
          "base_uri": "https://localhost:8080/"
        },
        "id": "RuHU_vTu6WeY",
        "outputId": "72c8475f-3197-4e6f-89e2-f8de8e4589a4"
      },
      "execution_count": 122,
      "outputs": [
        {
          "output_type": "stream",
          "name": "stdout",
          "text": [
            "\n",
            "Customer:\n",
            "    name: Maryam Azar\n",
            "    balance: 3000\n",
            "        \n"
          ]
        }
      ]
    },
    {
      "cell_type": "code",
      "source": [
        "cust # __repr__() not implemented"
      ],
      "metadata": {
        "colab": {
          "base_uri": "https://localhost:8080/"
        },
        "id": "pYAZbzF97Y-t",
        "outputId": "8f3dfc8b-8f18-49e3-c83e-2e04a0004ca2"
      },
      "execution_count": 123,
      "outputs": [
        {
          "output_type": "execute_result",
          "data": {
            "text/plain": [
              "<__main__.Customer at 0x7f2731dc36a0>"
            ]
          },
          "metadata": {},
          "execution_count": 123
        }
      ]
    },
    {
      "cell_type": "markdown",
      "source": [
        "##### Implementation: `__repr__()`"
      ],
      "metadata": {
        "id": "9BXHuNcn779B"
      }
    },
    {
      "cell_type": "code",
      "source": [
        "class Customer:\n",
        "    def __init__(self, name, balance):\n",
        "        self.name, self.balance = name, balance\n",
        "\n",
        "    def __repr__(self):\n",
        "        # Notice the '' around name\n",
        "        return \"Customer('{name}', {balance})\".format(name = self.name,\n",
        "                                                     balance = self.balance)\n",
        "\n",
        "cust = Customer(\"Maryam Azar\", 3000)\n",
        "print(cust) # __str__() not implemented, __repr__ is the fall-back for print"
      ],
      "metadata": {
        "colab": {
          "base_uri": "https://localhost:8080/"
        },
        "id": "egkiOo_U8EM6",
        "outputId": "515ef2f4-cee4-4f78-e817-b8c5c19dc200"
      },
      "execution_count": 124,
      "outputs": [
        {
          "output_type": "stream",
          "name": "stdout",
          "text": [
            "Customer('Maryam Azar', 3000)\n"
          ]
        }
      ]
    },
    {
      "cell_type": "code",
      "source": [
        "cust"
      ],
      "metadata": {
        "colab": {
          "base_uri": "https://localhost:8080/"
        },
        "id": "URtP-OEM8sdF",
        "outputId": "a686f6c7-da42-49aa-a967-2f67441653a2"
      },
      "execution_count": 125,
      "outputs": [
        {
          "output_type": "execute_result",
          "data": {
            "text/plain": [
              "Customer('Maryam Azar', 3000)"
            ]
          },
          "metadata": {},
          "execution_count": 125
        }
      ]
    },
    {
      "cell_type": "code",
      "source": [
        "test = Customer('Maryam Azar', 3000)"
      ],
      "metadata": {
        "id": "1Rn6Wf8A83ji"
      },
      "execution_count": 126,
      "outputs": []
    },
    {
      "cell_type": "code",
      "source": [
        "type(test)"
      ],
      "metadata": {
        "colab": {
          "base_uri": "https://localhost:8080/"
        },
        "id": "wq97tmgf860Z",
        "outputId": "6d73a722-be5d-49a2-d48f-653e1e5dedfc"
      },
      "execution_count": 127,
      "outputs": [
        {
          "output_type": "execute_result",
          "data": {
            "text/plain": [
              "__main__.Customer"
            ]
          },
          "metadata": {},
          "execution_count": 127
        }
      ]
    },
    {
      "cell_type": "markdown",
      "source": [
        "#### String representation of objects"
      ],
      "metadata": {
        "id": "hXxLCpX59PLn"
      }
    },
    {
      "cell_type": "code",
      "source": [
        "class Employee:\n",
        "    def __init__(self, name, salary=30000):\n",
        "        self.name, self.salary = name, salary\n",
        "            \n",
        "    # Add the __str__() method\n",
        "    def __str__(self):\n",
        "        s = \"Employee name: {name}\\nEmployee Salary: {salary}\".format(\n",
        "            name = self.name, \n",
        "            salary = self.salary)\n",
        "        return s\n",
        "\n",
        "    # Add the __repr__() method\n",
        "    def __repr__(self):\n",
        "        return \"Employee('{name}', {salary})\".format(\n",
        "            name = self.name,\n",
        "            salary = self.salary\n",
        "        )"
      ],
      "metadata": {
        "id": "f2NNhDJO_hoj"
      },
      "execution_count": 128,
      "outputs": []
    },
    {
      "cell_type": "code",
      "source": [
        "emp1 = Employee(\"Amar Howard\", 30000)\n",
        "print(emp1)\n",
        "emp2 = Employee(\"Carolyn Ramirez\", 35000)\n",
        "print(emp2)"
      ],
      "metadata": {
        "colab": {
          "base_uri": "https://localhost:8080/"
        },
        "id": "Wyy7eqPh_lEr",
        "outputId": "69a35bdd-7119-40ca-902e-bbed43dc299f"
      },
      "execution_count": 129,
      "outputs": [
        {
          "output_type": "stream",
          "name": "stdout",
          "text": [
            "Employee name: Amar Howard\n",
            "Employee Salary: 30000\n",
            "Employee name: Carolyn Ramirez\n",
            "Employee Salary: 35000\n"
          ]
        }
      ]
    },
    {
      "cell_type": "code",
      "source": [
        "emp1"
      ],
      "metadata": {
        "colab": {
          "base_uri": "https://localhost:8080/"
        },
        "id": "EpmyOT1AAgJX",
        "outputId": "aa08d160-dcda-4c5d-cabe-5db3cd71f6df"
      },
      "execution_count": 130,
      "outputs": [
        {
          "output_type": "execute_result",
          "data": {
            "text/plain": [
              "Employee('Amar Howard', 30000)"
            ]
          },
          "metadata": {},
          "execution_count": 130
        }
      ]
    },
    {
      "cell_type": "markdown",
      "source": [
        "### Exceptions"
      ],
      "metadata": {
        "id": "Ov0j-I-rBjWG"
      }
    },
    {
      "cell_type": "markdown",
      "source": [
        "#### Exception handling\n",
        "\n",
        "- Prevent the program from terminating when an exception is raised\n",
        "- `try` - `except` - `finally`:"
      ],
      "metadata": {
        "id": "M1DDtmxBLJlZ"
      }
    },
    {
      "cell_type": "code",
      "source": [
        "try:\n",
        "    # Try running some code\n",
        "    pass\n",
        "except ExceptionNameHere:\n",
        "    # run this code if ExceptionNameHere happens\n",
        "    pass\n",
        "except AnotherExceptionHere:\n",
        "    # run this code if AnotherExceptionHere happens\n",
        "    pass\n",
        "finally: # <- optional\n",
        "    # run this code no matter what\n",
        "    # this code is best used for cleaning up\n",
        "    pass"
      ],
      "metadata": {
        "id": "n_il3NU6LmjX"
      },
      "execution_count": 131,
      "outputs": []
    },
    {
      "cell_type": "markdown",
      "source": [
        "#### Raising exceptions\n",
        "\n",
        "- sometimes you want to raise an exception yourself\n",
        "    - for example, when conditions are not met\n",
        "- the user of this code can then decide to handle the exception\n",
        "- `raise ExceptionNameHere('Error message here')`\n"
      ],
      "metadata": {
        "id": "CgGHyGJuMf9n"
      }
    },
    {
      "cell_type": "code",
      "source": [
        "def make_list_of_ones(length):\n",
        "    if length <= 0:\n",
        "        raise ValueError('Invalid length')\n",
        "    return [1] * length"
      ],
      "metadata": {
        "id": "bytAG-Z0M28v"
      },
      "execution_count": 132,
      "outputs": []
    },
    {
      "cell_type": "code",
      "source": [
        "make_list_of_ones(3)"
      ],
      "metadata": {
        "colab": {
          "base_uri": "https://localhost:8080/"
        },
        "id": "zF0Ms4XRNOSf",
        "outputId": "8c843c9e-2c8d-4f8c-b699-d0cebc2b7b07"
      },
      "execution_count": 133,
      "outputs": [
        {
          "output_type": "execute_result",
          "data": {
            "text/plain": [
              "[1, 1, 1]"
            ]
          },
          "metadata": {},
          "execution_count": 133
        }
      ]
    },
    {
      "cell_type": "code",
      "source": [
        "# make_list_of_ones(0)\n",
        "\n",
        "# ValueError: Invalid length"
      ],
      "metadata": {
        "id": "MLdBz7DSNQxZ"
      },
      "execution_count": 134,
      "outputs": []
    },
    {
      "cell_type": "markdown",
      "source": [
        "#### Exceptions are classes\n",
        "\n",
        "- standard exceptions are inherited from `BaseException` or `Exception`\n",
        "- https://docs.python.org/3/library/exceptions.html"
      ],
      "metadata": {
        "id": "fJjy2inwN3E-"
      }
    },
    {
      "cell_type": "markdown",
      "source": [
        "#### Custom exceptions\n",
        "\n",
        "- inherit from `Exception` or one of its subclasses\n",
        "- usually an empty class\n",
        "    - inheritance alone will often give the class what it needs"
      ],
      "metadata": {
        "id": "OvDvsU2YOSdX"
      }
    },
    {
      "cell_type": "code",
      "source": [
        "class BalanceError(Exception): pass"
      ],
      "metadata": {
        "id": "4BO-tovmO76A"
      },
      "execution_count": 135,
      "outputs": []
    },
    {
      "cell_type": "code",
      "source": [
        "class Customer:\n",
        "    def __init__(self, name, balance):\n",
        "        if balance < 0:\n",
        "            raise BalanceError(\"Balance has to be non-negative\")\n",
        "        else:\n",
        "            self.name, self.balance = name, balance"
      ],
      "metadata": {
        "id": "H_rk7bkXPEkP"
      },
      "execution_count": 136,
      "outputs": []
    },
    {
      "cell_type": "code",
      "source": [
        "# cust = Customer(\"Paul\", -30000)\n",
        "\n",
        "# BalanceError: Balance has to be non-negative"
      ],
      "metadata": {
        "id": "LIdFD04XPXF3"
      },
      "execution_count": 137,
      "outputs": []
    },
    {
      "cell_type": "code",
      "source": [
        "try:\n",
        "    cust = Customer(\"Larry Torres\", -100)\n",
        "except BalanceError:\n",
        "    cust = Customer(\"Larry Torres\", 0)"
      ],
      "metadata": {
        "id": "tFayutRmROIc"
      },
      "execution_count": 138,
      "outputs": []
    },
    {
      "cell_type": "code",
      "source": [
        "cust.name, cust.balance"
      ],
      "metadata": {
        "colab": {
          "base_uri": "https://localhost:8080/"
        },
        "id": "36PfjDr8RZkC",
        "outputId": "3a2185bf-9b18-4302-cd01-1e0330721c3a"
      },
      "execution_count": 139,
      "outputs": [
        {
          "output_type": "execute_result",
          "data": {
            "text/plain": [
              "('Larry Torres', 0)"
            ]
          },
          "metadata": {},
          "execution_count": 139
        }
      ]
    },
    {
      "cell_type": "markdown",
      "source": [
        "#### Catching exceptions"
      ],
      "metadata": {
        "id": "kiNGdtZ5Rnz0"
      }
    },
    {
      "cell_type": "code",
      "source": [
        "# MODIFY the function to catch exceptions\n",
        "def invert_at_index(x, ind):\n",
        "    try: \n",
        "        return 1/x[ind]\n",
        "    except ZeroDivisionError:\n",
        "        print(\"Cannot divide by zero!\")\n",
        "    except IndexError:\n",
        "        print(\"Index out of range!\")\n",
        " \n",
        "a = [5,6,0,7]\n",
        "\n",
        "# Works okay\n",
        "print(invert_at_index(a, 1))\n",
        "\n",
        "# Potential ZeroDivisionError\n",
        "print(invert_at_index(a, 2))\n",
        "\n",
        "# Potential IndexError\n",
        "print(invert_at_index(a, 5))"
      ],
      "metadata": {
        "colab": {
          "base_uri": "https://localhost:8080/"
        },
        "id": "K2oONY-JR7jO",
        "outputId": "f93b5cb2-28b8-44ed-fe65-1607bdc57029"
      },
      "execution_count": 140,
      "outputs": [
        {
          "output_type": "stream",
          "name": "stdout",
          "text": [
            "0.16666666666666666\n",
            "Cannot divide by zero!\n",
            "None\n",
            "Index out of range!\n",
            "None\n"
          ]
        }
      ]
    },
    {
      "cell_type": "markdown",
      "source": [
        "#### Custom Exceptions (Exercises)"
      ],
      "metadata": {
        "id": "XJp1nnM9Tnm6"
      }
    },
    {
      "cell_type": "code",
      "source": [
        "# Define SalaryError inherited from ValueError\n",
        "class SalaryError(ValueError): pass\n",
        "\n",
        "# Define BonusError inherited from SalaryError\n",
        "class BonusError(SalaryError): pass"
      ],
      "metadata": {
        "id": "kzd9eaPaT7B-"
      },
      "execution_count": 141,
      "outputs": []
    },
    {
      "cell_type": "code",
      "source": [
        "class Employee:\n",
        "  MIN_SALARY = 30000\n",
        "  MAX_BONUS = 5000\n",
        "\n",
        "  def __init__(self, name, salary = 30000):\n",
        "    self.name = name\n",
        "    \n",
        "    # If salary is too low\n",
        "    if salary < Employee.MIN_SALARY:\n",
        "      # Raise a SalaryError exception\n",
        "      raise SalaryError(\"Salary is too low!\")\n",
        "      \n",
        "    self.salary = salary\n",
        "\n",
        "  # Rewrite using exceptions  \n",
        "  def give_bonus(self, amount):\n",
        "    if amount > Employee.MAX_BONUS:\n",
        "       raise BonusError(\"The bonus amount is too high!\")  \n",
        "        \n",
        "    elif self.salary + amount <  Employee.MIN_SALARY:\n",
        "       raise SalaryError(\"The salary after bonus is too low!\")"
      ],
      "metadata": {
        "id": "HEEDn5h0XNW5"
      },
      "execution_count": 142,
      "outputs": []
    },
    {
      "cell_type": "code",
      "source": [
        "emp = Employee(\"Katze Rik\", salary=50000)"
      ],
      "metadata": {
        "id": "V8xbPByFYqkM"
      },
      "execution_count": 143,
      "outputs": []
    },
    {
      "cell_type": "code",
      "source": [
        "# in this example, the bonus amount is too high\n",
        "# but BonusError inherits from salary error\n",
        "# *except block for a parent exception will catch child exceptions*\n",
        "try:\n",
        "    emp.give_bonus(7000)\n",
        "except SalaryError:\n",
        "    print(\"Salary error caught!\")"
      ],
      "metadata": {
        "colab": {
          "base_uri": "https://localhost:8080/"
        },
        "id": "EZrICxSWbaXv",
        "outputId": "0fe87edd-1678-45d8-fba5-17ca02090d80"
      },
      "execution_count": 144,
      "outputs": [
        {
          "output_type": "stream",
          "name": "stdout",
          "text": [
            "Salary error caught!\n"
          ]
        }
      ]
    },
    {
      "cell_type": "code",
      "source": [
        "try:\n",
        "  emp.give_bonus(7000)\n",
        "except BonusError:\n",
        "  print(\"BonusError caught!\")"
      ],
      "metadata": {
        "colab": {
          "base_uri": "https://localhost:8080/"
        },
        "id": "uzDFtgeJbCAB",
        "outputId": "6c110d48-3254-439c-8ebb-6126ae67577a"
      },
      "execution_count": 145,
      "outputs": [
        {
          "output_type": "stream",
          "name": "stdout",
          "text": [
            "BonusError caught!\n"
          ]
        }
      ]
    },
    {
      "cell_type": "code",
      "source": [
        "# salary after bonus is too low\n",
        "try:\n",
        "  emp.give_bonus(-100000)\n",
        "except SalaryError:\n",
        "  print(\"SalaryError caught again!\")"
      ],
      "metadata": {
        "colab": {
          "base_uri": "https://localhost:8080/"
        },
        "id": "sbzPLr14bs4I",
        "outputId": "1e2e60cc-46f6-428a-a18f-7f6d24048fa3"
      },
      "execution_count": 146,
      "outputs": [
        {
          "output_type": "stream",
          "name": "stdout",
          "text": [
            "SalaryError caught again!\n"
          ]
        }
      ]
    },
    {
      "cell_type": "code",
      "source": [
        "# a BonusError is a SalaryError due to inheritance\n",
        "# but a SalaryError is not a BonusError\n",
        "\n",
        "#try:\n",
        "#  emp.give_bonus(-100000)\n",
        "#except BonusError:\n",
        "#  print(\"BonusError caught again!\")"
      ],
      "metadata": {
        "id": "pP6YkMsScHVr"
      },
      "execution_count": 147,
      "outputs": []
    },
    {
      "cell_type": "markdown",
      "source": [
        "- It's better to include an `except` block for a child exception before the block for a parent exception, otherwise the child exceptions will be always be caught in the parent block, and the `except` block for the child will never be executed.\n",
        "- Compare the next two cells:"
      ],
      "metadata": {
        "id": "sz5QUdmNfQkQ"
      }
    },
    {
      "cell_type": "code",
      "source": [
        "emp = Employee(\"Katze Rik\", 50000)\n",
        "try:\n",
        "  emp.give_bonus(7000)\n",
        "except SalaryError:\n",
        "  print(\"SalaryError caught\")\n",
        "except BonusError:\n",
        "  print(\"BonusError caught\")     "
      ],
      "metadata": {
        "colab": {
          "base_uri": "https://localhost:8080/"
        },
        "id": "Ww3q1slefSzn",
        "outputId": "fe00f49d-1ded-404d-b495-c74d45459821"
      },
      "execution_count": 148,
      "outputs": [
        {
          "output_type": "stream",
          "name": "stdout",
          "text": [
            "SalaryError caught\n"
          ]
        }
      ]
    },
    {
      "cell_type": "code",
      "source": [
        "emp = Employee(\"Katze Rik\", 50000)\n",
        "try:\n",
        "  emp.give_bonus(7000)\n",
        "except BonusError:\n",
        "  print(\"BonusError caught\")\n",
        "except SalaryError:\n",
        "  print(\"SalaryError caught\")     "
      ],
      "metadata": {
        "colab": {
          "base_uri": "https://localhost:8080/"
        },
        "id": "SJqL96wWfbGA",
        "outputId": "8687ef62-32b4-4a87-9969-57d14c4d5b0c"
      },
      "execution_count": 149,
      "outputs": [
        {
          "output_type": "stream",
          "name": "stdout",
          "text": [
            "BonusError caught\n"
          ]
        }
      ]
    },
    {
      "cell_type": "markdown",
      "source": [
        "## Best Practices of Class Design"
      ],
      "metadata": {
        "id": "WBmZjLFzgRN-"
      }
    },
    {
      "cell_type": "markdown",
      "source": [
        "### Designing for inheritance and polymorphism"
      ],
      "metadata": {
        "id": "qPfCvQ55EMQI"
      }
    },
    {
      "cell_type": "markdown",
      "source": [
        "#### Polymorphism\n",
        "\n",
        "- Using a unified interface to operate on objects of different classes"
      ],
      "metadata": {
        "id": "bxMo-Lr3EStW"
      }
    },
    {
      "cell_type": "markdown",
      "source": [
        "#### All that matters is the interface\n",
        "\n",
        "- the function below doesn't care if the account passed to it is a checking account or a savings account\n",
        "    - as long is the account has a `withraw()` method with the same signature\n",
        "    - `batch_withdraw()` does not check which withdraw method it should call\n",
        "    - when the method is actually called, Python will **dynamically** call the correct method"
      ],
      "metadata": {
        "id": "EIT3q_IyEpLE"
      }
    },
    {
      "cell_type": "code",
      "source": [
        "# withdraw amount from each of the acccounts in list_of_accounts\n",
        "def batch_withdraw(list_of_accounts, amount):\n",
        "    for acct in list_of_accounts:\n",
        "        acct.withdraw(amount)"
      ],
      "metadata": {
        "id": "g6gaUybuEswo"
      },
      "execution_count": 150,
      "outputs": []
    },
    {
      "cell_type": "code",
      "source": [
        "class BankAccount:\n",
        "    def __init__(self, balance):\n",
        "        self.balance = balance\n",
        "\n",
        "    def withdraw(self, amount):\n",
        "        self.balance -= amount\n",
        "\n",
        "class SavingsAccount(BankAccount):\n",
        "    # constructor specifically for SavingsAccount with additional parameter\n",
        "    def __init__(self, balance, interest_rate):\n",
        "        # call the parent constructor\n",
        "        BankAccount.__init__(self, balance)\n",
        "        # add more functionality\n",
        "        self.interest_rate = interest_rate\n",
        "\n",
        "    # new functionality\n",
        "    def compute_interest(self, n_periods = 1):\n",
        "        return self.balance * ((1 + self.interest_rate) ** n_periods - 1)\n",
        "\n",
        "class CheckingAccount(BankAccount):\n",
        "    def __init__(self, balance, limit):\n",
        "        BankAccount.__init__(self, balance)\n",
        "        self.limit = limit \n",
        "    \n",
        "    def deposit(self, amount):\n",
        "        self.balance += amount\n",
        "\n",
        "    # we can change the signature of the parent withdraw method\n",
        "    # we use `Parent.method_name(self, args...) to call the parent method\n",
        "    def withdraw(self, amount, fee=0):\n",
        "        if fee <= self.limit:\n",
        "            BankAccount.withdraw(self, amount - fee)\n",
        "        else:\n",
        "            BankAccount.withdraw(self, amount - self.limit)"
      ],
      "metadata": {
        "id": "QcDIlNmhHyDX"
      },
      "execution_count": 151,
      "outputs": []
    },
    {
      "cell_type": "code",
      "source": [
        "b, s, c = BankAccount(1000), SavingsAccount(2000, 0.5), CheckingAccount(3000, \n",
        "                                                                        limit=10)"
      ],
      "metadata": {
        "id": "oXHiacVnH1uD"
      },
      "execution_count": 152,
      "outputs": []
    },
    {
      "cell_type": "code",
      "source": [
        "batch_withdraw([b, s, c], 20)"
      ],
      "metadata": {
        "id": "zlWPpJ8kJRfw"
      },
      "execution_count": 153,
      "outputs": []
    },
    {
      "cell_type": "code",
      "source": [
        "b.balance, s.balance, c.balance"
      ],
      "metadata": {
        "colab": {
          "base_uri": "https://localhost:8080/"
        },
        "id": "UPwjwEcCI9Xq",
        "outputId": "c2a5be99-fb89-48f8-fa12-b317f54b9273"
      },
      "execution_count": 154,
      "outputs": [
        {
          "output_type": "execute_result",
          "data": {
            "text/plain": [
              "(980, 1980, 2980)"
            ]
          },
          "metadata": {},
          "execution_count": 154
        }
      ]
    },
    {
      "cell_type": "markdown",
      "source": [
        "#### Liskov Substitution Principle (LSP)\n",
        "\n",
        "Base class should be interchangeable with any of its subclasses without altering any properties of the program.\n",
        "\n",
        "- Wherevver `BankAccount` works, `CheckingAcount` should work also\n",
        "- this should be true in two ways:\n",
        "    1. Syntactically\n",
        "        - function signatures are compatible\n",
        "            - arguments and returned values\n",
        "    2. Semantically\n",
        "        - the state of the object and the program remains consistent\n",
        "            - the subclass method should not rely on stronger input conditions\n",
        "            - should not provide weaker output conditions\n",
        "            - should not throw additional exceptions\n",
        "            - and so on"
      ],
      "metadata": {
        "id": "oQ04DKmvJsVJ"
      }
    },
    {
      "cell_type": "markdown",
      "source": [
        "#### Violating LSP\n",
        "\n",
        "- **Syntactic incompatiblility**\n",
        "    - the parent's `withdraw()` method requires 1 parameter, but the child'd `withdraw()` method requires 2\n",
        "    - this can be solved by providing a default value for the 2nd parameter in the child's `withdraw()` method\n",
        "- **Subclass strengthening input conditions**\n",
        "    - the parent's `withdraw()` method accepts any amount, but the child's `withdraw()` assumes the amount is limited\n",
        "- **Subclass weaking output conditions**\n",
        "    - the parent's `withdraw()` method can leave positive balance or cause an error, but the child's `withdraw()` method can leave a negative balance\n",
        "- **Changing attributes in a subclass's method**\n",
        "- **Throwing additional exceptions in subclass's method**\n",
        "\n",
        "<br>\n",
        "\n",
        "***If LSP is not possible, don't use inheritance!***"
      ],
      "metadata": {
        "id": "Azx9S_BXMHrT"
      }
    },
    {
      "cell_type": "markdown",
      "source": [
        "#### Polymorphic methods"
      ],
      "metadata": {
        "id": "2q67MDg3O4Wg"
      }
    },
    {
      "cell_type": "code",
      "source": [
        "class Parent:\n",
        "    def talk(self):\n",
        "        print(\"Parent talking!\\n\")     \n",
        "\n",
        "class Child(Parent): \n",
        "    def talk(self):\n",
        "        print(\"Child talking!\\n\")          \n",
        "\n",
        "class TalkativeChild(Parent):\n",
        "    def talk(self):\n",
        "        print(\"TalkativeChild talking!\")\n",
        "        Parent.talk(self)\n",
        "\n",
        "\n",
        "p, c, tc = Parent(), Child(), TalkativeChild()\n",
        "\n",
        "for obj in (p, c, tc):\n",
        "    obj.talk()"
      ],
      "metadata": {
        "colab": {
          "base_uri": "https://localhost:8080/"
        },
        "id": "gSkjCPgWO-2L",
        "outputId": "ef219d9f-2780-4600-d9b0-f34b291025da"
      },
      "execution_count": 155,
      "outputs": [
        {
          "output_type": "stream",
          "name": "stdout",
          "text": [
            "Parent talking!\n",
            "\n",
            "Child talking!\n",
            "\n",
            "TalkativeChild talking!\n",
            "Parent talking!\n",
            "\n"
          ]
        }
      ]
    },
    {
      "cell_type": "markdown",
      "source": [
        "Polymorphism ensures that the exact method called is determined dynamically based on the instance. What do you think would happen if `Child` did not implement `talk()`?"
      ],
      "metadata": {
        "id": "VpRw0ylrPN87"
      }
    },
    {
      "cell_type": "markdown",
      "source": [
        "#### Square and Rectangle"
      ],
      "metadata": {
        "id": "wlBKK7JhRNKb"
      }
    },
    {
      "cell_type": "code",
      "source": [
        "# Define a Rectangle class\n",
        "class Rectangle:\n",
        "    def __init__(self, h, w):\n",
        "        self.h = h\n",
        "        self.w = w\n",
        "\n",
        "# Define a Square class\n",
        "class Square(Rectangle):\n",
        "    def __init__(self, w):\n",
        "        self.h = w\n",
        "        self.w = w"
      ],
      "metadata": {
        "id": "PeGR6xojRPyU"
      },
      "execution_count": 156,
      "outputs": []
    },
    {
      "cell_type": "code",
      "source": [
        "s = Square(4)"
      ],
      "metadata": {
        "id": "aCHJvBMkTAcd"
      },
      "execution_count": 157,
      "outputs": []
    },
    {
      "cell_type": "code",
      "source": [
        "s.w, s.h"
      ],
      "metadata": {
        "colab": {
          "base_uri": "https://localhost:8080/"
        },
        "id": "xGsvSVbrTCfQ",
        "outputId": "bc5091c6-6cf4-4aab-822f-8476b0a573dc"
      },
      "execution_count": 158,
      "outputs": [
        {
          "output_type": "execute_result",
          "data": {
            "text/plain": [
              "(4, 4)"
            ]
          },
          "metadata": {},
          "execution_count": 158
        }
      ]
    },
    {
      "cell_type": "code",
      "source": [
        "s.h = 7"
      ],
      "metadata": {
        "id": "1DD54MlPTHkK"
      },
      "execution_count": 159,
      "outputs": []
    },
    {
      "cell_type": "markdown",
      "source": [
        "- the next code cell shows that the square is no longer a square! "
      ],
      "metadata": {
        "id": "2vbJBP3lTcLn"
      }
    },
    {
      "cell_type": "code",
      "source": [
        "s.w, s.h"
      ],
      "metadata": {
        "colab": {
          "base_uri": "https://localhost:8080/"
        },
        "id": "zvRrebAITJP9",
        "outputId": "0fbdf9d3-a201-4e33-b818-718d3a23b5c6"
      },
      "execution_count": 160,
      "outputs": [
        {
          "output_type": "execute_result",
          "data": {
            "text/plain": [
              "(4, 7)"
            ]
          },
          "metadata": {},
          "execution_count": 160
        }
      ]
    },
    {
      "cell_type": "markdown",
      "source": [
        "The classic example of a problem that violates the Liskov Substitution Principle is the [**Circle-Ellipse problem**](https://en.wikipedia.org/wiki/Circle%E2%80%93ellipse_problem), sometimes called the **Square-Rectangle problem**."
      ],
      "metadata": {
        "id": "r-gibMkYUa5Z"
      }
    },
    {
      "cell_type": "code",
      "source": [
        "class Rectangle:\n",
        "    def __init__(self, w,h):\n",
        "      self.w, self.h = w,h\n",
        "\n",
        "# Define set_h to set h      \n",
        "    def set_h(self, h):\n",
        "      self.h = h\n",
        "      \n",
        "# Define set_w to set w          \n",
        "    def set_w(self, w):\n",
        "      self.w = w\n",
        "      \n",
        "      \n",
        "class Square(Rectangle):\n",
        "    def __init__(self, w):\n",
        "      self.w, self.h = w, w \n",
        "\n",
        "# Define set_h to set w and h\n",
        "    def set_h(self, h):\n",
        "      self.h = h\n",
        "      self.w = h\n",
        "\n",
        "# Define set_w to set w and h      \n",
        "    def set_w(self, w):\n",
        "      self.h = w \n",
        "      self.w = w "
      ],
      "metadata": {
        "id": "Oz-KCgyTU8y7"
      },
      "execution_count": 161,
      "outputs": []
    },
    {
      "cell_type": "markdown",
      "source": [
        "The above example violates LSP:\n",
        "\n",
        "- Each of the setter methods of `Square` change both `h` and `w` attributes, while setter methods of `Rectangle` change only one attribute at a time, so the `Square` objects cannot be substituted for `Rectangle` into programs that rely on one attribute staying constant.\n",
        "- Remember that the substitution principle requires the substitution to preserve the oversall state of the program. An example of a program that would fail when this substitution is made is a unit test for a setter functions in `Rectangle` class."
      ],
      "metadata": {
        "id": "6vIan58vWEw9"
      }
    },
    {
      "cell_type": "markdown",
      "source": [
        "### Managing data access: private attributes\n",
        "\n",
        "- In Python, all class data is technically public\n",
        "    - any **attribute** or **method** can be accessed by anyone\n",
        "    - for Java programmers, this may seem unusual or an oversight\n",
        "        - but it is by design"
      ],
      "metadata": {
        "id": "pfA5ArHhWoUn"
      }
    },
    {
      "cell_type": "markdown",
      "source": [
        "#### Restricting access\n",
        "\n",
        "- While all data is public, there are a few ways to manage access to data\n",
        "    1. Universal naming conventions to signal that data is not for external consumption\n",
        "    2. Specal kinds of **attributes** called **properties** that allow you to control how each attribute is modified\n",
        "        - use `@property` to customize access\n",
        "    3. Special methods that you can override to change how attributes are used entirely\n",
        "        - `__getattr__()` and `__setattr__()`\n",
        "- this course covers the first 2 only"
      ],
      "metadata": {
        "id": "n4oaYQfmYksl"
      }
    },
    {
      "cell_type": "markdown",
      "source": [
        "#### Naming convention: internal attributes\n",
        "\n",
        "1. Using a single leading underscore to indicate **internal** attribute or method\n",
        "    - `obj._attribute_name` and `obj._method_name()`\n",
        "    - these are not part of the public API\n",
        "        - can change without notice\n",
        "2. Using a leading double undersscore to indicate **pseudoprivate** attribute or method\n",
        "    - `obj__attr_name` and `obj.__method_name()`\n",
        "    - note those start with `__` but don't end with `__`\n",
        "    - these are **not inherited**\n",
        "        - because Python implements **name mangling**\n",
        "            - `obj__attr_name` is interpreted as `obj._MyClass__attr_name`\n",
        "            - used to prevent name clashes in inherited classes\n",
        "            - used to protect important attributes and methods that should not be overridden"
      ],
      "metadata": {
        "id": "w_6CUdxQahh8"
      }
    },
    {
      "cell_type": "markdown",
      "source": [
        "##### Example of using a leading underscore to indicate an internal attribute"
      ],
      "metadata": {
        "id": "b9JG0lu1c0ji"
      }
    },
    {
      "cell_type": "code",
      "source": [
        "df = pd.DataFrame({'Age': [30, 40], 'Gender': [\"M\", \"F\"]})\n",
        "df"
      ],
      "metadata": {
        "colab": {
          "base_uri": "https://localhost:8080/",
          "height": 112
        },
        "id": "RVwQktBJcClo",
        "outputId": "c8947712-5c8c-41c2-e7db-22f5156c5e76"
      },
      "execution_count": 162,
      "outputs": [
        {
          "output_type": "execute_result",
          "data": {
            "text/plain": [
              "   Age Gender\n",
              "0   30      M\n",
              "1   40      F"
            ],
            "text/html": [
              "\n",
              "  <div id=\"df-4f8f31d5-641a-4cb6-8b3a-55c4698b10d9\">\n",
              "    <div class=\"colab-df-container\">\n",
              "      <div>\n",
              "<style scoped>\n",
              "    .dataframe tbody tr th:only-of-type {\n",
              "        vertical-align: middle;\n",
              "    }\n",
              "\n",
              "    .dataframe tbody tr th {\n",
              "        vertical-align: top;\n",
              "    }\n",
              "\n",
              "    .dataframe thead th {\n",
              "        text-align: right;\n",
              "    }\n",
              "</style>\n",
              "<table border=\"1\" class=\"dataframe\">\n",
              "  <thead>\n",
              "    <tr style=\"text-align: right;\">\n",
              "      <th></th>\n",
              "      <th>Age</th>\n",
              "      <th>Gender</th>\n",
              "    </tr>\n",
              "  </thead>\n",
              "  <tbody>\n",
              "    <tr>\n",
              "      <th>0</th>\n",
              "      <td>30</td>\n",
              "      <td>M</td>\n",
              "    </tr>\n",
              "    <tr>\n",
              "      <th>1</th>\n",
              "      <td>40</td>\n",
              "      <td>F</td>\n",
              "    </tr>\n",
              "  </tbody>\n",
              "</table>\n",
              "</div>\n",
              "      <button class=\"colab-df-convert\" onclick=\"convertToInteractive('df-4f8f31d5-641a-4cb6-8b3a-55c4698b10d9')\"\n",
              "              title=\"Convert this dataframe to an interactive table.\"\n",
              "              style=\"display:none;\">\n",
              "        \n",
              "  <svg xmlns=\"http://www.w3.org/2000/svg\" height=\"24px\"viewBox=\"0 0 24 24\"\n",
              "       width=\"24px\">\n",
              "    <path d=\"M0 0h24v24H0V0z\" fill=\"none\"/>\n",
              "    <path d=\"M18.56 5.44l.94 2.06.94-2.06 2.06-.94-2.06-.94-.94-2.06-.94 2.06-2.06.94zm-11 1L8.5 8.5l.94-2.06 2.06-.94-2.06-.94L8.5 2.5l-.94 2.06-2.06.94zm10 10l.94 2.06.94-2.06 2.06-.94-2.06-.94-.94-2.06-.94 2.06-2.06.94z\"/><path d=\"M17.41 7.96l-1.37-1.37c-.4-.4-.92-.59-1.43-.59-.52 0-1.04.2-1.43.59L10.3 9.45l-7.72 7.72c-.78.78-.78 2.05 0 2.83L4 21.41c.39.39.9.59 1.41.59.51 0 1.02-.2 1.41-.59l7.78-7.78 2.81-2.81c.8-.78.8-2.07 0-2.86zM5.41 20L4 18.59l7.72-7.72 1.47 1.35L5.41 20z\"/>\n",
              "  </svg>\n",
              "      </button>\n",
              "      \n",
              "  <style>\n",
              "    .colab-df-container {\n",
              "      display:flex;\n",
              "      flex-wrap:wrap;\n",
              "      gap: 12px;\n",
              "    }\n",
              "\n",
              "    .colab-df-convert {\n",
              "      background-color: #E8F0FE;\n",
              "      border: none;\n",
              "      border-radius: 50%;\n",
              "      cursor: pointer;\n",
              "      display: none;\n",
              "      fill: #1967D2;\n",
              "      height: 32px;\n",
              "      padding: 0 0 0 0;\n",
              "      width: 32px;\n",
              "    }\n",
              "\n",
              "    .colab-df-convert:hover {\n",
              "      background-color: #E2EBFA;\n",
              "      box-shadow: 0px 1px 2px rgba(60, 64, 67, 0.3), 0px 1px 3px 1px rgba(60, 64, 67, 0.15);\n",
              "      fill: #174EA6;\n",
              "    }\n",
              "\n",
              "    [theme=dark] .colab-df-convert {\n",
              "      background-color: #3B4455;\n",
              "      fill: #D2E3FC;\n",
              "    }\n",
              "\n",
              "    [theme=dark] .colab-df-convert:hover {\n",
              "      background-color: #434B5C;\n",
              "      box-shadow: 0px 1px 3px 1px rgba(0, 0, 0, 0.15);\n",
              "      filter: drop-shadow(0px 1px 2px rgba(0, 0, 0, 0.3));\n",
              "      fill: #FFFFFF;\n",
              "    }\n",
              "  </style>\n",
              "\n",
              "      <script>\n",
              "        const buttonEl =\n",
              "          document.querySelector('#df-4f8f31d5-641a-4cb6-8b3a-55c4698b10d9 button.colab-df-convert');\n",
              "        buttonEl.style.display =\n",
              "          google.colab.kernel.accessAllowed ? 'block' : 'none';\n",
              "\n",
              "        async function convertToInteractive(key) {\n",
              "          const element = document.querySelector('#df-4f8f31d5-641a-4cb6-8b3a-55c4698b10d9');\n",
              "          const dataTable =\n",
              "            await google.colab.kernel.invokeFunction('convertToInteractive',\n",
              "                                                     [key], {});\n",
              "          if (!dataTable) return;\n",
              "\n",
              "          const docLinkHtml = 'Like what you see? Visit the ' +\n",
              "            '<a target=\"_blank\" href=https://colab.research.google.com/notebooks/data_table.ipynb>data table notebook</a>'\n",
              "            + ' to learn more about interactive tables.';\n",
              "          element.innerHTML = '';\n",
              "          dataTable['output_type'] = 'display_data';\n",
              "          await google.colab.output.renderOutput(dataTable, element);\n",
              "          const docLink = document.createElement('div');\n",
              "          docLink.innerHTML = docLinkHtml;\n",
              "          element.appendChild(docLink);\n",
              "        }\n",
              "      </script>\n",
              "    </div>\n",
              "  </div>\n",
              "  "
            ]
          },
          "metadata": {},
          "execution_count": 162
        }
      ]
    },
    {
      "cell_type": "code",
      "source": [
        "df._is_mixed_type"
      ],
      "metadata": {
        "colab": {
          "base_uri": "https://localhost:8080/"
        },
        "id": "UgTknIr3cHkG",
        "outputId": "b91c58f1-4969-40fc-a78d-2d33680b1dad"
      },
      "execution_count": 163,
      "outputs": [
        {
          "output_type": "execute_result",
          "data": {
            "text/plain": [
              "True"
            ]
          },
          "metadata": {},
          "execution_count": 163
        }
      ]
    },
    {
      "cell_type": "markdown",
      "source": [
        "##### Summary\n",
        "\n",
        "- a single leading underscore is a convention for internal details of implementation\n",
        "- double leading underscore is a convention for attribues that should not be inherited to avoid name clashes in child classes\n",
        "- leading **and** trailing underscore: reserved for built-in methods"
      ],
      "metadata": {
        "id": "KpW-CH_YfcA3"
      }
    },
    {
      "cell_type": "markdown",
      "source": [
        "#### Using internal attributes"
      ],
      "metadata": {
        "id": "_LBmBkLEf7lz"
      }
    },
    {
      "cell_type": "code",
      "source": [
        "# Add class attributes for max number of days and months\n",
        "class BetterDate:\n",
        "    _MAX_DAYS = 30\n",
        "    _MAX_MONTHS = 12\n",
        "    \n",
        "    def __init__(self, year, month, day):\n",
        "        self.year, self.month, self.day = year, month, day\n",
        "        \n",
        "    @classmethod\n",
        "    def from_str(cls, datestr):\n",
        "        year, month, day = map(int, datestr.split(\"-\"))\n",
        "        return cls(year, month, day)\n",
        "\n",
        "    # Add _is_valid() checking day and month values\n",
        "    def _is_valid(self):\n",
        "        return (self.day <= BetterDate._MAX_DAYS) and \\\n",
        "        (self.month <= BetterDate._MAX_MONTHS)\n",
        "    \n",
        "bd1 = BetterDate(2020, 4, 30)\n",
        "print(bd1._is_valid())\n",
        "\n",
        "bd2 = BetterDate(2020, 6, 45)\n",
        "print(bd2._is_valid())"
      ],
      "metadata": {
        "colab": {
          "base_uri": "https://localhost:8080/"
        },
        "id": "SXkgfTiLhBse",
        "outputId": "1f5bdf9d-7831-4e39-cc2d-9820ff1e5aa9"
      },
      "execution_count": 164,
      "outputs": [
        {
          "output_type": "stream",
          "name": "stdout",
          "text": [
            "True\n",
            "False\n"
          ]
        }
      ]
    },
    {
      "cell_type": "markdown",
      "source": [
        "Notice that you were still able to use the `_is_valid()` method as usual. The single underscore naming convention is purely a convention, and Python doesn't do anything special with such attributes and methods behind the scenes. That convention is widely followed, though, so if you see an attribute name with one leading underscore in someone's class - don't use it! The class developer trusts you with this responsibility."
      ],
      "metadata": {
        "id": "vdHVP8kNiVRA"
      }
    },
    {
      "cell_type": "markdown",
      "source": [
        "### Properties\n",
        "\n",
        "- **Properties** are a special kind of attribute that allow customized access\n",
        "- implemented using the `@property` decorator\n"
      ],
      "metadata": {
        "id": "QX6wkXxcifZA"
      }
    },
    {
      "cell_type": "markdown",
      "source": [
        "#### An example"
      ],
      "metadata": {
        "id": "0COkCOiGjkM5"
      }
    },
    {
      "cell_type": "code",
      "source": [
        "df = pd.DataFrame({\"colA\": [1, 2], \"colB\": [3, 4]})\n",
        "df"
      ],
      "metadata": {
        "colab": {
          "base_uri": "https://localhost:8080/",
          "height": 112
        },
        "id": "nNI0kqFmjqJJ",
        "outputId": "1a97b6f3-5949-4044-ed44-085718113d41"
      },
      "execution_count": 165,
      "outputs": [
        {
          "output_type": "execute_result",
          "data": {
            "text/plain": [
              "   colA  colB\n",
              "0     1     3\n",
              "1     2     4"
            ],
            "text/html": [
              "\n",
              "  <div id=\"df-01e4c7ca-73a2-43fc-b94a-5dfad861240e\">\n",
              "    <div class=\"colab-df-container\">\n",
              "      <div>\n",
              "<style scoped>\n",
              "    .dataframe tbody tr th:only-of-type {\n",
              "        vertical-align: middle;\n",
              "    }\n",
              "\n",
              "    .dataframe tbody tr th {\n",
              "        vertical-align: top;\n",
              "    }\n",
              "\n",
              "    .dataframe thead th {\n",
              "        text-align: right;\n",
              "    }\n",
              "</style>\n",
              "<table border=\"1\" class=\"dataframe\">\n",
              "  <thead>\n",
              "    <tr style=\"text-align: right;\">\n",
              "      <th></th>\n",
              "      <th>colA</th>\n",
              "      <th>colB</th>\n",
              "    </tr>\n",
              "  </thead>\n",
              "  <tbody>\n",
              "    <tr>\n",
              "      <th>0</th>\n",
              "      <td>1</td>\n",
              "      <td>3</td>\n",
              "    </tr>\n",
              "    <tr>\n",
              "      <th>1</th>\n",
              "      <td>2</td>\n",
              "      <td>4</td>\n",
              "    </tr>\n",
              "  </tbody>\n",
              "</table>\n",
              "</div>\n",
              "      <button class=\"colab-df-convert\" onclick=\"convertToInteractive('df-01e4c7ca-73a2-43fc-b94a-5dfad861240e')\"\n",
              "              title=\"Convert this dataframe to an interactive table.\"\n",
              "              style=\"display:none;\">\n",
              "        \n",
              "  <svg xmlns=\"http://www.w3.org/2000/svg\" height=\"24px\"viewBox=\"0 0 24 24\"\n",
              "       width=\"24px\">\n",
              "    <path d=\"M0 0h24v24H0V0z\" fill=\"none\"/>\n",
              "    <path d=\"M18.56 5.44l.94 2.06.94-2.06 2.06-.94-2.06-.94-.94-2.06-.94 2.06-2.06.94zm-11 1L8.5 8.5l.94-2.06 2.06-.94-2.06-.94L8.5 2.5l-.94 2.06-2.06.94zm10 10l.94 2.06.94-2.06 2.06-.94-2.06-.94-.94-2.06-.94 2.06-2.06.94z\"/><path d=\"M17.41 7.96l-1.37-1.37c-.4-.4-.92-.59-1.43-.59-.52 0-1.04.2-1.43.59L10.3 9.45l-7.72 7.72c-.78.78-.78 2.05 0 2.83L4 21.41c.39.39.9.59 1.41.59.51 0 1.02-.2 1.41-.59l7.78-7.78 2.81-2.81c.8-.78.8-2.07 0-2.86zM5.41 20L4 18.59l7.72-7.72 1.47 1.35L5.41 20z\"/>\n",
              "  </svg>\n",
              "      </button>\n",
              "      \n",
              "  <style>\n",
              "    .colab-df-container {\n",
              "      display:flex;\n",
              "      flex-wrap:wrap;\n",
              "      gap: 12px;\n",
              "    }\n",
              "\n",
              "    .colab-df-convert {\n",
              "      background-color: #E8F0FE;\n",
              "      border: none;\n",
              "      border-radius: 50%;\n",
              "      cursor: pointer;\n",
              "      display: none;\n",
              "      fill: #1967D2;\n",
              "      height: 32px;\n",
              "      padding: 0 0 0 0;\n",
              "      width: 32px;\n",
              "    }\n",
              "\n",
              "    .colab-df-convert:hover {\n",
              "      background-color: #E2EBFA;\n",
              "      box-shadow: 0px 1px 2px rgba(60, 64, 67, 0.3), 0px 1px 3px 1px rgba(60, 64, 67, 0.15);\n",
              "      fill: #174EA6;\n",
              "    }\n",
              "\n",
              "    [theme=dark] .colab-df-convert {\n",
              "      background-color: #3B4455;\n",
              "      fill: #D2E3FC;\n",
              "    }\n",
              "\n",
              "    [theme=dark] .colab-df-convert:hover {\n",
              "      background-color: #434B5C;\n",
              "      box-shadow: 0px 1px 3px 1px rgba(0, 0, 0, 0.15);\n",
              "      filter: drop-shadow(0px 1px 2px rgba(0, 0, 0, 0.3));\n",
              "      fill: #FFFFFF;\n",
              "    }\n",
              "  </style>\n",
              "\n",
              "      <script>\n",
              "        const buttonEl =\n",
              "          document.querySelector('#df-01e4c7ca-73a2-43fc-b94a-5dfad861240e button.colab-df-convert');\n",
              "        buttonEl.style.display =\n",
              "          google.colab.kernel.accessAllowed ? 'block' : 'none';\n",
              "\n",
              "        async function convertToInteractive(key) {\n",
              "          const element = document.querySelector('#df-01e4c7ca-73a2-43fc-b94a-5dfad861240e');\n",
              "          const dataTable =\n",
              "            await google.colab.kernel.invokeFunction('convertToInteractive',\n",
              "                                                     [key], {});\n",
              "          if (!dataTable) return;\n",
              "\n",
              "          const docLinkHtml = 'Like what you see? Visit the ' +\n",
              "            '<a target=\"_blank\" href=https://colab.research.google.com/notebooks/data_table.ipynb>data table notebook</a>'\n",
              "            + ' to learn more about interactive tables.';\n",
              "          element.innerHTML = '';\n",
              "          dataTable['output_type'] = 'display_data';\n",
              "          await google.colab.output.renderOutput(dataTable, element);\n",
              "          const docLink = document.createElement('div');\n",
              "          docLink.innerHTML = docLinkHtml;\n",
              "          element.appendChild(docLink);\n",
              "        }\n",
              "      </script>\n",
              "    </div>\n",
              "  </div>\n",
              "  "
            ]
          },
          "metadata": {},
          "execution_count": 165
        }
      ]
    },
    {
      "cell_type": "code",
      "source": [
        "df.columns = [\"A\", \"B\"]\n",
        "df"
      ],
      "metadata": {
        "colab": {
          "base_uri": "https://localhost:8080/",
          "height": 112
        },
        "id": "ZhZXVOQ2jx_t",
        "outputId": "d7feaed0-bb8b-4a7b-97e2-f20aa66fe084"
      },
      "execution_count": 166,
      "outputs": [
        {
          "output_type": "execute_result",
          "data": {
            "text/plain": [
              "   A  B\n",
              "0  1  3\n",
              "1  2  4"
            ],
            "text/html": [
              "\n",
              "  <div id=\"df-4c23fb96-ae6d-492b-a97f-2935a33e441e\">\n",
              "    <div class=\"colab-df-container\">\n",
              "      <div>\n",
              "<style scoped>\n",
              "    .dataframe tbody tr th:only-of-type {\n",
              "        vertical-align: middle;\n",
              "    }\n",
              "\n",
              "    .dataframe tbody tr th {\n",
              "        vertical-align: top;\n",
              "    }\n",
              "\n",
              "    .dataframe thead th {\n",
              "        text-align: right;\n",
              "    }\n",
              "</style>\n",
              "<table border=\"1\" class=\"dataframe\">\n",
              "  <thead>\n",
              "    <tr style=\"text-align: right;\">\n",
              "      <th></th>\n",
              "      <th>A</th>\n",
              "      <th>B</th>\n",
              "    </tr>\n",
              "  </thead>\n",
              "  <tbody>\n",
              "    <tr>\n",
              "      <th>0</th>\n",
              "      <td>1</td>\n",
              "      <td>3</td>\n",
              "    </tr>\n",
              "    <tr>\n",
              "      <th>1</th>\n",
              "      <td>2</td>\n",
              "      <td>4</td>\n",
              "    </tr>\n",
              "  </tbody>\n",
              "</table>\n",
              "</div>\n",
              "      <button class=\"colab-df-convert\" onclick=\"convertToInteractive('df-4c23fb96-ae6d-492b-a97f-2935a33e441e')\"\n",
              "              title=\"Convert this dataframe to an interactive table.\"\n",
              "              style=\"display:none;\">\n",
              "        \n",
              "  <svg xmlns=\"http://www.w3.org/2000/svg\" height=\"24px\"viewBox=\"0 0 24 24\"\n",
              "       width=\"24px\">\n",
              "    <path d=\"M0 0h24v24H0V0z\" fill=\"none\"/>\n",
              "    <path d=\"M18.56 5.44l.94 2.06.94-2.06 2.06-.94-2.06-.94-.94-2.06-.94 2.06-2.06.94zm-11 1L8.5 8.5l.94-2.06 2.06-.94-2.06-.94L8.5 2.5l-.94 2.06-2.06.94zm10 10l.94 2.06.94-2.06 2.06-.94-2.06-.94-.94-2.06-.94 2.06-2.06.94z\"/><path d=\"M17.41 7.96l-1.37-1.37c-.4-.4-.92-.59-1.43-.59-.52 0-1.04.2-1.43.59L10.3 9.45l-7.72 7.72c-.78.78-.78 2.05 0 2.83L4 21.41c.39.39.9.59 1.41.59.51 0 1.02-.2 1.41-.59l7.78-7.78 2.81-2.81c.8-.78.8-2.07 0-2.86zM5.41 20L4 18.59l7.72-7.72 1.47 1.35L5.41 20z\"/>\n",
              "  </svg>\n",
              "      </button>\n",
              "      \n",
              "  <style>\n",
              "    .colab-df-container {\n",
              "      display:flex;\n",
              "      flex-wrap:wrap;\n",
              "      gap: 12px;\n",
              "    }\n",
              "\n",
              "    .colab-df-convert {\n",
              "      background-color: #E8F0FE;\n",
              "      border: none;\n",
              "      border-radius: 50%;\n",
              "      cursor: pointer;\n",
              "      display: none;\n",
              "      fill: #1967D2;\n",
              "      height: 32px;\n",
              "      padding: 0 0 0 0;\n",
              "      width: 32px;\n",
              "    }\n",
              "\n",
              "    .colab-df-convert:hover {\n",
              "      background-color: #E2EBFA;\n",
              "      box-shadow: 0px 1px 2px rgba(60, 64, 67, 0.3), 0px 1px 3px 1px rgba(60, 64, 67, 0.15);\n",
              "      fill: #174EA6;\n",
              "    }\n",
              "\n",
              "    [theme=dark] .colab-df-convert {\n",
              "      background-color: #3B4455;\n",
              "      fill: #D2E3FC;\n",
              "    }\n",
              "\n",
              "    [theme=dark] .colab-df-convert:hover {\n",
              "      background-color: #434B5C;\n",
              "      box-shadow: 0px 1px 3px 1px rgba(0, 0, 0, 0.15);\n",
              "      filter: drop-shadow(0px 1px 2px rgba(0, 0, 0, 0.3));\n",
              "      fill: #FFFFFF;\n",
              "    }\n",
              "  </style>\n",
              "\n",
              "      <script>\n",
              "        const buttonEl =\n",
              "          document.querySelector('#df-4c23fb96-ae6d-492b-a97f-2935a33e441e button.colab-df-convert');\n",
              "        buttonEl.style.display =\n",
              "          google.colab.kernel.accessAllowed ? 'block' : 'none';\n",
              "\n",
              "        async function convertToInteractive(key) {\n",
              "          const element = document.querySelector('#df-4c23fb96-ae6d-492b-a97f-2935a33e441e');\n",
              "          const dataTable =\n",
              "            await google.colab.kernel.invokeFunction('convertToInteractive',\n",
              "                                                     [key], {});\n",
              "          if (!dataTable) return;\n",
              "\n",
              "          const docLinkHtml = 'Like what you see? Visit the ' +\n",
              "            '<a target=\"_blank\" href=https://colab.research.google.com/notebooks/data_table.ipynb>data table notebook</a>'\n",
              "            + ' to learn more about interactive tables.';\n",
              "          element.innerHTML = '';\n",
              "          dataTable['output_type'] = 'display_data';\n",
              "          await google.colab.output.renderOutput(dataTable, element);\n",
              "          const docLink = document.createElement('div');\n",
              "          docLink.innerHTML = docLinkHtml;\n",
              "          element.appendChild(docLink);\n",
              "        }\n",
              "      </script>\n",
              "    </div>\n",
              "  </div>\n",
              "  "
            ]
          },
          "metadata": {},
          "execution_count": 166
        }
      ]
    },
    {
      "cell_type": "code",
      "source": [
        "# df.columns = [\"A\", \"B\", \"C\"]\n",
        "\n",
        "\n",
        "# ValueError: Length mismatch: Expected axis has 2 elements, \n",
        "#             new values have 3 elements"
      ],
      "metadata": {
        "id": "vF28oGl0j2vt"
      },
      "execution_count": 167,
      "outputs": []
    },
    {
      "cell_type": "markdown",
      "source": [
        "#### `@property` decorator"
      ],
      "metadata": {
        "id": "6mbZo0ZYkVDk"
      }
    },
    {
      "cell_type": "code",
      "source": [
        "class Employer:\n",
        "\n",
        "    def __init__(self, name, salary):\n",
        "        # use \"protected\" attribute with leading _ to store data\n",
        "        self._salary = salary\n",
        "\n",
        "    # use @property on a **method** whose name\n",
        "    #  is exactly tne name of the restricted attribute\n",
        "    # - return the internal attribute\n",
        "    @property\n",
        "    def salary(self):\n",
        "        return self._salary"
      ],
      "metadata": {
        "id": "Fdhcd1qCk2g0"
      },
      "execution_count": 168,
      "outputs": []
    }
  ]
}