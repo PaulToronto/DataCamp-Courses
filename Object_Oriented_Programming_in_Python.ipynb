{
  "nbformat": 4,
  "nbformat_minor": 0,
  "metadata": {
    "colab": {
      "provenance": [],
      "toc_visible": true,
      "authorship_tag": "ABX9TyPT7qYrKz9u6WiNRxb+ujVP",
      "include_colab_link": true
    },
    "kernelspec": {
      "name": "python3",
      "display_name": "Python 3"
    },
    "language_info": {
      "name": "python"
    }
  },
  "cells": [
    {
      "cell_type": "markdown",
      "metadata": {
        "id": "view-in-github",
        "colab_type": "text"
      },
      "source": [
        "<a href=\"https://colab.research.google.com/github/PaulToronto/DataCamp-Courses/blob/main/Object_Oriented_Programming_in_Python.ipynb\" target=\"_parent\"><img src=\"https://colab.research.google.com/assets/colab-badge.svg\" alt=\"Open In Colab\"/></a>"
      ]
    },
    {
      "cell_type": "markdown",
      "source": [
        "# Object-Oriented Programming in Python\n",
        "\n",
        "This notebook contains my notes from a DataCamp course:\n",
        "\n",
        "[Object-Oriented Programming in Python](https://app.datacamp.com/learn/courses/object-oriented-programming-in-python)"
      ],
      "metadata": {
        "id": "ow2gMfoXV6ai"
      }
    },
    {
      "cell_type": "markdown",
      "source": [
        "## OOP Fundamentals"
      ],
      "metadata": {
        "id": "2mcohzHDS1bn"
      }
    },
    {
      "cell_type": "markdown",
      "source": [
        "### What is OOP?\n",
        "\n",
        "- Procedural programming\n",
        "    - Code as a sequence of steps\n",
        "    - Great for data analysis\n",
        "- Object-oriented programming\n",
        "    - Code as interactions of objects\n",
        "    - Great for building frameworks and tools\n",
        "    - Maintainable and reusable code"
      ],
      "metadata": {
        "id": "WWa6faCdeOVI"
      }
    },
    {
      "cell_type": "markdown",
      "source": [
        "#### Objects as data structures\n",
        "\n",
        "- Objects incorportate \n",
        "    1. state\n",
        "    2. behaviour\n",
        "- **Encapsulation** \n",
        "    - bundles state and behaviour together"
      ],
      "metadata": {
        "id": "skH5ii9JfDtN"
      }
    },
    {
      "cell_type": "markdown",
      "source": [
        "#### Classes as blueprints\n",
        "\n",
        "- **Class**\n",
        "    - blueprint for objects outlining possible states and behaviour"
      ],
      "metadata": {
        "id": "WgZN8Owwfzpz"
      }
    },
    {
      "cell_type": "markdown",
      "source": [
        "#### Objects in Python\n",
        "\n",
        "- Everything in Python is an object\n",
        "- Every object has a class\n",
        "- Use `type()` to find the class"
      ],
      "metadata": {
        "id": "JawQ_oyBg6ev"
      }
    },
    {
      "cell_type": "code",
      "source": [
        "import numpy as np\n",
        "a = np.array([1, 2, 3, 4])\n",
        "type(a)"
      ],
      "metadata": {
        "colab": {
          "base_uri": "https://localhost:8080/"
        },
        "id": "Gh1pH1oChOop",
        "outputId": "4cf7fc18-a35f-4a8c-f0a8-45fe5439b2b6"
      },
      "execution_count": 1,
      "outputs": [
        {
          "output_type": "execute_result",
          "data": {
            "text/plain": [
              "numpy.ndarray"
            ]
          },
          "metadata": {},
          "execution_count": 1
        }
      ]
    },
    {
      "cell_type": "markdown",
      "source": [
        "#### Attributes and methods\n",
        "\n",
        "- state information is contained in **attributes**\n",
        "- behaviour information is contained in **methods**"
      ],
      "metadata": {
        "id": "gEVMcI93hgPl"
      }
    },
    {
      "cell_type": "code",
      "source": [
        "# attribute\n",
        "a.shape"
      ],
      "metadata": {
        "colab": {
          "base_uri": "https://localhost:8080/"
        },
        "id": "9KhHW-cwiDJV",
        "outputId": "07aea350-e90c-4317-fcdd-772ba6c4d697"
      },
      "execution_count": 2,
      "outputs": [
        {
          "output_type": "execute_result",
          "data": {
            "text/plain": [
              "(4,)"
            ]
          },
          "metadata": {},
          "execution_count": 2
        }
      ]
    },
    {
      "cell_type": "code",
      "source": [
        "# method\n",
        "a.reshape(2, 2)"
      ],
      "metadata": {
        "colab": {
          "base_uri": "https://localhost:8080/"
        },
        "id": "C02beGfAiTv4",
        "outputId": "b505aeb5-b895-4322-a1a7-c24daac1aa55"
      },
      "execution_count": 3,
      "outputs": [
        {
          "output_type": "execute_result",
          "data": {
            "text/plain": [
              "array([[1, 2],\n",
              "       [3, 4]])"
            ]
          },
          "metadata": {},
          "execution_count": 3
        }
      ]
    },
    {
      "cell_type": "markdown",
      "source": [
        "#### List all the attributes of an object"
      ],
      "metadata": {
        "id": "axnwPsf1ioXS"
      }
    },
    {
      "cell_type": "code",
      "source": [
        "# dir(a)"
      ],
      "metadata": {
        "id": "L82lwkENisf9"
      },
      "execution_count": 4,
      "outputs": []
    },
    {
      "cell_type": "markdown",
      "source": [
        "### Class anatomy: attributes and methods"
      ],
      "metadata": {
        "id": "H1WwvygAmHRM"
      }
    },
    {
      "cell_type": "markdown",
      "source": [
        "#### A basic class"
      ],
      "metadata": {
        "id": "a4-87EodmwBk"
      }
    },
    {
      "cell_type": "code",
      "source": [
        "# an empty class\n",
        "class Customer:\n",
        "    pass"
      ],
      "metadata": {
        "id": "ai9GBwYEmyvF"
      },
      "execution_count": 5,
      "outputs": []
    },
    {
      "cell_type": "code",
      "source": [
        "# we can already create objects of the calss\n",
        "c1 = Customer()\n",
        "c2 = Customer()"
      ],
      "metadata": {
        "id": "llsEUO10m3m4"
      },
      "execution_count": 6,
      "outputs": []
    },
    {
      "cell_type": "code",
      "source": [
        "type(c1)"
      ],
      "metadata": {
        "colab": {
          "base_uri": "https://localhost:8080/"
        },
        "id": "erSm0H13nCRG",
        "outputId": "8e9d13b4-0d31-4b4e-a51f-864f91da00f6"
      },
      "execution_count": 7,
      "outputs": [
        {
          "output_type": "execute_result",
          "data": {
            "text/plain": [
              "__main__.Customer"
            ]
          },
          "metadata": {},
          "execution_count": 7
        }
      ]
    },
    {
      "cell_type": "markdown",
      "source": [
        "#### A class with a method\n",
        "\n",
        "- a method defintion is a function definition within class\n",
        "- use `self` as the first argument in every method definition\n",
        "    - ignore `self` when calling the method"
      ],
      "metadata": {
        "id": "sM98DTBbnkMw"
      }
    },
    {
      "cell_type": "code",
      "source": [
        "class Customer:\n",
        "\n",
        "    def identify(self, name):\n",
        "        print(\"I am customer \" + name)"
      ],
      "metadata": {
        "id": "h9Axti0anmSo"
      },
      "execution_count": 8,
      "outputs": []
    },
    {
      "cell_type": "code",
      "source": [
        "c3 = Customer()\n",
        "type(c3)"
      ],
      "metadata": {
        "colab": {
          "base_uri": "https://localhost:8080/"
        },
        "id": "g_W6zAyZnxOk",
        "outputId": "b049a8f4-3c57-49aa-8bbf-aac182dc8331"
      },
      "execution_count": 9,
      "outputs": [
        {
          "output_type": "execute_result",
          "data": {
            "text/plain": [
              "__main__.Customer"
            ]
          },
          "metadata": {},
          "execution_count": 9
        }
      ]
    },
    {
      "cell_type": "code",
      "source": [
        "# ignore `self` when calling the method\n",
        "c3.identify('Paul')"
      ],
      "metadata": {
        "colab": {
          "base_uri": "https://localhost:8080/"
        },
        "id": "AmxnAne2n0Nk",
        "outputId": "f957b77c-609d-4c8a-be7d-98305868b877"
      },
      "execution_count": 10,
      "outputs": [
        {
          "output_type": "stream",
          "name": "stdout",
          "text": [
            "I am customer Paul\n"
          ]
        }
      ]
    },
    {
      "cell_type": "markdown",
      "source": [
        "#### What is `self`?\n",
        "\n",
        "- Classes are templates\n",
        "    - Objects of a class don't yet exist when a class is being defined\n",
        "    - but we often need a way to refer to the data of a particular object within a class definition\n",
        "        - that is the purpose of `self`: as a stand-in for the future object\n",
        "        - we can use `self` to access attributes and call other methods from within the class definition even when no objects exist yet\n",
        "        - Python will handle `self` when the method is called from an object using dot syntax\n",
        "            - In fact using **object-dot-method** is equivalent to passing that object as an argument \n",
        "            - that's whey we don't specify it explicitly when calling the method from an existing object\n",
        "            - `cust.identify(\"Paul\")` will be interpreted as `Customer.identify(cust, \"Paul\")`"
      ],
      "metadata": {
        "id": "rZPlZgDFqYvQ"
      }
    },
    {
      "cell_type": "markdown",
      "source": [
        "#### We need attributes\n",
        "\n",
        "- **Encapsulation**: bundling data with methods that operate on that data\n",
        "- **attributes** are created by assignment, `=`, in methods\n",
        "- we can access this attribute with dot syntax: `cust.name`"
      ],
      "metadata": {
        "id": "_1tBMYIBszqq"
      }
    },
    {
      "cell_type": "code",
      "source": [
        "class Customer:\n",
        "    # set the name attribute of an object\n",
        "    def set_name(self, new_name):\n",
        "        self.name = new_name \n",
        "        # will create `name` when set_name is called\n",
        "        #   `name` will not appear in the dir() list \n",
        "        #   until `set_name` is called"
      ],
      "metadata": {
        "id": "Nx7CRVFstS4w"
      },
      "execution_count": 11,
      "outputs": []
    },
    {
      "cell_type": "code",
      "source": [
        "c4 = Customer()"
      ],
      "metadata": {
        "id": "Qnu-mvXwtk5s"
      },
      "execution_count": 12,
      "outputs": []
    },
    {
      "cell_type": "code",
      "source": [
        "type(c4)"
      ],
      "metadata": {
        "colab": {
          "base_uri": "https://localhost:8080/"
        },
        "id": "brPsSHZztnO8",
        "outputId": "2079b4b4-cdff-42e0-dc58-840155b512b5"
      },
      "execution_count": 13,
      "outputs": [
        {
          "output_type": "execute_result",
          "data": {
            "text/plain": [
              "__main__.Customer"
            ]
          },
          "metadata": {},
          "execution_count": 13
        }
      ]
    },
    {
      "cell_type": "code",
      "source": [
        "c4.set_name(\"Paul\")"
      ],
      "metadata": {
        "id": "55bYXspttpHE"
      },
      "execution_count": 14,
      "outputs": []
    },
    {
      "cell_type": "code",
      "source": [
        "c4.name"
      ],
      "metadata": {
        "colab": {
          "base_uri": "https://localhost:8080/",
          "height": 36
        },
        "id": "0ILt9O_ptuJ4",
        "outputId": "319bebd5-c2c3-4dd1-e4cf-0c96b080ed24"
      },
      "execution_count": 15,
      "outputs": [
        {
          "output_type": "execute_result",
          "data": {
            "text/plain": [
              "'Paul'"
            ],
            "application/vnd.google.colaboratory.intrinsic+json": {
              "type": "string"
            }
          },
          "metadata": {},
          "execution_count": 15
        }
      ]
    },
    {
      "cell_type": "code",
      "source": [
        "class Customer:\n",
        "    def set_name(self, new_name):\n",
        "        self.name = new_name\n",
        "\n",
        "    def identify(self):\n",
        "        print(\"I am customer \" + self.name)"
      ],
      "metadata": {
        "id": "qTYhhIccv0eo"
      },
      "execution_count": 16,
      "outputs": []
    },
    {
      "cell_type": "code",
      "source": [
        "c5 = Customer()\n",
        "\n",
        "c5.set_name(\"Paul\")\n",
        "c5.identify()"
      ],
      "metadata": {
        "colab": {
          "base_uri": "https://localhost:8080/"
        },
        "id": "O632m6-cwHfc",
        "outputId": "22a514d7-f818-4a52-8c05-6b66cb87db6d"
      },
      "execution_count": 17,
      "outputs": [
        {
          "output_type": "stream",
          "name": "stdout",
          "text": [
            "I am customer Paul\n"
          ]
        }
      ]
    },
    {
      "cell_type": "code",
      "source": [
        "c5.name = \"Carlos\""
      ],
      "metadata": {
        "id": "zb85lbtd1wEJ"
      },
      "execution_count": 18,
      "outputs": []
    },
    {
      "cell_type": "code",
      "source": [
        "c5.identify()"
      ],
      "metadata": {
        "colab": {
          "base_uri": "https://localhost:8080/"
        },
        "id": "uqRvAJOH1y1a",
        "outputId": "16dc535e-f0a9-4de0-d80a-08a22539692c"
      },
      "execution_count": 19,
      "outputs": [
        {
          "output_type": "stream",
          "name": "stdout",
          "text": [
            "I am customer Carlos\n"
          ]
        }
      ]
    },
    {
      "cell_type": "code",
      "source": [
        "c6 = Customer()\n",
        "c6.name = \"Kim\""
      ],
      "metadata": {
        "id": "lk7_SLrk1-is"
      },
      "execution_count": 20,
      "outputs": []
    },
    {
      "cell_type": "code",
      "source": [
        "c6.identify()"
      ],
      "metadata": {
        "colab": {
          "base_uri": "https://localhost:8080/"
        },
        "id": "A-PVnrDY2Dtx",
        "outputId": "330b114e-b798-44e9-8442-542053756377"
      },
      "execution_count": 21,
      "outputs": [
        {
          "output_type": "stream",
          "name": "stdout",
          "text": [
            "I am customer Kim\n"
          ]
        }
      ]
    },
    {
      "cell_type": "markdown",
      "source": [
        "#### Create your first class"
      ],
      "metadata": {
        "id": "Vt0f-BGC2esZ"
      }
    },
    {
      "cell_type": "code",
      "source": [
        "class Employee:\n",
        "    \n",
        "    def set_name(self, new_name):\n",
        "        self.name = new_name\n",
        "\n",
        "    def set_salary(self, new_salary):\n",
        "        self.salary = new_salary\n",
        "\n",
        "    def give_raise(self, amount):\n",
        "        self.salary += amount\n",
        "\n",
        "    def monthly_salary(self):\n",
        "        return self.salary / 12\n",
        "\n",
        "emp = Employee()\n",
        "emp.set_name('Korel Rossi')\n",
        "emp.set_salary(50000)\n",
        "\n",
        "print(emp.name, emp.salary)\n",
        "\n",
        "emp.salary += 1500\n",
        "\n",
        "print(emp.salary)\n",
        "print(emp.monthly_salary())"
      ],
      "metadata": {
        "colab": {
          "base_uri": "https://localhost:8080/"
        },
        "id": "GxG-1yuM2i2q",
        "outputId": "2d2624b1-c89d-46e7-c1ba-d027223d4f24"
      },
      "execution_count": 22,
      "outputs": [
        {
          "output_type": "stream",
          "name": "stdout",
          "text": [
            "Korel Rossi 50000\n",
            "51500\n",
            "4291.666666666667\n"
          ]
        }
      ]
    },
    {
      "cell_type": "markdown",
      "source": [
        "### Class anatomy: the `__init__` constructor"
      ],
      "metadata": {
        "id": "STl167cZ9bFO"
      }
    },
    {
      "cell_type": "markdown",
      "source": [
        "#### Constructor\n",
        "\n",
        "- Add data to object when creating it\n",
        "- **Constructor** `__init__` method is called every time an object is created\n",
        "- the `__init__` constructor is also a good place to set default values for attributes\n",
        "- it is a best practice to define all attributes in the constructor\n",
        "    - makes code more useable and maintainable"
      ],
      "metadata": {
        "id": "UWWbskcI-22i"
      }
    },
    {
      "cell_type": "code",
      "source": [
        "class Customer:\n",
        "    def __init__(self, name):\n",
        "        self.name = name\n",
        "        print(\"The __init__ method was called\")"
      ],
      "metadata": {
        "id": "SwYu8OKKBBzR"
      },
      "execution_count": 23,
      "outputs": []
    },
    {
      "cell_type": "code",
      "source": [
        "c7 = Customer('Paul')"
      ],
      "metadata": {
        "colab": {
          "base_uri": "https://localhost:8080/"
        },
        "id": "4sqMbIoxBN4y",
        "outputId": "6caa326a-5ccd-4eeb-aad8-171ddbaea095"
      },
      "execution_count": 24,
      "outputs": [
        {
          "output_type": "stream",
          "name": "stdout",
          "text": [
            "The __init__ method was called\n"
          ]
        }
      ]
    },
    {
      "cell_type": "code",
      "source": [
        "c7.name"
      ],
      "metadata": {
        "colab": {
          "base_uri": "https://localhost:8080/",
          "height": 36
        },
        "id": "Gpj9PpR1Bi9T",
        "outputId": "495de027-6ef9-4b4a-d8fa-686ae4238aeb"
      },
      "execution_count": 25,
      "outputs": [
        {
          "output_type": "execute_result",
          "data": {
            "text/plain": [
              "'Paul'"
            ],
            "application/vnd.google.colaboratory.intrinsic+json": {
              "type": "string"
            }
          },
          "metadata": {},
          "execution_count": 25
        }
      ]
    },
    {
      "cell_type": "code",
      "source": [
        "class Customer:\n",
        "    def __init__(self, name, salary):\n",
        "        self.name = name\n",
        "        self.salary = salary\n",
        "        print(\"The __init__ method was called\")"
      ],
      "metadata": {
        "id": "Clear_PxDqb6"
      },
      "execution_count": 26,
      "outputs": []
    },
    {
      "cell_type": "code",
      "source": [
        "c8 = Customer(\"Bobby\", 100000)"
      ],
      "metadata": {
        "colab": {
          "base_uri": "https://localhost:8080/"
        },
        "id": "b7MgAcmtECCP",
        "outputId": "758a94c6-6d87-47d8-fa29-4f0a42114dc6"
      },
      "execution_count": 27,
      "outputs": [
        {
          "output_type": "stream",
          "name": "stdout",
          "text": [
            "The __init__ method was called\n"
          ]
        }
      ]
    },
    {
      "cell_type": "code",
      "source": [
        "c8.name, c8.salary"
      ],
      "metadata": {
        "colab": {
          "base_uri": "https://localhost:8080/"
        },
        "id": "jPfkZy-JEevf",
        "outputId": "c879fa0f-25f7-40eb-c0c2-59999995232f"
      },
      "execution_count": 28,
      "outputs": [
        {
          "output_type": "execute_result",
          "data": {
            "text/plain": [
              "('Bobby', 100000)"
            ]
          },
          "metadata": {},
          "execution_count": 28
        }
      ]
    },
    {
      "cell_type": "code",
      "source": [
        "# a __init__ constructor sets default value\n",
        "class Customer:\n",
        "    def __init__(self, name, balance=0):\n",
        "        self.name = name\n",
        "        self.balance = balance \n",
        "        print(\"The __init__ method was called\")"
      ],
      "metadata": {
        "id": "mP3jUlk4GMGE"
      },
      "execution_count": 29,
      "outputs": []
    },
    {
      "cell_type": "code",
      "source": [
        "c9 = Customer(\"Paul\")\n",
        "c9.name, c9.balance"
      ],
      "metadata": {
        "colab": {
          "base_uri": "https://localhost:8080/"
        },
        "id": "ZKy0cZyKHEZS",
        "outputId": "855dfea5-a4f8-45c8-f284-8456a9b09ba5"
      },
      "execution_count": 30,
      "outputs": [
        {
          "output_type": "stream",
          "name": "stdout",
          "text": [
            "The __init__ method was called\n"
          ]
        },
        {
          "output_type": "execute_result",
          "data": {
            "text/plain": [
              "('Paul', 0)"
            ]
          },
          "metadata": {},
          "execution_count": 30
        }
      ]
    },
    {
      "cell_type": "code",
      "source": [
        "c10 = Customer(\"Jane\", 100)\n",
        "c10.name, c10.balance"
      ],
      "metadata": {
        "colab": {
          "base_uri": "https://localhost:8080/"
        },
        "id": "Iwkt8_cDHJER",
        "outputId": "3b425f1b-0726-4ad6-c946-d0fc3b1ced16"
      },
      "execution_count": 31,
      "outputs": [
        {
          "output_type": "stream",
          "name": "stdout",
          "text": [
            "The __init__ method was called\n"
          ]
        },
        {
          "output_type": "execute_result",
          "data": {
            "text/plain": [
              "('Jane', 100)"
            ]
          },
          "metadata": {},
          "execution_count": 31
        }
      ]
    },
    {
      "cell_type": "markdown",
      "source": [
        "#### Best Practices\n",
        "\n",
        "1. Initialize attributes in `__init__()`\n",
        "2. Naming\n",
        "    - `CamelCase` for classes\n",
        "    - `lower_snake_case` for functions and attributes\n",
        "3. Keep `self` as `self`\n",
        "    - the choice of `self` is only a convention, any other name can be used, but that would be confusing\n",
        "4. Use docstrings\n",
        "    - classes, like functions, allow for docstrings\n",
        "    - use them because they are displayed when `help()` is called on the object"
      ],
      "metadata": {
        "id": "zFmcirqTIQ_L"
      }
    },
    {
      "cell_type": "code",
      "source": [
        "class MyClass:\n",
        "    \"\"\"I am a docstring\"\"\"\n",
        "    pass"
      ],
      "metadata": {
        "id": "gaS3-TpCJhlb"
      },
      "execution_count": 32,
      "outputs": []
    },
    {
      "cell_type": "markdown",
      "source": [
        "#### Add a class constructor"
      ],
      "metadata": {
        "id": "c8J2NLK4LVXE"
      }
    },
    {
      "cell_type": "code",
      "source": [
        "from datetime import datetime\n",
        "\n",
        "class Employee:\n",
        "\n",
        "    def __init__(self, name, salary=0):\n",
        "        self.name = name\n",
        "        \n",
        "        if salary > 0:\n",
        "          self.salary = salary\n",
        "        else:\n",
        "          self.salary = 0\n",
        "          print(\"Invalid salary!\")\n",
        "          \n",
        "        self.hire_date = datetime.today()\n",
        "    \n",
        "    def give_raise(self, amount):\n",
        "        self.salary += amount\n",
        "\n",
        "    def monthly_salary(self):\n",
        "        return self.salary/12"
      ],
      "metadata": {
        "id": "Q4Mu3--wLYGO"
      },
      "execution_count": 33,
      "outputs": []
    },
    {
      "cell_type": "code",
      "source": [
        "emp = Employee(\"Korel Rossi\")\n",
        "print(emp.name, emp.salary, emp.hire_date)"
      ],
      "metadata": {
        "colab": {
          "base_uri": "https://localhost:8080/"
        },
        "id": "t-SQ1suxNGEz",
        "outputId": "6fb0786b-030f-45b2-fc06-7ccaa4060222"
      },
      "execution_count": 34,
      "outputs": [
        {
          "output_type": "stream",
          "name": "stdout",
          "text": [
            "Invalid salary!\n",
            "Korel Rossi 0 2023-01-05 04:07:03.530154\n"
          ]
        }
      ]
    },
    {
      "cell_type": "code",
      "source": [
        "emp2 = Employee(\"Paul\", 100)\n",
        "print(emp2.name, emp2.salary, emp.hire_date)"
      ],
      "metadata": {
        "colab": {
          "base_uri": "https://localhost:8080/"
        },
        "id": "GEIB1-DINPtx",
        "outputId": "42c18bf6-9882-44da-ee9c-acfd19c820cb"
      },
      "execution_count": 35,
      "outputs": [
        {
          "output_type": "stream",
          "name": "stdout",
          "text": [
            "Paul 100 2023-01-05 04:07:03.530154\n"
          ]
        }
      ]
    },
    {
      "cell_type": "code",
      "source": [
        "emp3 = Employee(\"Carlos\", -10)\n",
        "print(emp3.name, emp3.salary, emp.hire_date)"
      ],
      "metadata": {
        "colab": {
          "base_uri": "https://localhost:8080/"
        },
        "id": "lzMu-JavNZC4",
        "outputId": "abd8e880-87d1-495a-8c3f-ee0f46113429"
      },
      "execution_count": 36,
      "outputs": [
        {
          "output_type": "stream",
          "name": "stdout",
          "text": [
            "Invalid salary!\n",
            "Carlos 0 2023-01-05 04:07:03.530154\n"
          ]
        }
      ]
    },
    {
      "cell_type": "markdown",
      "source": [
        "#### Write a class from scratch"
      ],
      "metadata": {
        "id": "MEvxS4vGRjES"
      }
    },
    {
      "cell_type": "code",
      "source": [
        "class Point:\n",
        "\n",
        "    def __init__(self, x=0.0, y=0.0):\n",
        "        self.x = x\n",
        "        self.y = y \n",
        "\n",
        "    def distance_to_origin(self):\n",
        "        return (self.x**2 + self.y**2) ** (1/2)\n",
        "\n",
        "    def reflect(self, axis):\n",
        "        if axis == \"x\":\n",
        "            self.y = -self.y \n",
        "        elif axis == \"y\":\n",
        "            self.x = -self.x \n",
        "        else:\n",
        "            print(\"Error: axis is invalid\")"
      ],
      "metadata": {
        "id": "XE1nJmU0Rng1"
      },
      "execution_count": 37,
      "outputs": []
    },
    {
      "cell_type": "code",
      "source": [
        "pt = Point(x=3.0)\n",
        "pt.reflect(\"y\")\n",
        "print(pt.x, pt.y)\n",
        "pt.y = 4.0\n",
        "print(pt.distance_to_origin())"
      ],
      "metadata": {
        "colab": {
          "base_uri": "https://localhost:8080/"
        },
        "id": "Or-YfITNRvRi",
        "outputId": "92d0a759-4a61-47cc-e26b-a1a7b4893c65"
      },
      "execution_count": 38,
      "outputs": [
        {
          "output_type": "stream",
          "name": "stdout",
          "text": [
            "-3.0 0.0\n",
            "5.0\n"
          ]
        }
      ]
    },
    {
      "cell_type": "markdown",
      "source": [
        "## Inheritance and Polymorphism"
      ],
      "metadata": {
        "id": "61q7stWGSd9S"
      }
    },
    {
      "cell_type": "markdown",
      "source": [
        "### Instance and class data"
      ],
      "metadata": {
        "id": "oRAWN8U_UDv5"
      }
    },
    {
      "cell_type": "code",
      "source": [
        "class Employee:\n",
        "    # A class attribute\n",
        "    MIN_SALARY = 30000 # <--- no `self`\n",
        "\n",
        "    def __init__(self, name, salary):\n",
        "        self.name = name\n",
        "\n",
        "        if salary >= Employee.MIN_SALARY:\n",
        "            self.salary = salary\n",
        "        else:\n",
        "            self.salary = Employee.MIN_SALARY\n",
        "    \n",
        "emp1 = Employee('Teo Mille', 50000)\n",
        "emp2 = Employee('Marta Popov', 20000)\n",
        "\n",
        "display(emp1.name, emp1.salary, emp1.MIN_SALARY)\n",
        "display(emp2.name, emp2.salary, emp2.MIN_SALARY)"
      ],
      "metadata": {
        "colab": {
          "base_uri": "https://localhost:8080/",
          "height": 125
        },
        "id": "aygg4Ags_TUC",
        "outputId": "b39919f4-f449-42a4-bef7-72728f5d0ab3"
      },
      "execution_count": 39,
      "outputs": [
        {
          "output_type": "display_data",
          "data": {
            "text/plain": [
              "'Teo Mille'"
            ],
            "application/vnd.google.colaboratory.intrinsic+json": {
              "type": "string"
            }
          },
          "metadata": {}
        },
        {
          "output_type": "display_data",
          "data": {
            "text/plain": [
              "50000"
            ]
          },
          "metadata": {}
        },
        {
          "output_type": "display_data",
          "data": {
            "text/plain": [
              "30000"
            ]
          },
          "metadata": {}
        },
        {
          "output_type": "display_data",
          "data": {
            "text/plain": [
              "'Marta Popov'"
            ],
            "application/vnd.google.colaboratory.intrinsic+json": {
              "type": "string"
            }
          },
          "metadata": {}
        },
        {
          "output_type": "display_data",
          "data": {
            "text/plain": [
              "30000"
            ]
          },
          "metadata": {}
        },
        {
          "output_type": "display_data",
          "data": {
            "text/plain": [
              "30000"
            ]
          },
          "metadata": {}
        }
      ]
    },
    {
      "cell_type": "markdown",
      "source": [
        "#### Instance-level data\n",
        "\n",
        "- In the code above, `name` and `salary` are **instance attributes**\n",
        "- `self` binds to an instance "
      ],
      "metadata": {
        "id": "S7Su1cX5_yWQ"
      }
    },
    {
      "cell_type": "markdown",
      "source": [
        "#### Class-level data\n",
        "\n",
        "- In the code above, `MIN_SALARY` is a **class attribute**\n",
        "- Data shared among all instances of a class\n",
        "- Define class attributes in the body of a class\n",
        "- This is also a **global variable** within the class\n",
        "- Note that we don't use `self` to define class attributes\n",
        "- We can use the class name to access these attributes"
      ],
      "metadata": {
        "id": "g0XIEVfaAIM-"
      }
    },
    {
      "cell_type": "markdown",
      "source": [
        "#### Why use class attributes? (Global constants related to the class)\n",
        "\n",
        "- used for minimal or maximal values for attributes\n",
        "- for commonly used values and constants\n",
        "    - `pi` might be used in a `Circle` class"
      ],
      "metadata": {
        "id": "BRiIooWyCx0i"
      }
    },
    {
      "cell_type": "markdown",
      "source": [
        "#### Class methods\n",
        "\n",
        "- Regular methods are already shared between instances\n",
        "    - The same code gets executed for every instance\n",
        "    - The only difference is the data that is fed into it\n",
        "- It is possible to define methods bound to class rather than instances\n",
        "    - But these methods have a narrow application scope because they are not able to use any instance-level data\n",
        "    - To do this start with a `@classmethod` decorator\n",
        "    - Instead of `self`, use `cls`\n",
        "    - To call these methods, use **class-dot-method** syntax rather that **object-dot-method** syntax"
      ],
      "metadata": {
        "id": "l1-EbC2aDYpb"
      }
    },
    {
      "cell_type": "code",
      "source": [
        "class MyClass:\n",
        "\n",
        "    @classmethod\n",
        "    def my_awesome_method(cls, word):\n",
        "        # can't use any instance attributes\n",
        "        print(word)"
      ],
      "metadata": {
        "id": "19zmeumlEn6A"
      },
      "execution_count": 40,
      "outputs": []
    },
    {
      "cell_type": "code",
      "source": [
        "MyClass.my_awesome_method(\"hello\")"
      ],
      "metadata": {
        "colab": {
          "base_uri": "https://localhost:8080/"
        },
        "id": "xo07Iq38E5bo",
        "outputId": "de195eb9-517e-459a-fb0d-a26f8df45b71"
      },
      "execution_count": 41,
      "outputs": [
        {
          "output_type": "stream",
          "name": "stdout",
          "text": [
            "hello\n"
          ]
        }
      ]
    },
    {
      "cell_type": "code",
      "source": [
        "mc = MyClass()"
      ],
      "metadata": {
        "id": "BA5HeeSXE9N3"
      },
      "execution_count": 42,
      "outputs": []
    },
    {
      "cell_type": "code",
      "source": [
        "mc.my_awesome_method(\"goodbye\")"
      ],
      "metadata": {
        "colab": {
          "base_uri": "https://localhost:8080/"
        },
        "id": "hJNybUqAFA4B",
        "outputId": "b6a871e4-9dc9-4530-804d-e743c813fb69"
      },
      "execution_count": 43,
      "outputs": [
        {
          "output_type": "stream",
          "name": "stdout",
          "text": [
            "goodbye\n"
          ]
        }
      ]
    },
    {
      "cell_type": "markdown",
      "source": [
        "#### Alternative constructors\n",
        "\n",
        "- Alternative constructors are the main use case for class methods\n",
        "- A class can only have one `__init__` method, but there might be multiple ways to initialize an object"
      ],
      "metadata": {
        "id": "J945wlo8Fdrt"
      }
    },
    {
      "cell_type": "code",
      "source": [
        "import base64\n",
        "import requests\n",
        "\n",
        "class Employee:\n",
        "   \n",
        "    MIN_SALARY = 30000\n",
        "\n",
        "    def __init__(self, name, salary):\n",
        "        self.name = name\n",
        "\n",
        "        if salary >= Employee.MIN_SALARY:\n",
        "            self.salary = salary\n",
        "        else:\n",
        "            self.salary = Employee.MIN_SALARY\n",
        "\n",
        "    # we can't use a regular method for an alternate \n",
        "    #   constructor, because an object has not\n",
        "    #   been created yet\n",
        "    @classmethod \n",
        "    def from_file(cls, filename):\n",
        "        req = requests.get(filename)\n",
        "        name = req.text\n",
        "        # the cls in the next line refers to the class\n",
        "        #  so it will call the `__init__` constructor\n",
        "        return cls(name, 70000)"
      ],
      "metadata": {
        "id": "PGM2wGE8F9W3"
      },
      "execution_count": 44,
      "outputs": []
    },
    {
      "cell_type": "code",
      "source": [
        "path = 'https://raw.githubusercontent.com/PaulToronto/'\n",
        "path += 'Math-and-Data-Science-Reference/main/'\n",
        "path += 'files/myfile.txt'"
      ],
      "metadata": {
        "id": "mu8t0aSPL0yq"
      },
      "execution_count": 45,
      "outputs": []
    },
    {
      "cell_type": "code",
      "source": [
        "emp1 = Employee(\"Paul\", 60000)\n",
        "emp2 = Employee.from_file(path)\n",
        "print(emp1.name, emp1.salary)\n",
        "print(emp2.name, emp2.salary)"
      ],
      "metadata": {
        "colab": {
          "base_uri": "https://localhost:8080/"
        },
        "id": "yxYHXJNRL-Gl",
        "outputId": "aff5028b-f65f-452c-a8bd-6260e2069aea"
      },
      "execution_count": 46,
      "outputs": [
        {
          "output_type": "stream",
          "name": "stdout",
          "text": [
            "Paul 60000\n",
            "Carlos 70000\n"
          ]
        }
      ]
    },
    {
      "cell_type": "markdown",
      "source": [
        "#### Class-level attributes"
      ],
      "metadata": {
        "id": "Egzrpo4VQ862"
      }
    },
    {
      "cell_type": "code",
      "source": [
        "# Create a Player class\n",
        "#  - that has a class attribute MAX_POSITION \n",
        "#    with value 10\n",
        "#  - and an __init__ method that sets the \n",
        "#    position instance to 0\n",
        "class Player:\n",
        "\n",
        "    MAX_POSITION = 10\n",
        "    MAX_SPEED = 3\n",
        "\n",
        "    def __init__(self):\n",
        "        self.position = 0\n",
        "\n",
        "    # Add a move() method with steps parameter\n",
        "    def move(self, steps):\n",
        "        if self.position + steps < Player.MAX_POSITION:\n",
        "            self.position += steps\n",
        "        else:\n",
        "            self.position = Player.MAX_POSITION\n",
        "\n",
        "    # This method provides a rudimentary visualization in the console    \n",
        "    def draw(self):\n",
        "        drawing = \"-\" * self.position + \"|\" +\"-\"*(Player.MAX_POSITION - self.position)\n",
        "        print(drawing)"
      ],
      "metadata": {
        "id": "SQGA9rvr9m8V"
      },
      "execution_count": 47,
      "outputs": []
    },
    {
      "cell_type": "code",
      "source": [
        "# Print Player.MAX_POSITION       \n",
        "print(Player.MAX_POSITION)\n",
        "\n",
        "# Create a player p and print its MAX_POSITITON\n",
        "p = Player()\n",
        "print(p.MAX_POSITION)"
      ],
      "metadata": {
        "colab": {
          "base_uri": "https://localhost:8080/"
        },
        "id": "VBdNrQMl_VCT",
        "outputId": "413e0559-a440-4dcd-be88-1affea04579e"
      },
      "execution_count": 48,
      "outputs": [
        {
          "output_type": "stream",
          "name": "stdout",
          "text": [
            "10\n",
            "10\n"
          ]
        }
      ]
    },
    {
      "cell_type": "code",
      "source": [
        "p.draw()"
      ],
      "metadata": {
        "colab": {
          "base_uri": "https://localhost:8080/"
        },
        "id": "b6VLJPvw_XRu",
        "outputId": "ca738920-93da-4cff-ee5e-bd52d2c95d9e"
      },
      "execution_count": 49,
      "outputs": [
        {
          "output_type": "stream",
          "name": "stdout",
          "text": [
            "|----------\n"
          ]
        }
      ]
    },
    {
      "cell_type": "code",
      "source": [
        "p.move(4)\n",
        "p.draw()"
      ],
      "metadata": {
        "colab": {
          "base_uri": "https://localhost:8080/"
        },
        "id": "V2jj1K2T_iFD",
        "outputId": "4cbd405d-4432-464b-83b1-c04dde60306a"
      },
      "execution_count": 50,
      "outputs": [
        {
          "output_type": "stream",
          "name": "stdout",
          "text": [
            "----|------\n"
          ]
        }
      ]
    },
    {
      "cell_type": "code",
      "source": [
        "p.move(1)\n",
        "p.draw()"
      ],
      "metadata": {
        "colab": {
          "base_uri": "https://localhost:8080/"
        },
        "id": "OGFGNZDh_mbq",
        "outputId": "7ec6cdd6-9f4b-481f-c3ab-6e01525354c1"
      },
      "execution_count": 51,
      "outputs": [
        {
          "output_type": "stream",
          "name": "stdout",
          "text": [
            "-----|-----\n"
          ]
        }
      ]
    },
    {
      "cell_type": "code",
      "source": [
        "p.move(4)\n",
        "p.draw()"
      ],
      "metadata": {
        "colab": {
          "base_uri": "https://localhost:8080/"
        },
        "id": "e54Tr_EB_pc4",
        "outputId": "76da911c-bd4f-4903-9d82-209cc15290e1"
      },
      "execution_count": 52,
      "outputs": [
        {
          "output_type": "stream",
          "name": "stdout",
          "text": [
            "---------|-\n"
          ]
        }
      ]
    },
    {
      "cell_type": "code",
      "source": [
        "p.move(3)\n",
        "p.draw()"
      ],
      "metadata": {
        "colab": {
          "base_uri": "https://localhost:8080/"
        },
        "id": "28Cd72CT_tcB",
        "outputId": "29ce0c18-0846-4f75-a0b5-3b040c902083"
      },
      "execution_count": 53,
      "outputs": [
        {
          "output_type": "stream",
          "name": "stdout",
          "text": [
            "----------|\n"
          ]
        }
      ]
    },
    {
      "cell_type": "markdown",
      "source": [
        "#### Changing class attributes"
      ],
      "metadata": {
        "id": "6X8cxKcGBl6R"
      }
    },
    {
      "cell_type": "code",
      "source": [
        "# Create Players p1 and p2\n",
        "p1 = Player()\n",
        "p2 = Player()\n",
        "\n",
        "print(\"MAX_SPEED of p1 and p2 before assignment:\")\n",
        "# Print p1.MAX_SPEED and p2.MAX_SPEED\n",
        "print(p1.MAX_SPEED)\n",
        "print(p2.MAX_SPEED)\n",
        "\n",
        "# Assign 7 to p1.MAX_SPEED\n",
        "p1.MAX_SPEED = 7\n",
        "\n",
        "print(\"MAX_SPEED of p1 and p2 after assignment:\")\n",
        "# Print p1.MAX_SPEED and p2.MAX_SPEED\n",
        "print(p1.MAX_SPEED)\n",
        "print(p2.MAX_SPEED)\n",
        "\n",
        "print(\"MAX_SPEED of Player:\")\n",
        "# Print Player.MAX_SPEED\n",
        "print(Player.MAX_SPEED)"
      ],
      "metadata": {
        "colab": {
          "base_uri": "https://localhost:8080/"
        },
        "id": "i1L3ItIeCNva",
        "outputId": "e2271f81-2a4f-4c21-c5f6-03a858fc43c5"
      },
      "execution_count": 54,
      "outputs": [
        {
          "output_type": "stream",
          "name": "stdout",
          "text": [
            "MAX_SPEED of p1 and p2 before assignment:\n",
            "3\n",
            "3\n",
            "MAX_SPEED of p1 and p2 after assignment:\n",
            "7\n",
            "3\n",
            "MAX_SPEED of Player:\n",
            "3\n"
          ]
        }
      ]
    },
    {
      "cell_type": "markdown",
      "source": [
        "##### What happened?\n",
        "\n",
        "Python created a new instance attribute in `p1`, also called it `MAX_SPEED`, and assigned `7` to it, without touching the class attribute."
      ],
      "metadata": {
        "id": "7eYNJZ8nC-Pt"
      }
    },
    {
      "cell_type": "code",
      "source": [
        "p1, p2 = Player(), Player()\n",
        "\n",
        "print(\"MAX_SPEED of p1 and p2 before assignment:\")\n",
        "print(p1.MAX_SPEED)\n",
        "print(p2.MAX_SPEED)\n",
        "\n",
        "# ---THIS LINE WAS MODIFIED--- \n",
        "Player.MAX_SPEED = 7\n",
        "\n",
        "print(\"MAX_SPEED of p1 and p2 after assignment:\")\n",
        "print(p1.MAX_SPEED)\n",
        "print(p2.MAX_SPEED)\n",
        "\n",
        "print(\"MAX_SPEED of Player:\")\n",
        "print(Player.MAX_SPEED)"
      ],
      "metadata": {
        "colab": {
          "base_uri": "https://localhost:8080/"
        },
        "id": "fG68e96lDcgh",
        "outputId": "4d6a22ee-2ba3-456b-f1da-3a3705805fb9"
      },
      "execution_count": 55,
      "outputs": [
        {
          "output_type": "stream",
          "name": "stdout",
          "text": [
            "MAX_SPEED of p1 and p2 before assignment:\n",
            "3\n",
            "3\n",
            "MAX_SPEED of p1 and p2 after assignment:\n",
            "7\n",
            "7\n",
            "MAX_SPEED of Player:\n",
            "7\n"
          ]
        }
      ]
    },
    {
      "cell_type": "markdown",
      "source": [
        "Not obvious, right? But it makes sense, when you think about it! You shouldn't be able to change the data in all the instances of the class through a single instance. Imagine if you could change the time on all the computers in the world by changing the time on your own computer! If you want to change the value of the class attribute at runtime, you need to do it by referring to the class name, not through an instance."
      ],
      "metadata": {
        "id": "qtQBXPF-Dx-n"
      }
    },
    {
      "cell_type": "markdown",
      "source": [
        "#### Alternative constructors"
      ],
      "metadata": {
        "id": "SLVfFKkPFxRE"
      }
    },
    {
      "cell_type": "code",
      "source": [
        "class BetterDate:    \n",
        "    # Constructor\n",
        "    def __init__(self, year, month, day):\n",
        "      # Recall that Python allows multiple variable assignments in one line\n",
        "      self.year, self.month, self.day = year, month, day\n",
        "    \n",
        "    # Define a class method from_str\n",
        "    @classmethod\n",
        "    def from_str(cls, datestr):\n",
        "        # Split the string at \"-\" and convert each part to integer\n",
        "        year, month, day = map(int, datestr.split(\"-\"))\n",
        "        # Return the class instance\n",
        "        return cls(year, month, day)\n",
        "\n",
        "    # Define a class method from_datetime accepting a datetime object\n",
        "    @classmethod\n",
        "    def from_datetime(cls, datetimeobj):\n",
        "        year, month, day = datetimeobj.year, datetimeobj.month, datetimeobj.day\n",
        "        return cls(year, month, day)"
      ],
      "metadata": {
        "id": "c3UTZ7e-F1bn"
      },
      "execution_count": 56,
      "outputs": []
    },
    {
      "cell_type": "code",
      "source": [
        "bd1 = BetterDate(2020, 4, 30)\n",
        "print(bd1.year, bd1.month, bd1.day)"
      ],
      "metadata": {
        "colab": {
          "base_uri": "https://localhost:8080/"
        },
        "id": "13CIGCeBF3mT",
        "outputId": "166d9328-3220-4603-fb1f-c0f7eaeac626"
      },
      "execution_count": 57,
      "outputs": [
        {
          "output_type": "stream",
          "name": "stdout",
          "text": [
            "2020 4 30\n"
          ]
        }
      ]
    },
    {
      "cell_type": "code",
      "source": [
        "bd2 = BetterDate.from_str('2020-04-30')\n",
        "print(bd2.year, bd2.month, bd2.day)"
      ],
      "metadata": {
        "colab": {
          "base_uri": "https://localhost:8080/"
        },
        "id": "qksJ47QEGEYv",
        "outputId": "17f93d47-1f32-44d0-c715-6702f0c614b4"
      },
      "execution_count": 58,
      "outputs": [
        {
          "output_type": "stream",
          "name": "stdout",
          "text": [
            "2020 4 30\n"
          ]
        }
      ]
    },
    {
      "cell_type": "code",
      "source": [
        "today = datetime.today()\n",
        "bd3 = BetterDate.from_datetime(today)\n",
        "print(bd3.year, bd3.month, bd3.day)"
      ],
      "metadata": {
        "colab": {
          "base_uri": "https://localhost:8080/"
        },
        "id": "Wfsq-5cmG-HK",
        "outputId": "cdbb7be9-8588-4804-d34c-2c4eff5d6405"
      },
      "execution_count": 59,
      "outputs": [
        {
          "output_type": "stream",
          "name": "stdout",
          "text": [
            "2023 1 5\n"
          ]
        }
      ]
    },
    {
      "cell_type": "markdown",
      "source": [
        "### Class inheritance\n",
        "\n",
        "- OOP is fundamentally about code reuse\n",
        "- Modules are great for fixed functionality\n",
        "- OOP is great for cutomizing functionality\n",
        "- You may find yourself writing the same code repeatedly"
      ],
      "metadata": {
        "id": "WemtW7tnJ5RG"
      }
    },
    {
      "cell_type": "markdown",
      "source": [
        "#### Inheritance\n",
        "\n",
        "- `New class functionality = Old class functionality + extra`\n",
        "- **Class inheritance** is a mechanisim by which we can define a new class that gets all the functionality of another class plus something extra\n",
        "    - without re-implementing the code"
      ],
      "metadata": {
        "id": "KeLj5cMFcII-"
      }
    },
    {
      "cell_type": "markdown",
      "source": [
        "##### Example\n",
        "\n",
        "- `BankAccount` class\n",
        "    1. `balance` attribute\n",
        "    2. `withdraw()` method\n",
        "- `SavingsAccount` class\n",
        "    1. has what a `BankAccount` class has, plus\n",
        "    2. `interest_rate` attribute\n",
        "    3. `compute_interest()` method\n",
        "- `ChequingAccount` class\n",
        "    1. has what a `BankAccount` class has, plus\n",
        "    2. `limit` attribute\n",
        "    3. `deposit()` method\n",
        "    4. the `withdraw()` class is a modified version of the same method in the `BankAccount` class, maybe it charges a fee for withdrawals\n",
        "\n",
        "It makes sense to reuse the code in the `BankAccount` class when create the `SavingsAccount` and `ChequingAccount` classes"
      ],
      "metadata": {
        "id": "lt4k9FCUdHA-"
      }
    },
    {
      "cell_type": "code",
      "source": [
        "class BankAccount:\n",
        "    def __init__(self, balance):\n",
        "        self.balance = balance\n",
        "\n",
        "    def withdraw(self, amount):\n",
        "        self.balance -= amount\n",
        "\n",
        "# Empty class inherited from BankAccount\n",
        "class SavingsAccount(BankAccount):\n",
        "    pass"
      ],
      "metadata": {
        "id": "Ot27J0D3gDO-"
      },
      "execution_count": 60,
      "outputs": []
    },
    {
      "cell_type": "markdown",
      "source": [
        "##### Child class\n",
        "\n",
        "- The child class has all of the parent data\n",
        "- This is because a `SavingsAccount` **is a** `BankAccount`\n",
        "    - Inheritance: \"is-a\" relationship"
      ],
      "metadata": {
        "id": "cK-pt4oxhh5k"
      }
    },
    {
      "cell_type": "code",
      "source": [
        "savAcc = SavingsAccount(1000)\n",
        "type(savAcc)"
      ],
      "metadata": {
        "colab": {
          "base_uri": "https://localhost:8080/"
        },
        "id": "M02cXWm7hr9a",
        "outputId": "d5326c4b-d22c-43a6-9125-3aa83bac8459"
      },
      "execution_count": 61,
      "outputs": [
        {
          "output_type": "execute_result",
          "data": {
            "text/plain": [
              "__main__.SavingsAccount"
            ]
          },
          "metadata": {},
          "execution_count": 61
        }
      ]
    },
    {
      "cell_type": "code",
      "source": [
        "print(savAcc.balance)\n",
        "savAcc.withdraw(100)\n",
        "print(savAcc.balance)"
      ],
      "metadata": {
        "colab": {
          "base_uri": "https://localhost:8080/"
        },
        "id": "SvY3VDwUh3Te",
        "outputId": "9b328b61-646e-44de-e3e9-a12403a604f0"
      },
      "execution_count": 62,
      "outputs": [
        {
          "output_type": "stream",
          "name": "stdout",
          "text": [
            "1000\n",
            "900\n"
          ]
        }
      ]
    },
    {
      "cell_type": "markdown",
      "source": [
        "##### Inheritance: \"is-a\" relationship"
      ],
      "metadata": {
        "id": "ZskMucLHjfF6"
      }
    },
    {
      "cell_type": "code",
      "source": [
        "isinstance(savAcc, SavingsAccount), isinstance(savAcc, BankAccount)"
      ],
      "metadata": {
        "colab": {
          "base_uri": "https://localhost:8080/"
        },
        "id": "tRlAwxJnjAil",
        "outputId": "71ed3b02-13a2-4594-c4a0-3da3a673e89d"
      },
      "execution_count": 63,
      "outputs": [
        {
          "output_type": "execute_result",
          "data": {
            "text/plain": [
              "(True, True)"
            ]
          },
          "metadata": {},
          "execution_count": 63
        }
      ]
    },
    {
      "cell_type": "code",
      "source": [
        "acc = BankAccount(100)\n",
        "type(acc)"
      ],
      "metadata": {
        "colab": {
          "base_uri": "https://localhost:8080/"
        },
        "id": "XPMb2LIojJ9f",
        "outputId": "765dd967-de2c-4ed0-a550-ea05ae9f0fda"
      },
      "execution_count": 64,
      "outputs": [
        {
          "output_type": "execute_result",
          "data": {
            "text/plain": [
              "__main__.BankAccount"
            ]
          },
          "metadata": {},
          "execution_count": 64
        }
      ]
    },
    {
      "cell_type": "code",
      "source": [
        "isinstance(acc, SavingsAccount), isinstance(acc, BankAccount)"
      ],
      "metadata": {
        "colab": {
          "base_uri": "https://localhost:8080/"
        },
        "id": "Ush04dvyjwmR",
        "outputId": "f0c841f9-9107-4c4b-9199-fa351da5bf87"
      },
      "execution_count": 65,
      "outputs": [
        {
          "output_type": "execute_result",
          "data": {
            "text/plain": [
              "(False, True)"
            ]
          },
          "metadata": {},
          "execution_count": 65
        }
      ]
    },
    {
      "cell_type": "markdown",
      "source": [
        "#### Understanding inheritance"
      ],
      "metadata": {
        "id": "Z0S6L_TRkCCa"
      }
    },
    {
      "cell_type": "code",
      "source": [
        "class Counter:\n",
        "    def __init__(self, count):\n",
        "        self.count = count\n",
        "\n",
        "    def add_counts(self, n):\n",
        "        self.count += n\n",
        "\n",
        "class Indexer(Counter):\n",
        "    pass"
      ],
      "metadata": {
        "id": "CCCOLfksgWvj"
      },
      "execution_count": 66,
      "outputs": []
    },
    {
      "cell_type": "code",
      "source": [
        "ind = Indexer(10)"
      ],
      "metadata": {
        "id": "QnM5wtVrgl6u"
      },
      "execution_count": 67,
      "outputs": []
    },
    {
      "cell_type": "code",
      "source": [
        "ind.count"
      ],
      "metadata": {
        "colab": {
          "base_uri": "https://localhost:8080/"
        },
        "id": "lB3TBh02gpRS",
        "outputId": "fb776c00-11af-4288-a3f5-f902158089fb"
      },
      "execution_count": 68,
      "outputs": [
        {
          "output_type": "execute_result",
          "data": {
            "text/plain": [
              "10"
            ]
          },
          "metadata": {},
          "execution_count": 68
        }
      ]
    },
    {
      "cell_type": "code",
      "source": [
        "ind.add_counts(5)\n",
        "ind.count"
      ],
      "metadata": {
        "colab": {
          "base_uri": "https://localhost:8080/"
        },
        "id": "3ei6e_2ygu1X",
        "outputId": "90eecc62-2f3a-4747-a2eb-89d80cee3f5b"
      },
      "execution_count": 69,
      "outputs": [
        {
          "output_type": "execute_result",
          "data": {
            "text/plain": [
              "15"
            ]
          },
          "metadata": {},
          "execution_count": 69
        }
      ]
    },
    {
      "cell_type": "markdown",
      "source": [
        "#### Create a subclass"
      ],
      "metadata": {
        "id": "FEIlhiMZicFY"
      }
    },
    {
      "cell_type": "code",
      "source": [
        "class Employee:\n",
        "  MIN_SALARY = 30000    \n",
        "\n",
        "  def __init__(self, name, salary=MIN_SALARY):\n",
        "      self.name = name\n",
        "      if salary >= Employee.MIN_SALARY:\n",
        "        self.salary = salary\n",
        "      else:\n",
        "        self.salary = Employee.MIN_SALARY\n",
        "        \n",
        "  def give_raise(self, amount):\n",
        "      self.salary += amount      "
      ],
      "metadata": {
        "id": "bpQ5WRN-ixEx"
      },
      "execution_count": 70,
      "outputs": []
    },
    {
      "cell_type": "code",
      "source": [
        "class Manager(Employee):\n",
        "    def display(self):\n",
        "        print(\"Manager \" + self.name)"
      ],
      "metadata": {
        "id": "5IjMZfwmi7eZ"
      },
      "execution_count": 71,
      "outputs": []
    },
    {
      "cell_type": "code",
      "source": [
        "mng = Manager(\"Debbie Lashko\", 86500)"
      ],
      "metadata": {
        "id": "mFGU4wzTjBOC"
      },
      "execution_count": 72,
      "outputs": []
    },
    {
      "cell_type": "code",
      "source": [
        "mng.name, mng.salary"
      ],
      "metadata": {
        "colab": {
          "base_uri": "https://localhost:8080/"
        },
        "id": "eGWplDA6jLr5",
        "outputId": "17993afc-f40d-4454-d191-4c8c5cd12c52"
      },
      "execution_count": 73,
      "outputs": [
        {
          "output_type": "execute_result",
          "data": {
            "text/plain": [
              "('Debbie Lashko', 86500)"
            ]
          },
          "metadata": {},
          "execution_count": 73
        }
      ]
    },
    {
      "cell_type": "code",
      "source": [
        "mng.display()"
      ],
      "metadata": {
        "colab": {
          "base_uri": "https://localhost:8080/"
        },
        "id": "5posVOXmlcOO",
        "outputId": "16f195e9-338e-461e-81d1-973f8fddeb1d"
      },
      "execution_count": 74,
      "outputs": [
        {
          "output_type": "stream",
          "name": "stdout",
          "text": [
            "Manager Debbie Lashko\n"
          ]
        }
      ]
    },
    {
      "cell_type": "markdown",
      "source": [
        "### Customizing functionality via inheritance"
      ],
      "metadata": {
        "id": "WNAQokMvmE2G"
      }
    },
    {
      "cell_type": "code",
      "source": [
        "class BankAccount:\n",
        "    def __init__(self, balance):\n",
        "        self.balance = balance\n",
        "\n",
        "    def withdraw(self, amount):\n",
        "        self.balance -= amount\n",
        "\n",
        "# Empty class inherited from BankAccount\n",
        "class SavingsAccount(BankAccount):\n",
        "    # constructor specifically for SavingsAccount with additional parameter\n",
        "    def __init__(self, balance, interest_rate):\n",
        "        # call the parent constructor\n",
        "        BankAccount.__init__(self, balance)\n",
        "        # add more functionality\n",
        "        self.interest_rate = interest_rate\n",
        "\n",
        "    # new functionality\n",
        "    def compute_interest(self, n_periods = 1):\n",
        "        return self.balance * ((1 + self.interest_rate) ** n_periods - 1)"
      ],
      "metadata": {
        "id": "aNE5PsDRmpqE"
      },
      "execution_count": 75,
      "outputs": []
    },
    {
      "cell_type": "code",
      "source": [
        "sav = SavingsAccount(500, 0.03)\n",
        "sav.balance, sav.interest_rate"
      ],
      "metadata": {
        "colab": {
          "base_uri": "https://localhost:8080/"
        },
        "id": "wIEtPt6aoOVo",
        "outputId": "0a8064d7-b6c7-4d39-da07-9171101e4d71"
      },
      "execution_count": 76,
      "outputs": [
        {
          "output_type": "execute_result",
          "data": {
            "text/plain": [
              "(500, 0.03)"
            ]
          },
          "metadata": {},
          "execution_count": 76
        }
      ]
    },
    {
      "cell_type": "code",
      "source": [
        "sav.withdraw(50)\n",
        "sav.balance"
      ],
      "metadata": {
        "colab": {
          "base_uri": "https://localhost:8080/"
        },
        "id": "CUqyz8AVoZu6",
        "outputId": "5fb107d2-e084-4adc-b45a-26c0b46a83f5"
      },
      "execution_count": 77,
      "outputs": [
        {
          "output_type": "execute_result",
          "data": {
            "text/plain": [
              "450"
            ]
          },
          "metadata": {},
          "execution_count": 77
        }
      ]
    },
    {
      "cell_type": "code",
      "source": [
        "sav.compute_interest()"
      ],
      "metadata": {
        "colab": {
          "base_uri": "https://localhost:8080/"
        },
        "id": "k6iZvgoOpSrm",
        "outputId": "f0030b28-1dad-49c0-b537-a5e0bfe8723e"
      },
      "execution_count": 78,
      "outputs": [
        {
          "output_type": "execute_result",
          "data": {
            "text/plain": [
              "13.500000000000012"
            ]
          },
          "metadata": {},
          "execution_count": 78
        }
      ]
    },
    {
      "cell_type": "code",
      "source": [
        "sav.compute_interest(10)"
      ],
      "metadata": {
        "colab": {
          "base_uri": "https://localhost:8080/"
        },
        "id": "7G_3y-o1qdDo",
        "outputId": "b68a3432-617b-42d9-c63c-f94edeadf272"
      },
      "execution_count": 79,
      "outputs": [
        {
          "output_type": "execute_result",
          "data": {
            "text/plain": [
              "154.762370704855"
            ]
          },
          "metadata": {},
          "execution_count": 79
        }
      ]
    },
    {
      "cell_type": "code",
      "source": [
        "class CheckingAccount(BankAccount):\n",
        "    def __init__(self, balance, limit):\n",
        "        BankAccount.__init__(self, balance)\n",
        "        self.limit = limit \n",
        "    \n",
        "    def deposit(self, amount):\n",
        "        self.balance += amount\n",
        "\n",
        "    # we can change the signature of the parent withdraw method\n",
        "    # we use `Parent.method_name(self, args...) to call the parent method\n",
        "    def withdraw(self, amount, fee=0):\n",
        "        if fee <= self.limit:\n",
        "            BankAccount.withdraw(self, amount - fee)\n",
        "        else:\n",
        "            BankAccount.withdraw(self, amount - self.limit)"
      ],
      "metadata": {
        "id": "1XWJe8orrDUe"
      },
      "execution_count": 80,
      "outputs": []
    },
    {
      "cell_type": "code",
      "source": [
        "check_acct = CheckingAccount(1000, 25)\n",
        "reg_acct = BankAccount(1000)\n",
        "\n",
        "check_acct.balance, reg_acct.balance"
      ],
      "metadata": {
        "colab": {
          "base_uri": "https://localhost:8080/"
        },
        "id": "-YZ6rEWAtAmr",
        "outputId": "802d2173-8685-4370-c83c-70c8d559cf27"
      },
      "execution_count": 81,
      "outputs": [
        {
          "output_type": "execute_result",
          "data": {
            "text/plain": [
              "(1000, 1000)"
            ]
          },
          "metadata": {},
          "execution_count": 81
        }
      ]
    },
    {
      "cell_type": "code",
      "source": [
        "check_acct.withdraw(100)\n",
        "reg_acct.withdraw(100)\n",
        "\n",
        "# note that the interface of the call is the same\n",
        "# - but the actual method is determined by the \n",
        "#   instance class\n",
        "#    - this is an application of polymorphism\n",
        "check_acct.balance, reg_acct.balance"
      ],
      "metadata": {
        "colab": {
          "base_uri": "https://localhost:8080/"
        },
        "id": "JC4g8Us4tMiq",
        "outputId": "90edfde9-629f-43ed-d24b-52a44d3bb756"
      },
      "execution_count": 82,
      "outputs": [
        {
          "output_type": "execute_result",
          "data": {
            "text/plain": [
              "(900, 900)"
            ]
          },
          "metadata": {},
          "execution_count": 82
        }
      ]
    },
    {
      "cell_type": "code",
      "source": [
        "check_acct.withdraw(100, fee=10)\n",
        "check_acct.balance"
      ],
      "metadata": {
        "colab": {
          "base_uri": "https://localhost:8080/"
        },
        "id": "35NY0UIRu1Yk",
        "outputId": "70af85f7-1c05-4241-c23f-47951a39f271"
      },
      "execution_count": 83,
      "outputs": [
        {
          "output_type": "execute_result",
          "data": {
            "text/plain": [
              "810"
            ]
          },
          "metadata": {},
          "execution_count": 83
        }
      ]
    },
    {
      "cell_type": "code",
      "source": [
        "# error\n",
        "# reg_acct.withdraw(100, fee=10)"
      ],
      "metadata": {
        "id": "7D606ofxvEPS"
      },
      "execution_count": 84,
      "outputs": []
    },
    {
      "cell_type": "markdown",
      "source": [
        "#### Method inheritance"
      ],
      "metadata": {
        "id": "-QPsh1uKvU4P"
      }
    },
    {
      "cell_type": "markdown",
      "source": [
        "Add a constructor to Manager that:\n",
        "\n",
        "- accepts `name`, `salary` (default `50000`), and project (default `None`)\n",
        "- calls the constructor of the `Employee` class with the `name` and `salary` parameters,\n",
        "- creates a project attribute and sets it to the project parameter."
      ],
      "metadata": {
        "id": "sgVD5A_YuOAH"
      }
    },
    {
      "cell_type": "code",
      "source": [
        "class Employee:\n",
        "    def __init__(self, name, salary=30000):\n",
        "        self.name = name\n",
        "        self.salary = salary\n",
        "\n",
        "    def give_raise(self, amount):\n",
        "        self.salary += amount\n",
        "\n",
        "        \n",
        "class Manager(Employee):\n",
        "  # Add a constructor \n",
        "    def __init__(self, name, salary=50000, project=None):\n",
        "\n",
        "        # Call the parent's constructor   \n",
        "        Employee.__init__(self, name, salary)\n",
        "\n",
        "        # Assign project attribute\n",
        "        self.project = project  \n",
        "\n",
        "  \n",
        "    def display(self):\n",
        "        print(\"Manager \", self.name)"
      ],
      "metadata": {
        "id": "bf3H8GYVuJe-"
      },
      "execution_count": 85,
      "outputs": []
    },
    {
      "cell_type": "code",
      "source": [
        "mngr = Manager(\"Paul\", 100_000)\n",
        "mngr.display()"
      ],
      "metadata": {
        "colab": {
          "base_uri": "https://localhost:8080/"
        },
        "id": "NvDOBavoudmR",
        "outputId": "2bce82ef-7164-4959-f418-451cd972f356"
      },
      "execution_count": 86,
      "outputs": [
        {
          "output_type": "stream",
          "name": "stdout",
          "text": [
            "Manager  Paul\n"
          ]
        }
      ]
    },
    {
      "cell_type": "markdown",
      "source": [
        "#### Inheritance of class attributes"
      ],
      "metadata": {
        "id": "0nhH_8lCw7RW"
      }
    },
    {
      "cell_type": "code",
      "source": [
        "class Player:\n",
        "\n",
        "    MAX_POSITION = 10\n",
        "    MAX_SPEED = 3\n",
        "\n",
        "    def __init__(self):\n",
        "        self.position = 0\n",
        "\n",
        "    # Add a move() method with steps parameter\n",
        "    def move(self, steps):\n",
        "        if self.position + steps < Player.MAX_POSITION:\n",
        "            self.position += steps\n",
        "        else:\n",
        "            self.position = Player.MAX_POSITION\n",
        "\n",
        "    # This method provides a rudimentary visualization in the console    \n",
        "    def draw(self):\n",
        "        drawing = \"-\" * self.position + \"|\" +\"-\"*(Player.MAX_POSITION - self.position)\n",
        "        print(drawing)"
      ],
      "metadata": {
        "id": "VeGe8pQBw_PX"
      },
      "execution_count": 87,
      "outputs": []
    },
    {
      "cell_type": "code",
      "source": [
        "# Create a Racer class and set MAX_SPEED to 5\n",
        "class Racer(Player):\n",
        "    \n",
        "    MAX_SPEED = 5\n",
        " \n",
        "# Create a Player and a Racer objects\n",
        "p = Player()\n",
        "r = Racer()\n",
        "\n",
        "print(\"p.MAX_SPEED = \", p.MAX_SPEED)\n",
        "print(\"r.MAX_SPEED = \", r.MAX_SPEED)\n",
        "\n",
        "print(\"p.MAX_POSITION = \", p.MAX_POSITION)\n",
        "print(\"r.MAX_POSITION = \", r.MAX_POSITION)"
      ],
      "metadata": {
        "colab": {
          "base_uri": "https://localhost:8080/"
        },
        "id": "A-RF8A_0xDv4",
        "outputId": "3170ffaa-fd52-470f-f5f9-d571531b1cdd"
      },
      "execution_count": 88,
      "outputs": [
        {
          "output_type": "stream",
          "name": "stdout",
          "text": [
            "p.MAX_SPEED =  3\n",
            "r.MAX_SPEED =  5\n",
            "p.MAX_POSITION =  10\n",
            "r.MAX_POSITION =  10\n"
          ]
        }
      ]
    },
    {
      "cell_type": "code",
      "source": [
        "p.position, r.position"
      ],
      "metadata": {
        "colab": {
          "base_uri": "https://localhost:8080/"
        },
        "id": "RDZme4fN0NbT",
        "outputId": "c29fa971-5262-4f3c-bfe5-48a1cab469a0"
      },
      "execution_count": 89,
      "outputs": [
        {
          "output_type": "execute_result",
          "data": {
            "text/plain": [
              "(0, 0)"
            ]
          },
          "metadata": {},
          "execution_count": 89
        }
      ]
    },
    {
      "cell_type": "markdown",
      "source": [
        "#### Customizing a DataFrame"
      ],
      "metadata": {
        "id": "FcM3gBZf0gN3"
      }
    },
    {
      "cell_type": "code",
      "source": [
        "# Import pandas as pd\n",
        "import pandas as pd\n",
        "\n",
        "# Define LoggedDF inherited from pd.DataFrame and add the constructor\n",
        "class LoggedDF(pd.DataFrame):\n",
        "    def __init__(self, *args, **kwargs):\n",
        "        pd.DataFrame.__init__(self, *args, **kwargs)\n",
        "        self.created_at = datetime.today()\n",
        "\n",
        "    def to_csv(self, *args, **kwargs):\n",
        "        # copy self to a temporary DataFrame\n",
        "        temp = self.copy()\n",
        "        \n",
        "        temp['created_at'] = self.created_at\n",
        "\n",
        "        return temp.to_csv(*args, **kwargs)\n",
        "    \n",
        "    \n",
        "ldf = LoggedDF({\"col1\": [1,2], \"col2\": [3,4]})\n",
        "print(ldf.values)\n",
        "print(ldf.created_at)"
      ],
      "metadata": {
        "colab": {
          "base_uri": "https://localhost:8080/"
        },
        "id": "0ZbCiMmD1wcR",
        "outputId": "cc0d6823-80a1-4ece-c2a7-eda08fea1e09"
      },
      "execution_count": 90,
      "outputs": [
        {
          "output_type": "stream",
          "name": "stdout",
          "text": [
            "[[1 3]\n",
            " [2 4]]\n",
            "2023-01-05 04:07:05.841252\n"
          ]
        }
      ]
    },
    {
      "cell_type": "code",
      "source": [
        "ldf"
      ],
      "metadata": {
        "colab": {
          "base_uri": "https://localhost:8080/",
          "height": 112
        },
        "id": "yEjEUQPL10vi",
        "outputId": "a4a74449-f2df-4e98-a9de-e85ba2ee58ae"
      },
      "execution_count": 91,
      "outputs": [
        {
          "output_type": "execute_result",
          "data": {
            "text/plain": [
              "   col1  col2\n",
              "0     1     3\n",
              "1     2     4"
            ],
            "text/html": [
              "\n",
              "  <div id=\"df-2ea4955e-4e95-444f-8c13-653566f29f1c\">\n",
              "    <div class=\"colab-df-container\">\n",
              "      <div>\n",
              "<style scoped>\n",
              "    .dataframe tbody tr th:only-of-type {\n",
              "        vertical-align: middle;\n",
              "    }\n",
              "\n",
              "    .dataframe tbody tr th {\n",
              "        vertical-align: top;\n",
              "    }\n",
              "\n",
              "    .dataframe thead th {\n",
              "        text-align: right;\n",
              "    }\n",
              "</style>\n",
              "<table border=\"1\" class=\"dataframe\">\n",
              "  <thead>\n",
              "    <tr style=\"text-align: right;\">\n",
              "      <th></th>\n",
              "      <th>col1</th>\n",
              "      <th>col2</th>\n",
              "    </tr>\n",
              "  </thead>\n",
              "  <tbody>\n",
              "    <tr>\n",
              "      <th>0</th>\n",
              "      <td>1</td>\n",
              "      <td>3</td>\n",
              "    </tr>\n",
              "    <tr>\n",
              "      <th>1</th>\n",
              "      <td>2</td>\n",
              "      <td>4</td>\n",
              "    </tr>\n",
              "  </tbody>\n",
              "</table>\n",
              "</div>\n",
              "      <button class=\"colab-df-convert\" onclick=\"convertToInteractive('df-2ea4955e-4e95-444f-8c13-653566f29f1c')\"\n",
              "              title=\"Convert this dataframe to an interactive table.\"\n",
              "              style=\"display:none;\">\n",
              "        \n",
              "  <svg xmlns=\"http://www.w3.org/2000/svg\" height=\"24px\"viewBox=\"0 0 24 24\"\n",
              "       width=\"24px\">\n",
              "    <path d=\"M0 0h24v24H0V0z\" fill=\"none\"/>\n",
              "    <path d=\"M18.56 5.44l.94 2.06.94-2.06 2.06-.94-2.06-.94-.94-2.06-.94 2.06-2.06.94zm-11 1L8.5 8.5l.94-2.06 2.06-.94-2.06-.94L8.5 2.5l-.94 2.06-2.06.94zm10 10l.94 2.06.94-2.06 2.06-.94-2.06-.94-.94-2.06-.94 2.06-2.06.94z\"/><path d=\"M17.41 7.96l-1.37-1.37c-.4-.4-.92-.59-1.43-.59-.52 0-1.04.2-1.43.59L10.3 9.45l-7.72 7.72c-.78.78-.78 2.05 0 2.83L4 21.41c.39.39.9.59 1.41.59.51 0 1.02-.2 1.41-.59l7.78-7.78 2.81-2.81c.8-.78.8-2.07 0-2.86zM5.41 20L4 18.59l7.72-7.72 1.47 1.35L5.41 20z\"/>\n",
              "  </svg>\n",
              "      </button>\n",
              "      \n",
              "  <style>\n",
              "    .colab-df-container {\n",
              "      display:flex;\n",
              "      flex-wrap:wrap;\n",
              "      gap: 12px;\n",
              "    }\n",
              "\n",
              "    .colab-df-convert {\n",
              "      background-color: #E8F0FE;\n",
              "      border: none;\n",
              "      border-radius: 50%;\n",
              "      cursor: pointer;\n",
              "      display: none;\n",
              "      fill: #1967D2;\n",
              "      height: 32px;\n",
              "      padding: 0 0 0 0;\n",
              "      width: 32px;\n",
              "    }\n",
              "\n",
              "    .colab-df-convert:hover {\n",
              "      background-color: #E2EBFA;\n",
              "      box-shadow: 0px 1px 2px rgba(60, 64, 67, 0.3), 0px 1px 3px 1px rgba(60, 64, 67, 0.15);\n",
              "      fill: #174EA6;\n",
              "    }\n",
              "\n",
              "    [theme=dark] .colab-df-convert {\n",
              "      background-color: #3B4455;\n",
              "      fill: #D2E3FC;\n",
              "    }\n",
              "\n",
              "    [theme=dark] .colab-df-convert:hover {\n",
              "      background-color: #434B5C;\n",
              "      box-shadow: 0px 1px 3px 1px rgba(0, 0, 0, 0.15);\n",
              "      filter: drop-shadow(0px 1px 2px rgba(0, 0, 0, 0.3));\n",
              "      fill: #FFFFFF;\n",
              "    }\n",
              "  </style>\n",
              "\n",
              "      <script>\n",
              "        const buttonEl =\n",
              "          document.querySelector('#df-2ea4955e-4e95-444f-8c13-653566f29f1c button.colab-df-convert');\n",
              "        buttonEl.style.display =\n",
              "          google.colab.kernel.accessAllowed ? 'block' : 'none';\n",
              "\n",
              "        async function convertToInteractive(key) {\n",
              "          const element = document.querySelector('#df-2ea4955e-4e95-444f-8c13-653566f29f1c');\n",
              "          const dataTable =\n",
              "            await google.colab.kernel.invokeFunction('convertToInteractive',\n",
              "                                                     [key], {});\n",
              "          if (!dataTable) return;\n",
              "\n",
              "          const docLinkHtml = 'Like what you see? Visit the ' +\n",
              "            '<a target=\"_blank\" href=https://colab.research.google.com/notebooks/data_table.ipynb>data table notebook</a>'\n",
              "            + ' to learn more about interactive tables.';\n",
              "          element.innerHTML = '';\n",
              "          dataTable['output_type'] = 'display_data';\n",
              "          await google.colab.output.renderOutput(dataTable, element);\n",
              "          const docLink = document.createElement('div');\n",
              "          docLink.innerHTML = docLinkHtml;\n",
              "          element.appendChild(docLink);\n",
              "        }\n",
              "      </script>\n",
              "    </div>\n",
              "  </div>\n",
              "  "
            ]
          },
          "metadata": {},
          "execution_count": 91
        }
      ]
    },
    {
      "cell_type": "code",
      "source": [
        "csv_data = ldf.to_csv()"
      ],
      "metadata": {
        "id": "SwEBbwX53H4s"
      },
      "execution_count": 92,
      "outputs": []
    },
    {
      "cell_type": "code",
      "source": [
        "print(csv_data)"
      ],
      "metadata": {
        "colab": {
          "base_uri": "https://localhost:8080/"
        },
        "id": "u12HLSEM5fNh",
        "outputId": "f2e0f3e8-3746-4aeb-df9c-4e501313cdcb"
      },
      "execution_count": 93,
      "outputs": [
        {
          "output_type": "stream",
          "name": "stdout",
          "text": [
            ",col1,col2,created_at\n",
            "0,1,3,2023-01-05 04:07:05.841252\n",
            "1,2,4,2023-01-05 04:07:05.841252\n",
            "\n"
          ]
        }
      ]
    },
    {
      "cell_type": "markdown",
      "source": [
        "## Integrating with Standard Python"
      ],
      "metadata": {
        "id": "ItVb4hgk6v1P"
      }
    },
    {
      "cell_type": "markdown",
      "source": [
        "### Operator overloading: comparison"
      ],
      "metadata": {
        "id": "-JyIWhQ265WG"
      }
    },
    {
      "cell_type": "markdown",
      "source": [
        "#### Object equality"
      ],
      "metadata": {
        "id": "0IgHyjd77jVH"
      }
    },
    {
      "cell_type": "code",
      "source": [
        "# `id` uniquely identifies a customer\n",
        "class Customer:\n",
        "    def __init__(self, name, balance, id):\n",
        "        self.name, self.balance = name, balance\n",
        "        self.id = id\n",
        "\n",
        "customer1 = Customer(\"Maryam Azar\", 3000, 123)\n",
        "customer2 = Customer(\"Maryam Azar\", 3000, 123)"
      ],
      "metadata": {
        "id": "vok3tdXz7oBU"
      },
      "execution_count": 94,
      "outputs": []
    },
    {
      "cell_type": "code",
      "source": [
        "customer1 == customer2"
      ],
      "metadata": {
        "colab": {
          "base_uri": "https://localhost:8080/"
        },
        "id": "ERJMyPWR75MA",
        "outputId": "78b25dea-892c-4902-d301-b48a8af4b929"
      },
      "execution_count": 95,
      "outputs": [
        {
          "output_type": "execute_result",
          "data": {
            "text/plain": [
              "False"
            ]
          },
          "metadata": {},
          "execution_count": 95
        }
      ]
    },
    {
      "cell_type": "code",
      "source": [
        "# - these are distinct objects storted in 2 separate locations\n",
        "# - these variables, `customer1` and `customer2` contain\n",
        "#   references to the memory chunks where they are stored\n",
        "customer1, customer2"
      ],
      "metadata": {
        "colab": {
          "base_uri": "https://localhost:8080/"
        },
        "id": "RqfgN96c8vds",
        "outputId": "732a2a71-7214-43c2-e921-b21ef5607b0f"
      },
      "execution_count": 96,
      "outputs": [
        {
          "output_type": "execute_result",
          "data": {
            "text/plain": [
              "(<__main__.Customer at 0x7f0f891d15b0>, <__main__.Customer at 0x7f0f891d1610>)"
            ]
          },
          "metadata": {},
          "execution_count": 96
        }
      ]
    },
    {
      "cell_type": "code",
      "source": [
        "array1 = np.array([1, 2, 3])\n",
        "array2 = np.array([1, 2, 3])\n",
        "\n",
        "array1, array2"
      ],
      "metadata": {
        "colab": {
          "base_uri": "https://localhost:8080/"
        },
        "id": "9Q95S_Op-N0j",
        "outputId": "68047cb2-fc3b-4fa8-bd5f-ae5fcab1b5d0"
      },
      "execution_count": 97,
      "outputs": [
        {
          "output_type": "execute_result",
          "data": {
            "text/plain": [
              "(array([1, 2, 3]), array([1, 2, 3]))"
            ]
          },
          "metadata": {},
          "execution_count": 97
        }
      ]
    },
    {
      "cell_type": "code",
      "source": [
        "array1 == array2 # compared using their data, not references"
      ],
      "metadata": {
        "colab": {
          "base_uri": "https://localhost:8080/"
        },
        "id": "XuB1maxI-Wmw",
        "outputId": "546dc6fc-89b7-42cf-ae34-b7a089487fdc"
      },
      "execution_count": 98,
      "outputs": [
        {
          "output_type": "execute_result",
          "data": {
            "text/plain": [
              "array([ True,  True,  True])"
            ]
          },
          "metadata": {},
          "execution_count": 98
        }
      ]
    },
    {
      "cell_type": "markdown",
      "source": [
        "#### Overloading `__eq__()`"
      ],
      "metadata": {
        "id": "b_Lxlcxv-moj"
      }
    },
    {
      "cell_type": "code",
      "source": [
        "class Customer:\n",
        "    def __init__(self, id, name):\n",
        "        self.id, self.name = id, name \n",
        "\n",
        "    # will be called when `==` is used\n",
        "    def __eq__(self, other):\n",
        "        # diagnostic printout\n",
        "        print(\"__eq__() is called\")\n",
        "\n",
        "        return (self.id == other.id) and \\\n",
        "         (self.name == other.name)"
      ],
      "metadata": {
        "id": "8YbmhLF5-r7R"
      },
      "execution_count": 99,
      "outputs": []
    },
    {
      "cell_type": "code",
      "source": [
        "customer1 = Customer(123, \"Maryan Azar\")\n",
        "customer2 = Customer(123, \"Maryan Azar\")\n",
        "\n",
        "customer1 == customer2"
      ],
      "metadata": {
        "colab": {
          "base_uri": "https://localhost:8080/"
        },
        "id": "v5-A8J7XAUNH",
        "outputId": "142062d8-3f35-49e2-fbed-1dcae3c298c3"
      },
      "execution_count": 100,
      "outputs": [
        {
          "output_type": "stream",
          "name": "stdout",
          "text": [
            "__eq__() is called\n"
          ]
        },
        {
          "output_type": "execute_result",
          "data": {
            "text/plain": [
              "True"
            ]
          },
          "metadata": {},
          "execution_count": 100
        }
      ]
    },
    {
      "cell_type": "code",
      "source": [
        "customer1 = Customer(123, \"Maryan Azar\")\n",
        "customer2 = Customer(456, \"Maryan Azar\")\n",
        "\n",
        "customer1 == customer2"
      ],
      "metadata": {
        "colab": {
          "base_uri": "https://localhost:8080/"
        },
        "id": "saGSXZviAtgM",
        "outputId": "d0dc05d5-fedb-4dba-cb71-143af6722ad8"
      },
      "execution_count": 101,
      "outputs": [
        {
          "output_type": "stream",
          "name": "stdout",
          "text": [
            "__eq__() is called\n"
          ]
        },
        {
          "output_type": "execute_result",
          "data": {
            "text/plain": [
              "False"
            ]
          },
          "metadata": {},
          "execution_count": 101
        }
      ]
    },
    {
      "cell_type": "markdown",
      "source": [
        "#### Other comparison operators\n",
        "\n",
        "- `==`: `__eq__()`\n",
        "- `!=`: `__ne__()`\n",
        "- `>=`: `__ge__()`\n",
        "- `<=`: `__le__()`\n",
        "- `>`:  `__gt__()`\n",
        "- `<`:  `__lt__()`\n"
      ],
      "metadata": {
        "id": "lwMb6w7yBBQh"
      }
    },
    {
      "cell_type": "markdown",
      "source": [
        "#### `__hash__()`\n",
        "\n",
        "- to use objects as dictionary keys and in sets\n",
        "- it is beyond the scope of this course\n",
        "    - briefly:\n",
        "        - it should assign an integer to an object such that equal objects have equal hashes\n",
        "        - the object hash does not change throughout the object's lifetime"
      ],
      "metadata": {
        "id": "KLsdvt0GCFLK"
      }
    },
    {
      "cell_type": "markdown",
      "source": [
        "#### Overloading equality"
      ],
      "metadata": {
        "id": "x0kCyLkKDUrg"
      }
    },
    {
      "cell_type": "code",
      "source": [
        "class BankAccount:\n",
        "   # MODIFY to initialize a number attribute\n",
        "    def __init__(self, number, balance=0):\n",
        "        self.number = number\n",
        "        self.balance = balance\n",
        "      \n",
        "    def withdraw(self, amount):\n",
        "        self.balance -= amount \n",
        "    \n",
        "    # Define __eq__ that returns True if the number attributes are equal \n",
        "    def __eq__(self, other):\n",
        "        return self.number == other.number   \n",
        "\n",
        "# Create accounts and compare them       \n",
        "acct1 = BankAccount(123, 1000)\n",
        "acct2 = BankAccount(123, 1000)\n",
        "acct3 = BankAccount(456, 1000)\n",
        "print(acct1 == acct2)\n",
        "print(acct1 == acct3)"
      ],
      "metadata": {
        "colab": {
          "base_uri": "https://localhost:8080/"
        },
        "id": "NW_zK14BDbol",
        "outputId": "6e176622-56d8-4ef4-cb66-75923380eb63"
      },
      "execution_count": 102,
      "outputs": [
        {
          "output_type": "stream",
          "name": "stdout",
          "text": [
            "True\n",
            "False\n"
          ]
        }
      ]
    },
    {
      "cell_type": "markdown",
      "source": [
        "Notice that the `__eq__()` method compares just the account numbers, but not balances. What would happen if two accounts have the same account number but different balances? The code you wrote will treat these accounts as equal, but it might be better to throw an error - an `_exception_` - instead, informing the user that something is wrong. At the end of the chapter, you'll learn how to define your own exception classes to create these kinds of custom errors."
      ],
      "metadata": {
        "id": "D18ppAalDmT6"
      }
    },
    {
      "cell_type": "markdown",
      "source": [
        "#### Checking class equality\n",
        "\n",
        "- What is the objects are not from the same class?"
      ],
      "metadata": {
        "id": "owSpyJkSEkz1"
      }
    },
    {
      "cell_type": "code",
      "source": [
        "class BankAccount:\n",
        "    def __init__(self, number, balance=0):\n",
        "        self.number, self.balance = number, balance\n",
        "      \n",
        "    def withdraw(self, amount):\n",
        "        self.balance -= amount \n",
        "\n",
        "    # MODIFY to add a check for the type()\n",
        "    def __eq__(self, other):\n",
        "        return (self.number == other.number)"
      ],
      "metadata": {
        "id": "zDBqBCySEr4l"
      },
      "execution_count": 103,
      "outputs": []
    },
    {
      "cell_type": "code",
      "source": [
        "class Phone:\n",
        "    def __init__(self, number):\n",
        "        self.number = number"
      ],
      "metadata": {
        "id": "Qs6hTm4vEtfd"
      },
      "execution_count": 104,
      "outputs": []
    },
    {
      "cell_type": "code",
      "source": [
        "acct = BankAccount(8735553333)\n",
        "pn = Phone(8735553333)"
      ],
      "metadata": {
        "id": "oflomlYsE3p8"
      },
      "execution_count": 105,
      "outputs": []
    },
    {
      "cell_type": "code",
      "source": [
        "acct == pn "
      ],
      "metadata": {
        "colab": {
          "base_uri": "https://localhost:8080/"
        },
        "id": "VosPDx1cFDNW",
        "outputId": "f1da4433-f58c-4cbc-e986-c170f9d8b9f6"
      },
      "execution_count": 106,
      "outputs": [
        {
          "output_type": "execute_result",
          "data": {
            "text/plain": [
              "True"
            ]
          },
          "metadata": {},
          "execution_count": 106
        }
      ]
    },
    {
      "cell_type": "code",
      "source": [
        "pn == acct"
      ],
      "metadata": {
        "colab": {
          "base_uri": "https://localhost:8080/"
        },
        "id": "fl95WZrOFvXU",
        "outputId": "5da57b44-a066-4205-edb5-2ea6d58f6a00"
      },
      "execution_count": 107,
      "outputs": [
        {
          "output_type": "execute_result",
          "data": {
            "text/plain": [
              "True"
            ]
          },
          "metadata": {},
          "execution_count": 107
        }
      ]
    },
    {
      "cell_type": "markdown",
      "source": [
        "##### Modified version makes more sense"
      ],
      "metadata": {
        "id": "VWy0L4tKFJF3"
      }
    },
    {
      "cell_type": "code",
      "source": [
        "class BankAccount:\n",
        "    def __init__(self, number, balance=0):\n",
        "        self.number, self.balance = number, balance\n",
        "      \n",
        "    def withdraw(self, amount):\n",
        "        self.balance -= amount \n",
        "\n",
        "    # MODIFY to add a check for the type()\n",
        "    def __eq__(self, other):\n",
        "        return (self.number == other.number) and \\\n",
        "            (type(self) == type(other))"
      ],
      "metadata": {
        "id": "OEddtnSPFOUa"
      },
      "execution_count": 108,
      "outputs": []
    },
    {
      "cell_type": "code",
      "source": [
        "acct = BankAccount(8735553333)\n",
        "pn = Phone(8735553333)"
      ],
      "metadata": {
        "id": "x9rXhGWxFnr0"
      },
      "execution_count": 109,
      "outputs": []
    },
    {
      "cell_type": "code",
      "source": [
        "acct == pn"
      ],
      "metadata": {
        "colab": {
          "base_uri": "https://localhost:8080/"
        },
        "id": "5IZ0Z_l3FpD4",
        "outputId": "11407f8d-9e6b-4caa-b244-c7bb4b628f03"
      },
      "execution_count": 110,
      "outputs": [
        {
          "output_type": "execute_result",
          "data": {
            "text/plain": [
              "False"
            ]
          },
          "metadata": {},
          "execution_count": 110
        }
      ]
    },
    {
      "cell_type": "code",
      "source": [
        "pn == acct"
      ],
      "metadata": {
        "colab": {
          "base_uri": "https://localhost:8080/"
        },
        "id": "MwXlcnHDFrHw",
        "outputId": "5b45f1f3-ca73-4317-f3ea-60a84c8e4e25"
      },
      "execution_count": 111,
      "outputs": [
        {
          "output_type": "execute_result",
          "data": {
            "text/plain": [
              "False"
            ]
          },
          "metadata": {},
          "execution_count": 111
        }
      ]
    },
    {
      "cell_type": "markdown",
      "source": [
        "#### Comparison and inheritance"
      ],
      "metadata": {
        "id": "8g6SopMiGGi6"
      }
    }
  ]
}