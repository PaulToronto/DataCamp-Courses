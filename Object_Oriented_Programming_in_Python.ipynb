{
  "nbformat": 4,
  "nbformat_minor": 0,
  "metadata": {
    "colab": {
      "provenance": [],
      "toc_visible": true,
      "authorship_tag": "ABX9TyOg8gkPlFCU7UZa77R4SF1j",
      "include_colab_link": true
    },
    "kernelspec": {
      "name": "python3",
      "display_name": "Python 3"
    },
    "language_info": {
      "name": "python"
    }
  },
  "cells": [
    {
      "cell_type": "markdown",
      "metadata": {
        "id": "view-in-github",
        "colab_type": "text"
      },
      "source": [
        "<a href=\"https://colab.research.google.com/github/PaulToronto/DataCamp-Courses/blob/main/Object_Oriented_Programming_in_Python.ipynb\" target=\"_parent\"><img src=\"https://colab.research.google.com/assets/colab-badge.svg\" alt=\"Open In Colab\"/></a>"
      ]
    },
    {
      "cell_type": "markdown",
      "source": [
        "# Object-Oriented Programming in Python\n",
        "\n",
        "This notebook contains my notes from a DataCamp course:\n",
        "\n",
        "[Object-Oriented Programming in Python](https://app.datacamp.com/learn/courses/object-oriented-programming-in-python)"
      ],
      "metadata": {
        "id": "ow2gMfoXV6ai"
      }
    },
    {
      "cell_type": "markdown",
      "source": [
        "## OOP Fundamentals"
      ],
      "metadata": {
        "id": "2mcohzHDS1bn"
      }
    },
    {
      "cell_type": "markdown",
      "source": [
        "### What is OOP?\n",
        "\n",
        "- Procedural programming\n",
        "    - Code as a sequence of steps\n",
        "    - Great for data analysis\n",
        "- Object-oriented programming\n",
        "    - Code as interactions of objects\n",
        "    - Great for building frameworks and tools\n",
        "    - Maintainable and reusable code"
      ],
      "metadata": {
        "id": "WWa6faCdeOVI"
      }
    },
    {
      "cell_type": "markdown",
      "source": [
        "#### Objects as data structures\n",
        "\n",
        "- Objects incorportate \n",
        "    1. state\n",
        "    2. behaviour\n",
        "- **Encapsulation** \n",
        "    - bundles state and behaviour together"
      ],
      "metadata": {
        "id": "skH5ii9JfDtN"
      }
    },
    {
      "cell_type": "markdown",
      "source": [
        "#### Classes as blueprints\n",
        "\n",
        "- **Class**\n",
        "    - blueprint for objects outlining possible states and behaviour"
      ],
      "metadata": {
        "id": "WgZN8Owwfzpz"
      }
    },
    {
      "cell_type": "markdown",
      "source": [
        "#### Objects in Python\n",
        "\n",
        "- Everything in Python is an object\n",
        "- Every object has a class\n",
        "- Use `type()` to find the class"
      ],
      "metadata": {
        "id": "JawQ_oyBg6ev"
      }
    },
    {
      "cell_type": "code",
      "source": [
        "import numpy as np\n",
        "a = np.array([1, 2, 3, 4])\n",
        "type(a)"
      ],
      "metadata": {
        "colab": {
          "base_uri": "https://localhost:8080/"
        },
        "id": "Gh1pH1oChOop",
        "outputId": "5bc62454-120b-4ddb-9dd8-d80227177135"
      },
      "execution_count": 1,
      "outputs": [
        {
          "output_type": "execute_result",
          "data": {
            "text/plain": [
              "numpy.ndarray"
            ]
          },
          "metadata": {},
          "execution_count": 1
        }
      ]
    },
    {
      "cell_type": "markdown",
      "source": [
        "#### Attributes and methods\n",
        "\n",
        "- state information is contained in **attributes**\n",
        "- behaviour information is contained in **methods**"
      ],
      "metadata": {
        "id": "gEVMcI93hgPl"
      }
    },
    {
      "cell_type": "code",
      "source": [
        "# attribute\n",
        "a.shape"
      ],
      "metadata": {
        "colab": {
          "base_uri": "https://localhost:8080/"
        },
        "id": "9KhHW-cwiDJV",
        "outputId": "fed90d07-ee54-4948-8381-ecc1155ee548"
      },
      "execution_count": 2,
      "outputs": [
        {
          "output_type": "execute_result",
          "data": {
            "text/plain": [
              "(4,)"
            ]
          },
          "metadata": {},
          "execution_count": 2
        }
      ]
    },
    {
      "cell_type": "code",
      "source": [
        "# method\n",
        "a.reshape(2, 2)"
      ],
      "metadata": {
        "colab": {
          "base_uri": "https://localhost:8080/"
        },
        "id": "C02beGfAiTv4",
        "outputId": "74cc200a-659a-49b8-c31f-b8c4e557d1db"
      },
      "execution_count": 3,
      "outputs": [
        {
          "output_type": "execute_result",
          "data": {
            "text/plain": [
              "array([[1, 2],\n",
              "       [3, 4]])"
            ]
          },
          "metadata": {},
          "execution_count": 3
        }
      ]
    },
    {
      "cell_type": "markdown",
      "source": [
        "#### List all the attributes of an object"
      ],
      "metadata": {
        "id": "axnwPsf1ioXS"
      }
    },
    {
      "cell_type": "code",
      "source": [
        "# dir(a)"
      ],
      "metadata": {
        "id": "L82lwkENisf9"
      },
      "execution_count": 4,
      "outputs": []
    },
    {
      "cell_type": "markdown",
      "source": [
        "### Class anatomy: attributes and methods"
      ],
      "metadata": {
        "id": "H1WwvygAmHRM"
      }
    },
    {
      "cell_type": "markdown",
      "source": [
        "#### A basic class"
      ],
      "metadata": {
        "id": "a4-87EodmwBk"
      }
    },
    {
      "cell_type": "code",
      "source": [
        "# an empty class\n",
        "class Customer:\n",
        "    pass"
      ],
      "metadata": {
        "id": "ai9GBwYEmyvF"
      },
      "execution_count": 5,
      "outputs": []
    },
    {
      "cell_type": "code",
      "source": [
        "# we can already create objects of the calss\n",
        "c1 = Customer()\n",
        "c2 = Customer()"
      ],
      "metadata": {
        "id": "llsEUO10m3m4"
      },
      "execution_count": 6,
      "outputs": []
    },
    {
      "cell_type": "code",
      "source": [
        "type(c1)"
      ],
      "metadata": {
        "colab": {
          "base_uri": "https://localhost:8080/"
        },
        "id": "erSm0H13nCRG",
        "outputId": "1d02497d-c030-4027-9ec5-5f7f085772de"
      },
      "execution_count": 7,
      "outputs": [
        {
          "output_type": "execute_result",
          "data": {
            "text/plain": [
              "__main__.Customer"
            ]
          },
          "metadata": {},
          "execution_count": 7
        }
      ]
    },
    {
      "cell_type": "markdown",
      "source": [
        "#### A class with a method\n",
        "\n",
        "- a method defintion is a function definition within class\n",
        "- use `self` as the first argument in every method definition\n",
        "    - ignore `self` when calling the method"
      ],
      "metadata": {
        "id": "sM98DTBbnkMw"
      }
    },
    {
      "cell_type": "code",
      "source": [
        "class Customer:\n",
        "\n",
        "    def identify(self, name):\n",
        "        print(\"I am customer \" + name)"
      ],
      "metadata": {
        "id": "h9Axti0anmSo"
      },
      "execution_count": 8,
      "outputs": []
    },
    {
      "cell_type": "code",
      "source": [
        "c3 = Customer()\n",
        "type(c3)"
      ],
      "metadata": {
        "colab": {
          "base_uri": "https://localhost:8080/"
        },
        "id": "g_W6zAyZnxOk",
        "outputId": "9821a623-ed0d-4693-c962-d33192028e0a"
      },
      "execution_count": 9,
      "outputs": [
        {
          "output_type": "execute_result",
          "data": {
            "text/plain": [
              "__main__.Customer"
            ]
          },
          "metadata": {},
          "execution_count": 9
        }
      ]
    },
    {
      "cell_type": "code",
      "source": [
        "# ignore `self` when calling the method\n",
        "c3.identify('Paul')"
      ],
      "metadata": {
        "colab": {
          "base_uri": "https://localhost:8080/"
        },
        "id": "AmxnAne2n0Nk",
        "outputId": "5f1f557b-c7ca-495f-e93f-5758a59d62e3"
      },
      "execution_count": 10,
      "outputs": [
        {
          "output_type": "stream",
          "name": "stdout",
          "text": [
            "I am customer Paul\n"
          ]
        }
      ]
    },
    {
      "cell_type": "markdown",
      "source": [
        "#### What is `self`?\n",
        "\n",
        "- Classes are templates\n",
        "    - Objects of a class don't yet exist when a class is being defined\n",
        "    - but we often need a way to refer to the data of a particular object within a class definition\n",
        "        - that is the purpose of `self`: as a stand-in for the future object\n",
        "        - we can use `self` to access attributes and call other methods from within the class definition even when no objects exist yet\n",
        "        - Python will handle `self` when the method is called from an object using dot syntax\n",
        "            - In fact using **object-dot-method** is equivalent to passing that object as an argument \n",
        "            - that's whey we don't specify it explicitly when calling the method from an existing object\n",
        "            - `cust.identify(\"Paul\")` will be interpreted as `Customer.identify(cust, \"Paul\")`"
      ],
      "metadata": {
        "id": "rZPlZgDFqYvQ"
      }
    },
    {
      "cell_type": "markdown",
      "source": [
        "#### We need attributes\n",
        "\n",
        "- **Encapsulation**: bundling data with methods that operate on that data\n",
        "- **attributes** are created by assignment, `=`, in methods\n",
        "- we can access this attribute with dot syntax: `cust.name`"
      ],
      "metadata": {
        "id": "_1tBMYIBszqq"
      }
    },
    {
      "cell_type": "code",
      "source": [
        "class Customer:\n",
        "    # set the name attribute of an object\n",
        "    def set_name(self, new_name):\n",
        "        self.name = new_name \n",
        "        # will create `name` when set_name is called\n",
        "        #   `name` will not appear in the dir() list \n",
        "        #   until `set_name` is called"
      ],
      "metadata": {
        "id": "Nx7CRVFstS4w"
      },
      "execution_count": 11,
      "outputs": []
    },
    {
      "cell_type": "code",
      "source": [
        "c4 = Customer()"
      ],
      "metadata": {
        "id": "Qnu-mvXwtk5s"
      },
      "execution_count": 12,
      "outputs": []
    },
    {
      "cell_type": "code",
      "source": [
        "type(c4)"
      ],
      "metadata": {
        "colab": {
          "base_uri": "https://localhost:8080/"
        },
        "id": "brPsSHZztnO8",
        "outputId": "206b16b3-ba02-42c0-be33-01842650dbe7"
      },
      "execution_count": 13,
      "outputs": [
        {
          "output_type": "execute_result",
          "data": {
            "text/plain": [
              "__main__.Customer"
            ]
          },
          "metadata": {},
          "execution_count": 13
        }
      ]
    },
    {
      "cell_type": "code",
      "source": [
        "c4.set_name(\"Paul\")"
      ],
      "metadata": {
        "id": "55bYXspttpHE"
      },
      "execution_count": 14,
      "outputs": []
    },
    {
      "cell_type": "code",
      "source": [
        "c4.name"
      ],
      "metadata": {
        "colab": {
          "base_uri": "https://localhost:8080/",
          "height": 36
        },
        "id": "0ILt9O_ptuJ4",
        "outputId": "c14d6e58-6736-4041-9533-421cc543f96e"
      },
      "execution_count": 15,
      "outputs": [
        {
          "output_type": "execute_result",
          "data": {
            "text/plain": [
              "'Paul'"
            ],
            "application/vnd.google.colaboratory.intrinsic+json": {
              "type": "string"
            }
          },
          "metadata": {},
          "execution_count": 15
        }
      ]
    },
    {
      "cell_type": "code",
      "source": [
        "class Customer:\n",
        "    def set_name(self, new_name):\n",
        "        self.name = new_name\n",
        "\n",
        "    def identify(self):\n",
        "        print(\"I am customer \" + self.name)"
      ],
      "metadata": {
        "id": "qTYhhIccv0eo"
      },
      "execution_count": 16,
      "outputs": []
    },
    {
      "cell_type": "code",
      "source": [
        "c5 = Customer()\n",
        "\n",
        "c5.set_name(\"Paul\")\n",
        "c5.identify()"
      ],
      "metadata": {
        "colab": {
          "base_uri": "https://localhost:8080/"
        },
        "id": "O632m6-cwHfc",
        "outputId": "3989eabd-172a-4a30-9315-49a837d53888"
      },
      "execution_count": 17,
      "outputs": [
        {
          "output_type": "stream",
          "name": "stdout",
          "text": [
            "I am customer Paul\n"
          ]
        }
      ]
    },
    {
      "cell_type": "code",
      "source": [
        "c5.name = \"Carlos\""
      ],
      "metadata": {
        "id": "zb85lbtd1wEJ"
      },
      "execution_count": 18,
      "outputs": []
    },
    {
      "cell_type": "code",
      "source": [
        "c5.identify()"
      ],
      "metadata": {
        "colab": {
          "base_uri": "https://localhost:8080/"
        },
        "id": "uqRvAJOH1y1a",
        "outputId": "80d63966-f38c-4f2c-f21c-e3677d13bdee"
      },
      "execution_count": 19,
      "outputs": [
        {
          "output_type": "stream",
          "name": "stdout",
          "text": [
            "I am customer Carlos\n"
          ]
        }
      ]
    },
    {
      "cell_type": "code",
      "source": [
        "c6 = Customer()\n",
        "c6.name = \"Kim\""
      ],
      "metadata": {
        "id": "lk7_SLrk1-is"
      },
      "execution_count": 20,
      "outputs": []
    },
    {
      "cell_type": "code",
      "source": [
        "c6.identify()"
      ],
      "metadata": {
        "colab": {
          "base_uri": "https://localhost:8080/"
        },
        "id": "A-PVnrDY2Dtx",
        "outputId": "07d5eb67-d7ee-480c-e022-772d0878123d"
      },
      "execution_count": 21,
      "outputs": [
        {
          "output_type": "stream",
          "name": "stdout",
          "text": [
            "I am customer Kim\n"
          ]
        }
      ]
    },
    {
      "cell_type": "markdown",
      "source": [
        "#### Create your first class"
      ],
      "metadata": {
        "id": "Vt0f-BGC2esZ"
      }
    },
    {
      "cell_type": "code",
      "source": [
        "class Employee:\n",
        "    \n",
        "    def set_name(self, new_name):\n",
        "        self.name = new_name\n",
        "\n",
        "    def set_salary(self, new_salary):\n",
        "        self.salary = new_salary\n",
        "\n",
        "    def give_raise(self, amount):\n",
        "        self.salary += amount\n",
        "\n",
        "    def monthly_salary(self):\n",
        "        return self.salary / 12\n",
        "\n",
        "emp = Employee()\n",
        "emp.set_name('Korel Rossi')\n",
        "emp.set_salary(50000)\n",
        "\n",
        "print(emp.name, emp.salary)\n",
        "\n",
        "emp.salary += 1500\n",
        "\n",
        "print(emp.salary)\n",
        "print(emp.monthly_salary())"
      ],
      "metadata": {
        "colab": {
          "base_uri": "https://localhost:8080/"
        },
        "id": "GxG-1yuM2i2q",
        "outputId": "249e1d2b-0eaa-4170-817b-c38f631cd8ee"
      },
      "execution_count": 22,
      "outputs": [
        {
          "output_type": "stream",
          "name": "stdout",
          "text": [
            "Korel Rossi 50000\n",
            "51500\n",
            "4291.666666666667\n"
          ]
        }
      ]
    },
    {
      "cell_type": "markdown",
      "source": [
        "### Class anatomy: the `__init__` constructor"
      ],
      "metadata": {
        "id": "STl167cZ9bFO"
      }
    },
    {
      "cell_type": "markdown",
      "source": [
        "#### Constructor\n",
        "\n",
        "- Add data to object when creating it\n",
        "- **Constructor** `__init__` method is called every time an object is created\n",
        "- the `__init__` constructor is also a good place to set default values for attributes\n",
        "- it is a best practice to define all attributes in the constructor\n",
        "    - makes code more useable and maintainable"
      ],
      "metadata": {
        "id": "UWWbskcI-22i"
      }
    },
    {
      "cell_type": "code",
      "source": [
        "class Customer:\n",
        "    def __init__(self, name):\n",
        "        self.name = name\n",
        "        print(\"The __init__ method was called\")"
      ],
      "metadata": {
        "id": "SwYu8OKKBBzR"
      },
      "execution_count": 23,
      "outputs": []
    },
    {
      "cell_type": "code",
      "source": [
        "c7 = Customer('Paul')"
      ],
      "metadata": {
        "colab": {
          "base_uri": "https://localhost:8080/"
        },
        "id": "4sqMbIoxBN4y",
        "outputId": "a83e59c4-88c8-4abd-f20b-046ae9f619de"
      },
      "execution_count": 24,
      "outputs": [
        {
          "output_type": "stream",
          "name": "stdout",
          "text": [
            "The __init__ method was called\n"
          ]
        }
      ]
    },
    {
      "cell_type": "code",
      "source": [
        "c7.name"
      ],
      "metadata": {
        "colab": {
          "base_uri": "https://localhost:8080/",
          "height": 36
        },
        "id": "Gpj9PpR1Bi9T",
        "outputId": "63335946-41d7-44f2-f982-b4331173cf87"
      },
      "execution_count": 25,
      "outputs": [
        {
          "output_type": "execute_result",
          "data": {
            "text/plain": [
              "'Paul'"
            ],
            "application/vnd.google.colaboratory.intrinsic+json": {
              "type": "string"
            }
          },
          "metadata": {},
          "execution_count": 25
        }
      ]
    },
    {
      "cell_type": "code",
      "source": [
        "class Customer:\n",
        "    def __init__(self, name, salary):\n",
        "        self.name = name\n",
        "        self.salary = salary\n",
        "        print(\"The __init__ method was called\")"
      ],
      "metadata": {
        "id": "Clear_PxDqb6"
      },
      "execution_count": 26,
      "outputs": []
    },
    {
      "cell_type": "code",
      "source": [
        "c8 = Customer(\"Bobby\", 100000)"
      ],
      "metadata": {
        "colab": {
          "base_uri": "https://localhost:8080/"
        },
        "id": "b7MgAcmtECCP",
        "outputId": "7c1f4421-54e8-49c9-9b04-609b3bfe573c"
      },
      "execution_count": 27,
      "outputs": [
        {
          "output_type": "stream",
          "name": "stdout",
          "text": [
            "The __init__ method was called\n"
          ]
        }
      ]
    },
    {
      "cell_type": "code",
      "source": [
        "c8.name, c8.salary"
      ],
      "metadata": {
        "colab": {
          "base_uri": "https://localhost:8080/"
        },
        "id": "jPfkZy-JEevf",
        "outputId": "77db8592-c3b6-4c80-c730-52780e653292"
      },
      "execution_count": 28,
      "outputs": [
        {
          "output_type": "execute_result",
          "data": {
            "text/plain": [
              "('Bobby', 100000)"
            ]
          },
          "metadata": {},
          "execution_count": 28
        }
      ]
    },
    {
      "cell_type": "code",
      "source": [
        "# a __init__ constructor sets default value\n",
        "class Customer:\n",
        "    def __init__(self, name, balance=0):\n",
        "        self.name = name\n",
        "        self.balance = balance \n",
        "        print(\"The __init__ method was called\")"
      ],
      "metadata": {
        "id": "mP3jUlk4GMGE"
      },
      "execution_count": 29,
      "outputs": []
    },
    {
      "cell_type": "code",
      "source": [
        "c9 = Customer(\"Paul\")\n",
        "c9.name, c9.balance"
      ],
      "metadata": {
        "colab": {
          "base_uri": "https://localhost:8080/"
        },
        "id": "ZKy0cZyKHEZS",
        "outputId": "c602aad9-8e6f-4668-91fb-54bf53d7b17c"
      },
      "execution_count": 30,
      "outputs": [
        {
          "output_type": "stream",
          "name": "stdout",
          "text": [
            "The __init__ method was called\n"
          ]
        },
        {
          "output_type": "execute_result",
          "data": {
            "text/plain": [
              "('Paul', 0)"
            ]
          },
          "metadata": {},
          "execution_count": 30
        }
      ]
    },
    {
      "cell_type": "code",
      "source": [
        "c10 = Customer(\"Jane\", 100)\n",
        "c10.name, c10.balance"
      ],
      "metadata": {
        "colab": {
          "base_uri": "https://localhost:8080/"
        },
        "id": "Iwkt8_cDHJER",
        "outputId": "c30b0a2a-a32c-4b3b-8771-3938ad09fbbd"
      },
      "execution_count": 31,
      "outputs": [
        {
          "output_type": "stream",
          "name": "stdout",
          "text": [
            "The __init__ method was called\n"
          ]
        },
        {
          "output_type": "execute_result",
          "data": {
            "text/plain": [
              "('Jane', 100)"
            ]
          },
          "metadata": {},
          "execution_count": 31
        }
      ]
    },
    {
      "cell_type": "markdown",
      "source": [
        "#### Best Practices\n",
        "\n",
        "1. Initialize attributes in `__init__()`\n",
        "2. Naming\n",
        "    - `CamelCase` for classes\n",
        "    - `lower_snake_case` for functions and attributes\n",
        "3. Keep `self` as `self`\n",
        "    - the choice of `self` is only a convention, any other name can be used, but that would be confusing\n",
        "4. Use docstrings\n",
        "    - classes, like functions, allow for docstrings\n",
        "    - use them because they are displayed when `help()` is called on the object"
      ],
      "metadata": {
        "id": "zFmcirqTIQ_L"
      }
    },
    {
      "cell_type": "code",
      "source": [
        "class MyClass:\n",
        "    \"\"\"I am a docstring\"\"\"\n",
        "    pass"
      ],
      "metadata": {
        "id": "gaS3-TpCJhlb"
      },
      "execution_count": 32,
      "outputs": []
    },
    {
      "cell_type": "markdown",
      "source": [
        "#### Add a class constructor"
      ],
      "metadata": {
        "id": "c8J2NLK4LVXE"
      }
    },
    {
      "cell_type": "code",
      "source": [
        "from datetime import datetime\n",
        "\n",
        "class Employee:\n",
        "\n",
        "    def __init__(self, name, salary=0):\n",
        "        self.name = name\n",
        "        \n",
        "        if salary > 0:\n",
        "          self.salary = salary\n",
        "        else:\n",
        "          self.salary = 0\n",
        "          print(\"Invalid salary!\")\n",
        "          \n",
        "        self.hire_date = datetime.today()\n",
        "    \n",
        "    def give_raise(self, amount):\n",
        "        self.salary += amount\n",
        "\n",
        "    def monthly_salary(self):\n",
        "        return self.salary/12"
      ],
      "metadata": {
        "id": "Q4Mu3--wLYGO"
      },
      "execution_count": 33,
      "outputs": []
    },
    {
      "cell_type": "code",
      "source": [
        "emp = Employee(\"Korel Rossi\")\n",
        "print(emp.name, emp.salary, emp.hire_date)"
      ],
      "metadata": {
        "colab": {
          "base_uri": "https://localhost:8080/"
        },
        "id": "t-SQ1suxNGEz",
        "outputId": "5147cf35-11df-4651-f9c8-e6713a309058"
      },
      "execution_count": 34,
      "outputs": [
        {
          "output_type": "stream",
          "name": "stdout",
          "text": [
            "Invalid salary!\n",
            "Korel Rossi 0 2022-12-31 20:35:41.136682\n"
          ]
        }
      ]
    },
    {
      "cell_type": "code",
      "source": [
        "emp2 = Employee(\"Paul\", 100)\n",
        "print(emp2.name, emp2.salary, emp.hire_date)"
      ],
      "metadata": {
        "colab": {
          "base_uri": "https://localhost:8080/"
        },
        "id": "GEIB1-DINPtx",
        "outputId": "08fb1bfc-65f5-494d-be94-467e0cc3ff3f"
      },
      "execution_count": 35,
      "outputs": [
        {
          "output_type": "stream",
          "name": "stdout",
          "text": [
            "Paul 100 2022-12-31 20:35:41.136682\n"
          ]
        }
      ]
    },
    {
      "cell_type": "code",
      "source": [
        "emp3 = Employee(\"Carlos\", -10)\n",
        "print(emp3.name, emp3.salary, emp.hire_date)"
      ],
      "metadata": {
        "colab": {
          "base_uri": "https://localhost:8080/"
        },
        "id": "lzMu-JavNZC4",
        "outputId": "e20283f1-05cc-4d80-8276-d68e049de782"
      },
      "execution_count": 36,
      "outputs": [
        {
          "output_type": "stream",
          "name": "stdout",
          "text": [
            "Invalid salary!\n",
            "Carlos 0 2022-12-31 20:35:41.136682\n"
          ]
        }
      ]
    },
    {
      "cell_type": "markdown",
      "source": [
        "#### Write a class from scratch"
      ],
      "metadata": {
        "id": "MEvxS4vGRjES"
      }
    },
    {
      "cell_type": "code",
      "source": [
        "class Point:\n",
        "\n",
        "    def __init__(self, x=0.0, y=0.0):\n",
        "        self.x = x\n",
        "        self.y = y \n",
        "\n",
        "    def distance_to_origin(self):\n",
        "        return (self.x**2 + self.y**2) ** (1/2)\n",
        "\n",
        "    def reflect(self, axis):\n",
        "        if axis == \"x\":\n",
        "            self.y = -self.y \n",
        "        elif axis == \"y\":\n",
        "            self.x = -self.x \n",
        "        else:\n",
        "            print(\"Error: axis is invalid\")"
      ],
      "metadata": {
        "id": "XE1nJmU0Rng1"
      },
      "execution_count": 37,
      "outputs": []
    },
    {
      "cell_type": "code",
      "source": [
        "pt = Point(x=3.0)\n",
        "pt.reflect(\"y\")\n",
        "print(pt.x, pt.y)\n",
        "pt.y = 4.0\n",
        "print(pt.distance_to_origin())"
      ],
      "metadata": {
        "colab": {
          "base_uri": "https://localhost:8080/"
        },
        "id": "Or-YfITNRvRi",
        "outputId": "d39a5ca8-f66f-45a2-b6e6-fb11357e1f82"
      },
      "execution_count": 38,
      "outputs": [
        {
          "output_type": "stream",
          "name": "stdout",
          "text": [
            "-3.0 0.0\n",
            "5.0\n"
          ]
        }
      ]
    },
    {
      "cell_type": "markdown",
      "source": [
        "## Inheritance and Polymorphism"
      ],
      "metadata": {
        "id": "61q7stWGSd9S"
      }
    },
    {
      "cell_type": "markdown",
      "source": [
        "### Instance and class data"
      ],
      "metadata": {
        "id": "oRAWN8U_UDv5"
      }
    },
    {
      "cell_type": "code",
      "source": [
        "class Employee:\n",
        "    # A class attribute\n",
        "    MIN_SALARY = 30000 # <--- no `self`\n",
        "\n",
        "    def __init__(self, name, salary):\n",
        "        self.name = name\n",
        "\n",
        "        if salary >= Employee.MIN_SALARY:\n",
        "            self.salary = salary\n",
        "        else:\n",
        "            self.salary = Employee.MIN_SALARY\n",
        "    \n",
        "emp1 = Employee('Teo Mille', 50000)\n",
        "emp2 = Employee('Marta Popov', 20000)\n",
        "\n",
        "display(emp1.name, emp1.salary, emp1.MIN_SALARY)\n",
        "display(emp2.name, emp2.salary, emp2.MIN_SALARY)"
      ],
      "metadata": {
        "colab": {
          "base_uri": "https://localhost:8080/",
          "height": 125
        },
        "id": "aygg4Ags_TUC",
        "outputId": "4302dc4d-4bba-40d9-f44b-c9cb620ed104"
      },
      "execution_count": 39,
      "outputs": [
        {
          "output_type": "display_data",
          "data": {
            "text/plain": [
              "'Teo Mille'"
            ],
            "application/vnd.google.colaboratory.intrinsic+json": {
              "type": "string"
            }
          },
          "metadata": {}
        },
        {
          "output_type": "display_data",
          "data": {
            "text/plain": [
              "50000"
            ]
          },
          "metadata": {}
        },
        {
          "output_type": "display_data",
          "data": {
            "text/plain": [
              "30000"
            ]
          },
          "metadata": {}
        },
        {
          "output_type": "display_data",
          "data": {
            "text/plain": [
              "'Marta Popov'"
            ],
            "application/vnd.google.colaboratory.intrinsic+json": {
              "type": "string"
            }
          },
          "metadata": {}
        },
        {
          "output_type": "display_data",
          "data": {
            "text/plain": [
              "30000"
            ]
          },
          "metadata": {}
        },
        {
          "output_type": "display_data",
          "data": {
            "text/plain": [
              "30000"
            ]
          },
          "metadata": {}
        }
      ]
    },
    {
      "cell_type": "markdown",
      "source": [
        "#### Instance-level data\n",
        "\n",
        "- In the code above, `name` and `salary` are **instance attributes**\n",
        "- `self` binds to an instance "
      ],
      "metadata": {
        "id": "S7Su1cX5_yWQ"
      }
    },
    {
      "cell_type": "markdown",
      "source": [
        "#### Class-level data\n",
        "\n",
        "- In the code above, `MIN_SALARY` is a **class attribute**\n",
        "- Data shared among all instances of a class\n",
        "- Define class attributes in the body of a class\n",
        "- This is also a **global variable** within the class\n",
        "- Note that we don't use `self` to define class attributes\n",
        "- We can use the class name to access these attributes"
      ],
      "metadata": {
        "id": "g0XIEVfaAIM-"
      }
    },
    {
      "cell_type": "markdown",
      "source": [
        "#### Why use class attributes? (Global constants related to the class)\n",
        "\n",
        "- used for minimal or maximal values for attributes\n",
        "- for commonly used values and constants\n",
        "    - `pi` might be used in a `Circle` class"
      ],
      "metadata": {
        "id": "BRiIooWyCx0i"
      }
    },
    {
      "cell_type": "markdown",
      "source": [
        "#### Class methods\n",
        "\n",
        "- Regular methods are already shared between instances\n",
        "    - The same code gets executed for every instance\n",
        "    - The only difference is the data that is fed into it\n",
        "- It is possible to define methods bound to class rather than instances\n",
        "    - But these methods have a narrow application scope because they are not able to use any instance-level data\n",
        "    - To do this start with a `@classmethod` decorator\n",
        "    - Instead of `self`, use `cls`\n",
        "    - To call these methods, use **class-dot-method** syntax rather that **object-dot-method** syntax"
      ],
      "metadata": {
        "id": "l1-EbC2aDYpb"
      }
    },
    {
      "cell_type": "code",
      "source": [
        "class MyClass:\n",
        "\n",
        "    @classmethod\n",
        "    def my_awesome_method(cls, word):\n",
        "        # can't use any instance attributes\n",
        "        print(word)"
      ],
      "metadata": {
        "id": "19zmeumlEn6A"
      },
      "execution_count": 40,
      "outputs": []
    },
    {
      "cell_type": "code",
      "source": [
        "MyClass.my_awesome_method(\"hello\")"
      ],
      "metadata": {
        "colab": {
          "base_uri": "https://localhost:8080/"
        },
        "id": "xo07Iq38E5bo",
        "outputId": "87de1524-36f8-4c69-fcc6-d7579d0d25b0"
      },
      "execution_count": 41,
      "outputs": [
        {
          "output_type": "stream",
          "name": "stdout",
          "text": [
            "hello\n"
          ]
        }
      ]
    },
    {
      "cell_type": "code",
      "source": [
        "mc = MyClass()"
      ],
      "metadata": {
        "id": "BA5HeeSXE9N3"
      },
      "execution_count": 42,
      "outputs": []
    },
    {
      "cell_type": "code",
      "source": [
        "mc.my_awesome_method(\"goodbye\")"
      ],
      "metadata": {
        "colab": {
          "base_uri": "https://localhost:8080/"
        },
        "id": "hJNybUqAFA4B",
        "outputId": "a54701f8-621f-4448-ca35-246ca43db5ac"
      },
      "execution_count": 43,
      "outputs": [
        {
          "output_type": "stream",
          "name": "stdout",
          "text": [
            "goodbye\n"
          ]
        }
      ]
    },
    {
      "cell_type": "markdown",
      "source": [
        "#### Alternative constructors\n",
        "\n",
        "- Alternative constructors are the main use case for class methods\n",
        "- A class can only have one `__init__` method, but there might be multiple ways to initialize an object"
      ],
      "metadata": {
        "id": "J945wlo8Fdrt"
      }
    },
    {
      "cell_type": "code",
      "source": [
        "import base64\n",
        "import requests\n",
        "\n",
        "class Employee:\n",
        "   \n",
        "    MIN_SALARY = 30000\n",
        "\n",
        "    def __init__(self, name, salary):\n",
        "        self.name = name\n",
        "\n",
        "        if salary >= Employee.MIN_SALARY:\n",
        "            self.salary = salary\n",
        "        else:\n",
        "            self.salary = Employee.MIN_SALARY\n",
        "\n",
        "    # we can't use a regular method for an alternate \n",
        "    #   constructor, because an object has not\n",
        "    #   been created yet\n",
        "    @classmethod \n",
        "    def from_file(cls, filename):\n",
        "        req = requests.get(filename)\n",
        "        name = req.text\n",
        "        # the cls in the next line refers to the class\n",
        "        #  so it will call the `__init__` constructor\n",
        "        return cls(name, 70000)"
      ],
      "metadata": {
        "id": "PGM2wGE8F9W3"
      },
      "execution_count": 44,
      "outputs": []
    },
    {
      "cell_type": "code",
      "source": [
        "path = 'https://raw.githubusercontent.com/PaulToronto/'\n",
        "path += 'Math-and-Data-Science-Reference/main/'\n",
        "path += 'files/myfile.txt'\n"
      ],
      "metadata": {
        "id": "mu8t0aSPL0yq"
      },
      "execution_count": 45,
      "outputs": []
    },
    {
      "cell_type": "code",
      "source": [
        "emp1 = Employee(\"Paul\", 60000)\n",
        "emp2 = Employee.from_file(path)\n",
        "print(emp1.name, emp1.salary)\n",
        "print(emp2.name, emp2.salary)"
      ],
      "metadata": {
        "colab": {
          "base_uri": "https://localhost:8080/"
        },
        "id": "yxYHXJNRL-Gl",
        "outputId": "df04cf15-6900-403b-89ce-02b05d6b72d6"
      },
      "execution_count": 46,
      "outputs": [
        {
          "output_type": "stream",
          "name": "stdout",
          "text": [
            "Paul 60000\n",
            "Carlos 70000\n"
          ]
        }
      ]
    },
    {
      "cell_type": "markdown",
      "source": [
        "### Class-level attributes"
      ],
      "metadata": {
        "id": "Egzrpo4VQ862"
      }
    }
  ]
}